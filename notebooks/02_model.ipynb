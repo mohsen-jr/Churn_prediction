{
 "cells": [
  {
   "cell_type": "code",
   "execution_count": 9,
   "metadata": {},
   "outputs": [],
   "source": [
    "DF_PATH = r\"../data/raw/explored_df.pkl\"\n",
    "PROCESSED_PATH = r\"../data/processed\""
   ]
  },
  {
   "cell_type": "code",
   "execution_count": 46,
   "metadata": {},
   "outputs": [],
   "source": [
    "# Load packages\n",
    "import numpy as np\n",
    "import pandas as pd\n",
    "import matplotlib.pyplot as plt\n",
    "import seaborn as sns\n",
    "import os\n",
    "import pickle\n",
    "import joblib\n",
    "\n",
    "\n",
    "## skelarn -- models\n",
    "from sklearn.neighbors import KNeighborsClassifier\n",
    "from sklearn.ensemble import RandomForestClassifier\n",
    "from sklearn.linear_model import LogisticRegression\n",
    "from sklearn.svm import SVC\n",
    "from xgboost import XGBClassifier\n",
    "\n",
    "## sklearn -- metrics\n",
    "from sklearn.metrics import f1_score, confusion_matrix, classification_report, accuracy_score\n",
    "from sklearn.metrics import precision_score, recall_score, RocCurveDisplay, roc_auc_score\n",
    "\n",
    "## sklearn -- tuning\n",
    "from sklearn.model_selection import GridSearchCV, RandomizedSearchCV, KFold, cross_val_score\n"
   ]
  },
  {
   "cell_type": "markdown",
   "metadata": {},
   "source": [
    "### Load Processed Data"
   ]
  },
  {
   "cell_type": "code",
   "execution_count": 11,
   "metadata": {},
   "outputs": [
    {
     "name": "stdout",
     "output_type": "stream",
     "text": [
      "Train set: (5436, 23) (5436,)\n",
      "Validation set (1055, 23) (1055,)\n",
      "Test set unprocessed : (1318, 18) (1318,)\n"
     ]
    }
   ],
   "source": [
    "# load data with pickle\n",
    "def load_data(path):\n",
    "    with open(path, 'rb') as f:\n",
    "        return pickle.load(f)\n",
    "\n",
    "X_train = load_data(os.path.join(PROCESSED_PATH, 'X_train.pkl'))\n",
    "y_train = load_data(os.path.join(PROCESSED_PATH, 'y_train.pkl'))\n",
    "X_val = load_data(os.path.join(PROCESSED_PATH, 'X_val.pkl'))\n",
    "y_val = load_data(os.path.join(PROCESSED_PATH, 'y_val.pkl'))\n",
    "X_test  = load_data(os.path.join(PROCESSED_PATH, 'X_test.pkl'))\n",
    "y_test  = load_data(os.path.join(PROCESSED_PATH, 'y_test.pkl'))\n",
    "print('Train set:', X_train.shape, y_train.shape)\n",
    "print('Validation set', X_val.shape, y_val.shape)\n",
    "print('Test set unprocessed :', X_test .shape, y_test .shape)"
   ]
  },
  {
   "cell_type": "markdown",
   "metadata": {},
   "source": [
    "### Model Building without optimization\n",
    "- Try several classification models and find the outperforming one for later tuning"
   ]
  },
  {
   "cell_type": "code",
   "execution_count": 12,
   "metadata": {},
   "outputs": [],
   "source": [
    "models = []\n",
    "models.append(('Logistic Regression', LogisticRegression()))\n",
    "models.append(('Kernel SVM', SVC()))\n",
    "models.append(('KNN', KNeighborsClassifier()))\n",
    "models.append(('Random Forest', RandomForestClassifier()))\n",
    "models.append(('XGBoost', XGBClassifier()))"
   ]
  },
  {
   "cell_type": "code",
   "execution_count": 13,
   "metadata": {},
   "outputs": [
    {
     "data": {
      "text/html": [
       "<div>\n",
       "<style scoped>\n",
       "    .dataframe tbody tr th:only-of-type {\n",
       "        vertical-align: middle;\n",
       "    }\n",
       "\n",
       "    .dataframe tbody tr th {\n",
       "        vertical-align: top;\n",
       "    }\n",
       "\n",
       "    .dataframe thead th {\n",
       "        text-align: right;\n",
       "    }\n",
       "</style>\n",
       "<table border=\"1\" class=\"dataframe\">\n",
       "  <thead>\n",
       "    <tr style=\"text-align: right;\">\n",
       "      <th></th>\n",
       "      <th>Algorithm</th>\n",
       "      <th>ROC AUC</th>\n",
       "      <th>Accuracy</th>\n",
       "      <th>Precision</th>\n",
       "      <th>f1 Score</th>\n",
       "    </tr>\n",
       "  </thead>\n",
       "  <tbody>\n",
       "    <tr>\n",
       "      <th>3</th>\n",
       "      <td>Random Forest</td>\n",
       "      <td>89.48</td>\n",
       "      <td>96.07</td>\n",
       "      <td>90.07</td>\n",
       "      <td>90.67</td>\n",
       "    </tr>\n",
       "    <tr>\n",
       "      <th>4</th>\n",
       "      <td>XGBoost</td>\n",
       "      <td>88.39</td>\n",
       "      <td>95.83</td>\n",
       "      <td>89.46</td>\n",
       "      <td>89.77</td>\n",
       "    </tr>\n",
       "    <tr>\n",
       "      <th>1</th>\n",
       "      <td>Kernel SVM</td>\n",
       "      <td>83.33</td>\n",
       "      <td>92.03</td>\n",
       "      <td>86.83</td>\n",
       "      <td>84.62</td>\n",
       "    </tr>\n",
       "    <tr>\n",
       "      <th>0</th>\n",
       "      <td>Logistic Regression</td>\n",
       "      <td>83.22</td>\n",
       "      <td>91.48</td>\n",
       "      <td>87.07</td>\n",
       "      <td>84.44</td>\n",
       "    </tr>\n",
       "    <tr>\n",
       "      <th>2</th>\n",
       "      <td>KNN</td>\n",
       "      <td>82.17</td>\n",
       "      <td>90.30</td>\n",
       "      <td>89.31</td>\n",
       "      <td>82.79</td>\n",
       "    </tr>\n",
       "  </tbody>\n",
       "</table>\n",
       "</div>"
      ],
      "text/plain": [
       "             Algorithm  ROC AUC  Accuracy  Precision  f1 Score\n",
       "3        Random Forest    89.48     96.07      90.07     90.67\n",
       "4              XGBoost    88.39     95.83      89.46     89.77\n",
       "1           Kernel SVM    83.33     92.03      86.83     84.62\n",
       "0  Logistic Regression    83.22     91.48      87.07     84.44\n",
       "2                  KNN    82.17     90.30      89.31     82.79"
      ]
     },
     "execution_count": 13,
     "metadata": {},
     "output_type": "execute_result"
    }
   ],
   "source": [
    "acc_results =[]\n",
    "auc_results =[]\n",
    "pre_results =[]\n",
    "f1_results =[]\n",
    "names = []\n",
    "\n",
    "result_col = [\"Algorithm\", \"ROC AUC\", \"Accuracy\", \"Precision\", \"f1 Score\"]\n",
    "model_results = pd.DataFrame(columns = result_col)\n",
    "\n",
    "i=0\n",
    "# K- fold cross validation\n",
    "\n",
    "for name, model in models:\n",
    "    names.append(name)\n",
    "    \n",
    "    cv_acc_results = cross_val_score(model, X_train, y_train, \n",
    "                     scoring=\"accuracy\")\n",
    "    cv_auc_results = cross_val_score(model, X_train, y_train,\n",
    "                     scoring=\"roc_auc\")\n",
    "    cv_pre_results = cross_val_score(model, X_train, y_train,\n",
    "                     scoring=\"precision\")\n",
    "    cv_f1_results = cross_val_score(model, X_train, y_train,\n",
    "                     scoring=\"f1\")\n",
    "    acc_results.append(cv_acc_results)\n",
    "    auc_results.append(cv_auc_results)\n",
    "    pre_results.append(cv_pre_results)\n",
    "    f1_results.append(cv_f1_results)\n",
    "    \n",
    "    model_results.loc[i] = [name, \n",
    "                           round(cv_acc_results.mean()*100,2),\n",
    "                           round(cv_auc_results.mean()*100,2),\n",
    "                           round(cv_pre_results.mean()*100,2),\n",
    "                           round(cv_f1_results.mean()*100,2)]\n",
    "    i+=1\n",
    "\n",
    "model_results.sort_values(by = ['ROC AUC'], ascending=False)"
   ]
  },
  {
   "cell_type": "markdown",
   "metadata": {},
   "source": [
    "### Finding Good Hyper Parameters on above models indiviually\n",
    "- Random Forest"
   ]
  },
  {
   "cell_type": "code",
   "execution_count": 14,
   "metadata": {},
   "outputs": [
    {
     "data": {
      "text/html": [
       "<style>#sk-container-id-1 {color: black;background-color: white;}#sk-container-id-1 pre{padding: 0;}#sk-container-id-1 div.sk-toggleable {background-color: white;}#sk-container-id-1 label.sk-toggleable__label {cursor: pointer;display: block;width: 100%;margin-bottom: 0;padding: 0.3em;box-sizing: border-box;text-align: center;}#sk-container-id-1 label.sk-toggleable__label-arrow:before {content: \"▸\";float: left;margin-right: 0.25em;color: #696969;}#sk-container-id-1 label.sk-toggleable__label-arrow:hover:before {color: black;}#sk-container-id-1 div.sk-estimator:hover label.sk-toggleable__label-arrow:before {color: black;}#sk-container-id-1 div.sk-toggleable__content {max-height: 0;max-width: 0;overflow: hidden;text-align: left;background-color: #f0f8ff;}#sk-container-id-1 div.sk-toggleable__content pre {margin: 0.2em;color: black;border-radius: 0.25em;background-color: #f0f8ff;}#sk-container-id-1 input.sk-toggleable__control:checked~div.sk-toggleable__content {max-height: 200px;max-width: 100%;overflow: auto;}#sk-container-id-1 input.sk-toggleable__control:checked~label.sk-toggleable__label-arrow:before {content: \"▾\";}#sk-container-id-1 div.sk-estimator input.sk-toggleable__control:checked~label.sk-toggleable__label {background-color: #d4ebff;}#sk-container-id-1 div.sk-label input.sk-toggleable__control:checked~label.sk-toggleable__label {background-color: #d4ebff;}#sk-container-id-1 input.sk-hidden--visually {border: 0;clip: rect(1px 1px 1px 1px);clip: rect(1px, 1px, 1px, 1px);height: 1px;margin: -1px;overflow: hidden;padding: 0;position: absolute;width: 1px;}#sk-container-id-1 div.sk-estimator {font-family: monospace;background-color: #f0f8ff;border: 1px dotted black;border-radius: 0.25em;box-sizing: border-box;margin-bottom: 0.5em;}#sk-container-id-1 div.sk-estimator:hover {background-color: #d4ebff;}#sk-container-id-1 div.sk-parallel-item::after {content: \"\";width: 100%;border-bottom: 1px solid gray;flex-grow: 1;}#sk-container-id-1 div.sk-label:hover label.sk-toggleable__label {background-color: #d4ebff;}#sk-container-id-1 div.sk-serial::before {content: \"\";position: absolute;border-left: 1px solid gray;box-sizing: border-box;top: 0;bottom: 0;left: 50%;z-index: 0;}#sk-container-id-1 div.sk-serial {display: flex;flex-direction: column;align-items: center;background-color: white;padding-right: 0.2em;padding-left: 0.2em;position: relative;}#sk-container-id-1 div.sk-item {position: relative;z-index: 1;}#sk-container-id-1 div.sk-parallel {display: flex;align-items: stretch;justify-content: center;background-color: white;position: relative;}#sk-container-id-1 div.sk-item::before, #sk-container-id-1 div.sk-parallel-item::before {content: \"\";position: absolute;border-left: 1px solid gray;box-sizing: border-box;top: 0;bottom: 0;left: 50%;z-index: -1;}#sk-container-id-1 div.sk-parallel-item {display: flex;flex-direction: column;z-index: 1;position: relative;background-color: white;}#sk-container-id-1 div.sk-parallel-item:first-child::after {align-self: flex-end;width: 50%;}#sk-container-id-1 div.sk-parallel-item:last-child::after {align-self: flex-start;width: 50%;}#sk-container-id-1 div.sk-parallel-item:only-child::after {width: 0;}#sk-container-id-1 div.sk-dashed-wrapped {border: 1px dashed gray;margin: 0 0.4em 0.5em 0.4em;box-sizing: border-box;padding-bottom: 0.4em;background-color: white;}#sk-container-id-1 div.sk-label label {font-family: monospace;font-weight: bold;display: inline-block;line-height: 1.2em;}#sk-container-id-1 div.sk-label-container {text-align: center;}#sk-container-id-1 div.sk-container {/* jupyter's `normalize.less` sets `[hidden] { display: none; }` but bootstrap.min.css set `[hidden] { display: none !important; }` so we also need the `!important` here to be able to override the default hidden behavior on the sphinx rendered scikit-learn.org. See: https://github.com/scikit-learn/scikit-learn/issues/21755 */display: inline-block !important;position: relative;}#sk-container-id-1 div.sk-text-repr-fallback {display: none;}</style><div id=\"sk-container-id-1\" class=\"sk-top-container\"><div class=\"sk-text-repr-fallback\"><pre>RandomForestClassifier()</pre><b>In a Jupyter environment, please rerun this cell to show the HTML representation or trust the notebook. <br />On GitHub, the HTML representation is unable to render, please try loading this page with nbviewer.org.</b></div><div class=\"sk-container\" hidden><div class=\"sk-item\"><div class=\"sk-estimator sk-toggleable\"><input class=\"sk-toggleable__control sk-hidden--visually\" id=\"sk-estimator-id-1\" type=\"checkbox\" checked><label for=\"sk-estimator-id-1\" class=\"sk-toggleable__label sk-toggleable__label-arrow\">RandomForestClassifier</label><div class=\"sk-toggleable__content\"><pre>RandomForestClassifier()</pre></div></div></div></div></div>"
      ],
      "text/plain": [
       "RandomForestClassifier()"
      ]
     },
     "execution_count": 14,
     "metadata": {},
     "output_type": "execute_result"
    }
   ],
   "source": [
    "rf = RandomForestClassifier()\n",
    "rf.fit(X_train, y_train)"
   ]
  },
  {
   "cell_type": "code",
   "execution_count": 15,
   "metadata": {},
   "outputs": [
    {
     "name": "stdout",
     "output_type": "stream",
     "text": [
      "Training accuracy  1.000\n",
      "Validation accuracy  0.864\n"
     ]
    }
   ],
   "source": [
    "rf_pred_train = rf.predict(X_train)\n",
    "rf_pred_val = rf.predict(X_val)\n",
    "rf_acc_train = accuracy_score(rf_pred_train, y_train)\n",
    "rf_acc_val = accuracy_score(rf_pred_val, y_val)\n",
    "print(f'Training accuracy {rf_acc_train: .3f}') \n",
    "print(f'Validation accuracy {rf_acc_val: .3f}')"
   ]
  },
  {
   "cell_type": "markdown",
   "metadata": {},
   "source": [
    "#### Tuning Hyperparameters"
   ]
  },
  {
   "cell_type": "code",
   "execution_count": 19,
   "metadata": {},
   "outputs": [
    {
     "name": "stdout",
     "output_type": "stream",
     "text": [
      "Fitting 5 folds for each of 36 candidates, totalling 180 fits\n",
      "\n",
      "Best parameters found:\n",
      "{'max_features': 15, 'max_leaf_nodes': 24, 'n_estimators': 75}\n",
      "\n",
      "Grid scores:\n",
      "0.834 (+/-0.036) for {'max_features': 15, 'max_leaf_nodes': 8, 'n_estimators': 25}\n",
      "0.835 (+/-0.035) for {'max_features': 15, 'max_leaf_nodes': 8, 'n_estimators': 50}\n",
      "0.835 (+/-0.038) for {'max_features': 15, 'max_leaf_nodes': 8, 'n_estimators': 75}\n",
      "0.837 (+/-0.030) for {'max_features': 15, 'max_leaf_nodes': 8, 'n_estimators': 100}\n",
      "0.854 (+/-0.038) for {'max_features': 15, 'max_leaf_nodes': 16, 'n_estimators': 25}\n",
      "0.853 (+/-0.038) for {'max_features': 15, 'max_leaf_nodes': 16, 'n_estimators': 50}\n",
      "0.856 (+/-0.037) for {'max_features': 15, 'max_leaf_nodes': 16, 'n_estimators': 75}\n",
      "0.857 (+/-0.035) for {'max_features': 15, 'max_leaf_nodes': 16, 'n_estimators': 100}\n",
      "0.859 (+/-0.037) for {'max_features': 15, 'max_leaf_nodes': 24, 'n_estimators': 25}\n",
      "0.858 (+/-0.044) for {'max_features': 15, 'max_leaf_nodes': 24, 'n_estimators': 50}\n",
      "0.860 (+/-0.038) for {'max_features': 15, 'max_leaf_nodes': 24, 'n_estimators': 75}\n",
      "0.860 (+/-0.037) for {'max_features': 15, 'max_leaf_nodes': 24, 'n_estimators': 100}\n",
      "0.835 (+/-0.047) for {'max_features': 20, 'max_leaf_nodes': 8, 'n_estimators': 25}\n",
      "0.832 (+/-0.038) for {'max_features': 20, 'max_leaf_nodes': 8, 'n_estimators': 50}\n",
      "0.833 (+/-0.032) for {'max_features': 20, 'max_leaf_nodes': 8, 'n_estimators': 75}\n",
      "0.831 (+/-0.032) for {'max_features': 20, 'max_leaf_nodes': 8, 'n_estimators': 100}\n",
      "0.851 (+/-0.038) for {'max_features': 20, 'max_leaf_nodes': 16, 'n_estimators': 25}\n",
      "0.853 (+/-0.039) for {'max_features': 20, 'max_leaf_nodes': 16, 'n_estimators': 50}\n",
      "0.854 (+/-0.035) for {'max_features': 20, 'max_leaf_nodes': 16, 'n_estimators': 75}\n",
      "0.854 (+/-0.037) for {'max_features': 20, 'max_leaf_nodes': 16, 'n_estimators': 100}\n",
      "0.855 (+/-0.041) for {'max_features': 20, 'max_leaf_nodes': 24, 'n_estimators': 25}\n",
      "0.855 (+/-0.041) for {'max_features': 20, 'max_leaf_nodes': 24, 'n_estimators': 50}\n",
      "0.855 (+/-0.042) for {'max_features': 20, 'max_leaf_nodes': 24, 'n_estimators': 75}\n",
      "0.858 (+/-0.041) for {'max_features': 20, 'max_leaf_nodes': 24, 'n_estimators': 100}\n",
      "0.838 (+/-0.025) for {'max_features': 25, 'max_leaf_nodes': 8, 'n_estimators': 25}\n",
      "0.834 (+/-0.038) for {'max_features': 25, 'max_leaf_nodes': 8, 'n_estimators': 50}\n",
      "0.831 (+/-0.034) for {'max_features': 25, 'max_leaf_nodes': 8, 'n_estimators': 75}\n",
      "0.831 (+/-0.038) for {'max_features': 25, 'max_leaf_nodes': 8, 'n_estimators': 100}\n",
      "0.854 (+/-0.041) for {'max_features': 25, 'max_leaf_nodes': 16, 'n_estimators': 25}\n",
      "0.855 (+/-0.038) for {'max_features': 25, 'max_leaf_nodes': 16, 'n_estimators': 50}\n",
      "0.854 (+/-0.035) for {'max_features': 25, 'max_leaf_nodes': 16, 'n_estimators': 75}\n",
      "0.854 (+/-0.038) for {'max_features': 25, 'max_leaf_nodes': 16, 'n_estimators': 100}\n",
      "0.858 (+/-0.045) for {'max_features': 25, 'max_leaf_nodes': 24, 'n_estimators': 25}\n",
      "0.857 (+/-0.041) for {'max_features': 25, 'max_leaf_nodes': 24, 'n_estimators': 50}\n",
      "0.859 (+/-0.040) for {'max_features': 25, 'max_leaf_nodes': 24, 'n_estimators': 75}\n",
      "0.857 (+/-0.041) for {'max_features': 25, 'max_leaf_nodes': 24, 'n_estimators': 100}\n"
     ]
    }
   ],
   "source": [
    "tuned_parameters = [{'n_estimators': [25, 50, 75, 100],\n",
    "                     'max_features': [15, 20, 25],\n",
    "                     'max_leaf_nodes': [8, 16, 24]}] # hyperparameters to tune 'max_depth': [3, 5, 7, 10]\n",
    "\n",
    "rf_grid = GridSearchCV(RandomForestClassifier(), tuned_parameters, \n",
    "                   verbose=1, n_jobs=-1) # grid search model\n",
    "rf_grid.fit(X_train, y_train) \n",
    "\n",
    "print(\"\\nBest parameters found:\")\n",
    "print(rf_grid.best_params_) # best hyperparameter values\n",
    "\n",
    "print(\"\\nGrid scores:\")\n",
    "means = rf_grid.cv_results_['mean_test_score'] # mean accuracy with folds\n",
    "stds = rf_grid.cv_results_['std_test_score'] # standard deviation of accuracies\n",
    "# for each hyperparameter combination show mean +/- 2 standard-deviations \n",
    "for mean, std, params in zip(means, stds, rf_grid.cv_results_['params']):\n",
    "    print(\"%0.3f (+/-%0.03f) for %r\" %(mean, std * 2, params)) "
   ]
  },
  {
   "cell_type": "code",
   "execution_count": 21,
   "metadata": {},
   "outputs": [
    {
     "name": "stdout",
     "output_type": "stream",
     "text": [
      "RandomForestClassifier(max_features=15, max_leaf_nodes=24, n_estimators=75)\n",
      "Results on test data\n",
      "Val accuracy =  0.8588\n",
      "Val precision =  0.9118\n",
      "Val recall =  0.8889\n",
      "Classification report:\n",
      "              precision    recall  f1-score   support\n",
      "\n",
      "           0       0.74      0.78      0.76       299\n",
      "           1       0.91      0.89      0.90       756\n",
      "\n",
      "    accuracy                           0.86      1055\n",
      "   macro avg       0.82      0.84      0.83      1055\n",
      "weighted avg       0.86      0.86      0.86      1055\n",
      "\n",
      "Confusion matrix (Rows actual, Columns predicted):\n",
      "     0    1\n",
      "0  234   65\n",
      "1   84  672\n",
      "\n",
      "ROC curve\n"
     ]
    },
    {
     "data": {
      "image/png": "[encoded data removed]",
      "text/plain": [
       "<Figure size 432x288 with 1 Axes>"
      ]
     },
     "metadata": {
      "needs_background": "light"
     },
     "output_type": "display_data"
    }
   ],
   "source": [
    "# Specify non-default hyper-parameter values\n",
    "from sklearn.metrics import precision_score, recall_score, RocCurveDisplay\n",
    "\n",
    "\n",
    "max_features = 15\n",
    "max_leaf_nodes = 24 \n",
    "n_estimators = 75\n",
    "\n",
    "# Train and test model\n",
    "good_model_rf = RandomForestClassifier(max_leaf_nodes = max_leaf_nodes,\n",
    "                                    max_features = max_features, \n",
    "                                    n_estimators=n_estimators) \n",
    "\n",
    "print(good_model_rf) # display model parameters\n",
    "good_model_rf.fit(X_train, y_train) # train model\n",
    "pred_rf = good_model_rf.predict(X_val) \n",
    "\n",
    "print(\"Results on val data\")\n",
    "acc_rf = accuracy_score(y_val, pred_rf) \n",
    "prec_rf = precision_score(y_val, pred_rf) \n",
    "reca_rf = recall_score(y_val, pred_rf) \n",
    "\n",
    "print(f'Val accuracy = {acc_rf: .4f}') \n",
    "print(f'Val precision = {prec_rf: .4f}')\n",
    "print(f'Val recall = {reca_rf: .4f}') \n",
    "print(\"Classification report:\")\n",
    "print(classification_report(y_val, pred_rf))\n",
    "print(\"Confusion matrix (Rows actual, Columns predicted):\")\n",
    "print(pd.DataFrame(confusion_matrix(y_val, pred_rf)))\n",
    "\n",
    "print('\\nROC curve')\n",
    "RocCurveDisplay.from_estimator(good_model_rf, X_val, y_val)\n",
    "plt.show()"
   ]
  },
  {
   "cell_type": "markdown",
   "metadata": {},
   "source": [
    "- XGBoost\t"
   ]
  },
  {
   "cell_type": "code",
   "execution_count": 23,
   "metadata": {},
   "outputs": [
    {
     "data": {
      "text/html": [
       "<style>#sk-container-id-4 {color: black;background-color: white;}#sk-container-id-4 pre{padding: 0;}#sk-container-id-4 div.sk-toggleable {background-color: white;}#sk-container-id-4 label.sk-toggleable__label {cursor: pointer;display: block;width: 100%;margin-bottom: 0;padding: 0.3em;box-sizing: border-box;text-align: center;}#sk-container-id-4 label.sk-toggleable__label-arrow:before {content: \"▸\";float: left;margin-right: 0.25em;color: #696969;}#sk-container-id-4 label.sk-toggleable__label-arrow:hover:before {color: black;}#sk-container-id-4 div.sk-estimator:hover label.sk-toggleable__label-arrow:before {color: black;}#sk-container-id-4 div.sk-toggleable__content {max-height: 0;max-width: 0;overflow: hidden;text-align: left;background-color: #f0f8ff;}#sk-container-id-4 div.sk-toggleable__content pre {margin: 0.2em;color: black;border-radius: 0.25em;background-color: #f0f8ff;}#sk-container-id-4 input.sk-toggleable__control:checked~div.sk-toggleable__content {max-height: 200px;max-width: 100%;overflow: auto;}#sk-container-id-4 input.sk-toggleable__control:checked~label.sk-toggleable__label-arrow:before {content: \"▾\";}#sk-container-id-4 div.sk-estimator input.sk-toggleable__control:checked~label.sk-toggleable__label {background-color: #d4ebff;}#sk-container-id-4 div.sk-label input.sk-toggleable__control:checked~label.sk-toggleable__label {background-color: #d4ebff;}#sk-container-id-4 input.sk-hidden--visually {border: 0;clip: rect(1px 1px 1px 1px);clip: rect(1px, 1px, 1px, 1px);height: 1px;margin: -1px;overflow: hidden;padding: 0;position: absolute;width: 1px;}#sk-container-id-4 div.sk-estimator {font-family: monospace;background-color: #f0f8ff;border: 1px dotted black;border-radius: 0.25em;box-sizing: border-box;margin-bottom: 0.5em;}#sk-container-id-4 div.sk-estimator:hover {background-color: #d4ebff;}#sk-container-id-4 div.sk-parallel-item::after {content: \"\";width: 100%;border-bottom: 1px solid gray;flex-grow: 1;}#sk-container-id-4 div.sk-label:hover label.sk-toggleable__label {background-color: #d4ebff;}#sk-container-id-4 div.sk-serial::before {content: \"\";position: absolute;border-left: 1px solid gray;box-sizing: border-box;top: 0;bottom: 0;left: 50%;z-index: 0;}#sk-container-id-4 div.sk-serial {display: flex;flex-direction: column;align-items: center;background-color: white;padding-right: 0.2em;padding-left: 0.2em;position: relative;}#sk-container-id-4 div.sk-item {position: relative;z-index: 1;}#sk-container-id-4 div.sk-parallel {display: flex;align-items: stretch;justify-content: center;background-color: white;position: relative;}#sk-container-id-4 div.sk-item::before, #sk-container-id-4 div.sk-parallel-item::before {content: \"\";position: absolute;border-left: 1px solid gray;box-sizing: border-box;top: 0;bottom: 0;left: 50%;z-index: -1;}#sk-container-id-4 div.sk-parallel-item {display: flex;flex-direction: column;z-index: 1;position: relative;background-color: white;}#sk-container-id-4 div.sk-parallel-item:first-child::after {align-self: flex-end;width: 50%;}#sk-container-id-4 div.sk-parallel-item:last-child::after {align-self: flex-start;width: 50%;}#sk-container-id-4 div.sk-parallel-item:only-child::after {width: 0;}#sk-container-id-4 div.sk-dashed-wrapped {border: 1px dashed gray;margin: 0 0.4em 0.5em 0.4em;box-sizing: border-box;padding-bottom: 0.4em;background-color: white;}#sk-container-id-4 div.sk-label label {font-family: monospace;font-weight: bold;display: inline-block;line-height: 1.2em;}#sk-container-id-4 div.sk-label-container {text-align: center;}#sk-container-id-4 div.sk-container {/* jupyter's `normalize.less` sets `[hidden] { display: none; }` but bootstrap.min.css set `[hidden] { display: none !important; }` so we also need the `!important` here to be able to override the default hidden behavior on the sphinx rendered scikit-learn.org. See: https://github.com/scikit-learn/scikit-learn/issues/21755 */display: inline-block !important;position: relative;}#sk-container-id-4 div.sk-text-repr-fallback {display: none;}</style><div id=\"sk-container-id-4\" class=\"sk-top-container\"><div class=\"sk-text-repr-fallback\"><pre>XGBClassifier(base_score=None, booster=None, callbacks=None,\n",
       "              colsample_bylevel=None, colsample_bynode=None,\n",
       "              colsample_bytree=None, early_stopping_rounds=None,\n",
       "              enable_categorical=False, eval_metric=None, feature_types=None,\n",
       "              gamma=None, gpu_id=None, grow_policy=None, importance_type=None,\n",
       "              interaction_constraints=None, learning_rate=None, max_bin=None,\n",
       "              max_cat_threshold=None, max_cat_to_onehot=None,\n",
       "              max_delta_step=None, max_depth=None, max_leaves=None,\n",
       "              min_child_weight=None, missing=nan, monotone_constraints=None,\n",
       "              n_estimators=100, n_jobs=None, num_parallel_tree=None,\n",
       "              predictor=None, random_state=42, ...)</pre><b>In a Jupyter environment, please rerun this cell to show the HTML representation or trust the notebook. <br />On GitHub, the HTML representation is unable to render, please try loading this page with nbviewer.org.</b></div><div class=\"sk-container\" hidden><div class=\"sk-item\"><div class=\"sk-estimator sk-toggleable\"><input class=\"sk-toggleable__control sk-hidden--visually\" id=\"sk-estimator-id-4\" type=\"checkbox\" checked><label for=\"sk-estimator-id-4\" class=\"sk-toggleable__label sk-toggleable__label-arrow\">XGBClassifier</label><div class=\"sk-toggleable__content\"><pre>XGBClassifier(base_score=None, booster=None, callbacks=None,\n",
       "              colsample_bylevel=None, colsample_bynode=None,\n",
       "              colsample_bytree=None, early_stopping_rounds=None,\n",
       "              enable_categorical=False, eval_metric=None, feature_types=None,\n",
       "              gamma=None, gpu_id=None, grow_policy=None, importance_type=None,\n",
       "              interaction_constraints=None, learning_rate=None, max_bin=None,\n",
       "              max_cat_threshold=None, max_cat_to_onehot=None,\n",
       "              max_delta_step=None, max_depth=None, max_leaves=None,\n",
       "              min_child_weight=None, missing=nan, monotone_constraints=None,\n",
       "              n_estimators=100, n_jobs=None, num_parallel_tree=None,\n",
       "              predictor=None, random_state=42, ...)</pre></div></div></div></div></div>"
      ],
      "text/plain": [
       "XGBClassifier(base_score=None, booster=None, callbacks=None,\n",
       "              colsample_bylevel=None, colsample_bynode=None,\n",
       "              colsample_bytree=None, early_stopping_rounds=None,\n",
       "              enable_categorical=False, eval_metric=None, feature_types=None,\n",
       "              gamma=None, gpu_id=None, grow_policy=None, importance_type=None,\n",
       "              interaction_constraints=None, learning_rate=None, max_bin=None,\n",
       "              max_cat_threshold=None, max_cat_to_onehot=None,\n",
       "              max_delta_step=None, max_depth=None, max_leaves=None,\n",
       "              min_child_weight=None, missing=nan, monotone_constraints=None,\n",
       "              n_estimators=100, n_jobs=None, num_parallel_tree=None,\n",
       "              predictor=None, random_state=42, ...)"
      ]
     },
     "execution_count": 23,
     "metadata": {},
     "output_type": "execute_result"
    }
   ],
   "source": [
    "xgb = XGBClassifier(random_state=42)\n",
    "xgb.fit(X_train, y_train)"
   ]
  },
  {
   "cell_type": "code",
   "execution_count": 25,
   "metadata": {},
   "outputs": [
    {
     "name": "stdout",
     "output_type": "stream",
     "text": [
      "Training accuracy  0.992\n",
      "Validation accuracy  0.848\n"
     ]
    }
   ],
   "source": [
    "xgb_pred_train = xgb.predict(X_train)\n",
    "xgb_pred_val = xgb.predict(X_val)\n",
    "xgb_acc_train = accuracy_score(xgb_pred_train, y_train)\n",
    "xgb_acc_val = accuracy_score(xgb_pred_val, y_val)\n",
    "print(f'Training accuracy {xgb_acc_train: .3f}') \n",
    "print(f'Validation accuracy {xgb_acc_val: .3f}')"
   ]
  },
  {
   "cell_type": "markdown",
   "metadata": {},
   "source": [
    "#### Tuning Hyperparameter for XGBoost"
   ]
  },
  {
   "cell_type": "markdown",
   "metadata": {},
   "source": [
    "- `Reference`: https://www.kaggle.com/code/prashant111/a-guide-on-xgboost-hyperparameters-tuning\n",
    "- https://www.kaggle.com/code/michalbrezk/xgboost-classifier-and-hyperparameter-tuning-85"
   ]
  },
  {
   "cell_type": "markdown",
   "metadata": {},
   "source": [
    "- eta\n",
    "- gamma\n",
    "- max_depth\n",
    "- min_child_weight\n",
    "- max_delta_step\n",
    "- subsample \n",
    "- colsample_bytree, colsample_bylevel, colsample_bynode \n",
    "- lambda\n",
    "- alpha\n",
    "- tree_method\n",
    "- scale_pos_weight\n",
    "- max_leaves"
   ]
  },
  {
   "cell_type": "code",
   "execution_count": 27,
   "metadata": {},
   "outputs": [
    {
     "name": "stdout",
     "output_type": "stream",
     "text": [
      "Fitting 5 folds for each of 48 candidates, totalling 240 fits\n",
      "\n",
      "Best parameters found:\n",
      "{'booster': 'gbtree', 'gamma': 0.5, 'learning_rate': 0.1, 'n_estimators': 200, 'reg_alpha': 0.5, 'reg_lambda': 1}\n",
      "\n",
      "Grid scores:\n",
      "0.948 (+/-0.031) for {'booster': 'gbtree', 'gamma': 0.5, 'learning_rate': 0.05, 'n_estimators': 50, 'reg_alpha': 0.5, 'reg_lambda': 1}\n",
      "0.947 (+/-0.031) for {'booster': 'gbtree', 'gamma': 0.5, 'learning_rate': 0.05, 'n_estimators': 50, 'reg_alpha': 0.5, 'reg_lambda': 5}\n",
      "0.948 (+/-0.031) for {'booster': 'gbtree', 'gamma': 0.5, 'learning_rate': 0.05, 'n_estimators': 50, 'reg_alpha': 1, 'reg_lambda': 1}\n",
      "0.946 (+/-0.031) for {'booster': 'gbtree', 'gamma': 0.5, 'learning_rate': 0.05, 'n_estimators': 50, 'reg_alpha': 1, 'reg_lambda': 5}\n",
      "0.954 (+/-0.034) for {'booster': 'gbtree', 'gamma': 0.5, 'learning_rate': 0.05, 'n_estimators': 100, 'reg_alpha': 0.5, 'reg_lambda': 1}\n",
      "0.952 (+/-0.032) for {'booster': 'gbtree', 'gamma': 0.5, 'learning_rate': 0.05, 'n_estimators': 100, 'reg_alpha': 0.5, 'reg_lambda': 5}\n",
      "0.953 (+/-0.034) for {'booster': 'gbtree', 'gamma': 0.5, 'learning_rate': 0.05, 'n_estimators': 100, 'reg_alpha': 1, 'reg_lambda': 1}\n",
      "0.951 (+/-0.032) for {'booster': 'gbtree', 'gamma': 0.5, 'learning_rate': 0.05, 'n_estimators': 100, 'reg_alpha': 1, 'reg_lambda': 5}\n",
      "0.958 (+/-0.038) for {'booster': 'gbtree', 'gamma': 0.5, 'learning_rate': 0.05, 'n_estimators': 200, 'reg_alpha': 0.5, 'reg_lambda': 1}\n",
      "0.956 (+/-0.037) for {'booster': 'gbtree', 'gamma': 0.5, 'learning_rate': 0.05, 'n_estimators': 200, 'reg_alpha': 0.5, 'reg_lambda': 5}\n",
      "0.957 (+/-0.038) for {'booster': 'gbtree', 'gamma': 0.5, 'learning_rate': 0.05, 'n_estimators': 200, 'reg_alpha': 1, 'reg_lambda': 1}\n",
      "0.956 (+/-0.037) for {'booster': 'gbtree', 'gamma': 0.5, 'learning_rate': 0.05, 'n_estimators': 200, 'reg_alpha': 1, 'reg_lambda': 5}\n",
      "0.953 (+/-0.034) for {'booster': 'gbtree', 'gamma': 0.5, 'learning_rate': 0.1, 'n_estimators': 50, 'reg_alpha': 0.5, 'reg_lambda': 1}\n",
      "0.951 (+/-0.033) for {'booster': 'gbtree', 'gamma': 0.5, 'learning_rate': 0.1, 'n_estimators': 50, 'reg_alpha': 0.5, 'reg_lambda': 5}\n",
      "0.953 (+/-0.034) for {'booster': 'gbtree', 'gamma': 0.5, 'learning_rate': 0.1, 'n_estimators': 50, 'reg_alpha': 1, 'reg_lambda': 1}\n",
      "0.952 (+/-0.032) for {'booster': 'gbtree', 'gamma': 0.5, 'learning_rate': 0.1, 'n_estimators': 50, 'reg_alpha': 1, 'reg_lambda': 5}\n",
      "0.957 (+/-0.039) for {'booster': 'gbtree', 'gamma': 0.5, 'learning_rate': 0.1, 'n_estimators': 100, 'reg_alpha': 0.5, 'reg_lambda': 1}\n",
      "0.956 (+/-0.037) for {'booster': 'gbtree', 'gamma': 0.5, 'learning_rate': 0.1, 'n_estimators': 100, 'reg_alpha': 0.5, 'reg_lambda': 5}\n",
      "0.957 (+/-0.038) for {'booster': 'gbtree', 'gamma': 0.5, 'learning_rate': 0.1, 'n_estimators': 100, 'reg_alpha': 1, 'reg_lambda': 1}\n",
      "0.955 (+/-0.037) for {'booster': 'gbtree', 'gamma': 0.5, 'learning_rate': 0.1, 'n_estimators': 100, 'reg_alpha': 1, 'reg_lambda': 5}\n",
      "0.959 (+/-0.044) for {'booster': 'gbtree', 'gamma': 0.5, 'learning_rate': 0.1, 'n_estimators': 200, 'reg_alpha': 0.5, 'reg_lambda': 1}\n",
      "0.958 (+/-0.042) for {'booster': 'gbtree', 'gamma': 0.5, 'learning_rate': 0.1, 'n_estimators': 200, 'reg_alpha': 0.5, 'reg_lambda': 5}\n",
      "0.959 (+/-0.044) for {'booster': 'gbtree', 'gamma': 0.5, 'learning_rate': 0.1, 'n_estimators': 200, 'reg_alpha': 1, 'reg_lambda': 1}\n",
      "0.958 (+/-0.042) for {'booster': 'gbtree', 'gamma': 0.5, 'learning_rate': 0.1, 'n_estimators': 200, 'reg_alpha': 1, 'reg_lambda': 5}\n",
      "0.948 (+/-0.031) for {'booster': 'gbtree', 'gamma': 1, 'learning_rate': 0.05, 'n_estimators': 50, 'reg_alpha': 0.5, 'reg_lambda': 1}\n",
      "0.947 (+/-0.030) for {'booster': 'gbtree', 'gamma': 1, 'learning_rate': 0.05, 'n_estimators': 50, 'reg_alpha': 0.5, 'reg_lambda': 5}\n",
      "0.948 (+/-0.031) for {'booster': 'gbtree', 'gamma': 1, 'learning_rate': 0.05, 'n_estimators': 50, 'reg_alpha': 1, 'reg_lambda': 1}\n",
      "0.946 (+/-0.031) for {'booster': 'gbtree', 'gamma': 1, 'learning_rate': 0.05, 'n_estimators': 50, 'reg_alpha': 1, 'reg_lambda': 5}\n",
      "0.954 (+/-0.033) for {'booster': 'gbtree', 'gamma': 1, 'learning_rate': 0.05, 'n_estimators': 100, 'reg_alpha': 0.5, 'reg_lambda': 1}\n",
      "0.952 (+/-0.032) for {'booster': 'gbtree', 'gamma': 1, 'learning_rate': 0.05, 'n_estimators': 100, 'reg_alpha': 0.5, 'reg_lambda': 5}\n",
      "0.953 (+/-0.033) for {'booster': 'gbtree', 'gamma': 1, 'learning_rate': 0.05, 'n_estimators': 100, 'reg_alpha': 1, 'reg_lambda': 1}\n",
      "0.951 (+/-0.032) for {'booster': 'gbtree', 'gamma': 1, 'learning_rate': 0.05, 'n_estimators': 100, 'reg_alpha': 1, 'reg_lambda': 5}\n",
      "0.958 (+/-0.039) for {'booster': 'gbtree', 'gamma': 1, 'learning_rate': 0.05, 'n_estimators': 200, 'reg_alpha': 0.5, 'reg_lambda': 1}\n",
      "0.956 (+/-0.036) for {'booster': 'gbtree', 'gamma': 1, 'learning_rate': 0.05, 'n_estimators': 200, 'reg_alpha': 0.5, 'reg_lambda': 5}\n",
      "0.957 (+/-0.038) for {'booster': 'gbtree', 'gamma': 1, 'learning_rate': 0.05, 'n_estimators': 200, 'reg_alpha': 1, 'reg_lambda': 1}\n",
      "0.955 (+/-0.037) for {'booster': 'gbtree', 'gamma': 1, 'learning_rate': 0.05, 'n_estimators': 200, 'reg_alpha': 1, 'reg_lambda': 5}\n",
      "0.953 (+/-0.034) for {'booster': 'gbtree', 'gamma': 1, 'learning_rate': 0.1, 'n_estimators': 50, 'reg_alpha': 0.5, 'reg_lambda': 1}\n",
      "0.952 (+/-0.033) for {'booster': 'gbtree', 'gamma': 1, 'learning_rate': 0.1, 'n_estimators': 50, 'reg_alpha': 0.5, 'reg_lambda': 5}\n",
      "0.953 (+/-0.035) for {'booster': 'gbtree', 'gamma': 1, 'learning_rate': 0.1, 'n_estimators': 50, 'reg_alpha': 1, 'reg_lambda': 1}\n",
      "0.951 (+/-0.032) for {'booster': 'gbtree', 'gamma': 1, 'learning_rate': 0.1, 'n_estimators': 50, 'reg_alpha': 1, 'reg_lambda': 5}\n",
      "0.958 (+/-0.039) for {'booster': 'gbtree', 'gamma': 1, 'learning_rate': 0.1, 'n_estimators': 100, 'reg_alpha': 0.5, 'reg_lambda': 1}\n",
      "0.955 (+/-0.038) for {'booster': 'gbtree', 'gamma': 1, 'learning_rate': 0.1, 'n_estimators': 100, 'reg_alpha': 0.5, 'reg_lambda': 5}\n",
      "0.957 (+/-0.039) for {'booster': 'gbtree', 'gamma': 1, 'learning_rate': 0.1, 'n_estimators': 100, 'reg_alpha': 1, 'reg_lambda': 1}\n",
      "0.955 (+/-0.037) for {'booster': 'gbtree', 'gamma': 1, 'learning_rate': 0.1, 'n_estimators': 100, 'reg_alpha': 1, 'reg_lambda': 5}\n",
      "0.959 (+/-0.042) for {'booster': 'gbtree', 'gamma': 1, 'learning_rate': 0.1, 'n_estimators': 200, 'reg_alpha': 0.5, 'reg_lambda': 1}\n",
      "0.957 (+/-0.042) for {'booster': 'gbtree', 'gamma': 1, 'learning_rate': 0.1, 'n_estimators': 200, 'reg_alpha': 0.5, 'reg_lambda': 5}\n",
      "0.959 (+/-0.043) for {'booster': 'gbtree', 'gamma': 1, 'learning_rate': 0.1, 'n_estimators': 200, 'reg_alpha': 1, 'reg_lambda': 1}\n",
      "0.958 (+/-0.041) for {'booster': 'gbtree', 'gamma': 1, 'learning_rate': 0.1, 'n_estimators': 200, 'reg_alpha': 1, 'reg_lambda': 5}\n"
     ]
    }
   ],
   "source": [
    "params = {\n",
    "    'n_estimators': [50, 100, 200],\n",
    "    'learning_rate': [0.05,0.1],\n",
    "    'booster': ['gbtree'],\n",
    "    'gamma': [0.5, 1],\n",
    "    'reg_alpha': [0.5, 1],\n",
    "    'reg_lambda': [1, 5]\n",
    "}\n",
    "\n",
    "xgb_grid = GridSearchCV(XGBClassifier(n_jobs=-1), params, \n",
    "                   verbose=1, scoring='roc_auc') # grid search model\n",
    "xgb_grid.fit(X_train, y_train) \n",
    "\n",
    "print(\"\\nBest parameters found:\")\n",
    "print(xgb_grid.best_params_) # best hyperparameter values\n",
    "\n",
    "print(\"\\nGrid scores:\")\n",
    "means = xgb_grid.cv_results_['mean_test_score'] # mean accuracy with folds\n",
    "stds = xgb_grid.cv_results_['std_test_score'] # standard deviation of accuracies\n",
    "# for each hyperparameter combination show mean +/- 2 standard-deviations \n",
    "for mean, std, params in zip(means, stds, xgb_grid.cv_results_['params']):\n",
    "    print(\"%0.3f (+/-%0.03f) for %r\" %(mean, std * 2, params)) "
   ]
  },
  {
   "cell_type": "code",
   "execution_count": 28,
   "metadata": {},
   "outputs": [
    {
     "name": "stdout",
     "output_type": "stream",
     "text": [
      "XGBClassifier(base_score=None, booster='gbtree', callbacks=None,\n",
      "              colsample_bylevel=None, colsample_bynode=None,\n",
      "              colsample_bytree=None, early_stopping_rounds=None,\n",
      "              enable_categorical=False, eval_metric=None, feature_types=None,\n",
      "              gamma=0.5, gpu_id=None, grow_policy=None, importance_type=None,\n",
      "              interaction_constraints=None, learning_rate=0.1, max_bin=None,\n",
      "              max_cat_threshold=None, max_cat_to_onehot=None,\n",
      "              max_delta_step=None, max_depth=None, max_leaves=None,\n",
      "              min_child_weight=None, missing=nan, monotone_constraints=None,\n",
      "              n_estimators=200, n_jobs=None, num_parallel_tree=None,\n",
      "              predictor=None, random_state=42, ...)\n",
      "Results on val data\n",
      "Val accuracy =  0.8521\n",
      "Val precision =  0.8979\n",
      "Val recall =  0.8955\n",
      "Classification report:\n",
      "              precision    recall  f1-score   support\n",
      "\n",
      "           0       0.74      0.74      0.74       299\n",
      "           1       0.90      0.90      0.90       756\n",
      "\n",
      "    accuracy                           0.85      1055\n",
      "   macro avg       0.82      0.82      0.82      1055\n",
      "weighted avg       0.85      0.85      0.85      1055\n",
      "\n",
      "Confusion matrix (Rows actual, Columns predicted):\n",
      "     0    1\n",
      "0  222   77\n",
      "1   79  677\n",
      "\n",
      "ROC curve\n"
     ]
    },
    {
     "data": {
      "image/png": "[encoded data removed]",
      "text/plain": [
       "<Figure size 432x288 with 1 Axes>"
      ]
     },
     "metadata": {
      "needs_background": "light"
     },
     "output_type": "display_data"
    }
   ],
   "source": [
    "# Specify non-default hyper-parameter values\n",
    "\n",
    "booster = 'gbtree'\n",
    "gamma = 0.5\n",
    "learning_rate = 0.1\n",
    "n_estimators = 200\n",
    "reg_alpha = 0.5\n",
    "reg_lambda = 1\n",
    "\n",
    "# Train and test model\n",
    "good_model_xgb = XGBClassifier(booster = 'gbtree',\n",
    "                              gamma = 0.5,\n",
    "                              learning_rate = 0.1,\n",
    "                              n_estimators = 200,\n",
    "                              reg_alpha = 0.5,\n",
    "                              reg_lambda = 1, random_state=42) \n",
    "\n",
    "print(good_model_xgb) # display model parameters\n",
    "good_model_xgb.fit(X_train, y_train) # train model\n",
    "pred_xgb = good_model_xgb.predict(X_val) \n",
    "\n",
    "print(\"Results on val data\")\n",
    "acc_xgb = accuracy_score(y_val, pred_xgb) \n",
    "prec_xgb = precision_score(y_val, pred_xgb) \n",
    "reca_xgb = recall_score(y_val, pred_xgb) \n",
    "\n",
    "print(f'Val accuracy = {acc_xgb: .4f}') \n",
    "print(f'Val precision = {prec_xgb: .4f}')\n",
    "print(f'Val recall = {reca_xgb: .4f}') \n",
    "print(\"Classification report:\")\n",
    "print(classification_report(y_val, pred_xgb))\n",
    "print(\"Confusion matrix (Rows actual, Columns predicted):\")\n",
    "print(pd.DataFrame(confusion_matrix(y_val, pred_xgb)))\n",
    "\n",
    "print('\\nROC curve')\n",
    "RocCurveDisplay.from_estimator(good_model_xgb, X_val, y_val)\n",
    "plt.show()"
   ]
  },
  {
   "cell_type": "markdown",
   "metadata": {},
   "source": [
    "### Random Forest and XGBClassifier have very similar results"
   ]
  },
  {
   "cell_type": "markdown",
   "metadata": {},
   "source": [
    "- Kernel SVM"
   ]
  },
  {
   "cell_type": "code",
   "execution_count": 29,
   "metadata": {},
   "outputs": [
    {
     "data": {
      "text/html": [
       "<style>#sk-container-id-5 {color: black;background-color: white;}#sk-container-id-5 pre{padding: 0;}#sk-container-id-5 div.sk-toggleable {background-color: white;}#sk-container-id-5 label.sk-toggleable__label {cursor: pointer;display: block;width: 100%;margin-bottom: 0;padding: 0.3em;box-sizing: border-box;text-align: center;}#sk-container-id-5 label.sk-toggleable__label-arrow:before {content: \"▸\";float: left;margin-right: 0.25em;color: #696969;}#sk-container-id-5 label.sk-toggleable__label-arrow:hover:before {color: black;}#sk-container-id-5 div.sk-estimator:hover label.sk-toggleable__label-arrow:before {color: black;}#sk-container-id-5 div.sk-toggleable__content {max-height: 0;max-width: 0;overflow: hidden;text-align: left;background-color: #f0f8ff;}#sk-container-id-5 div.sk-toggleable__content pre {margin: 0.2em;color: black;border-radius: 0.25em;background-color: #f0f8ff;}#sk-container-id-5 input.sk-toggleable__control:checked~div.sk-toggleable__content {max-height: 200px;max-width: 100%;overflow: auto;}#sk-container-id-5 input.sk-toggleable__control:checked~label.sk-toggleable__label-arrow:before {content: \"▾\";}#sk-container-id-5 div.sk-estimator input.sk-toggleable__control:checked~label.sk-toggleable__label {background-color: #d4ebff;}#sk-container-id-5 div.sk-label input.sk-toggleable__control:checked~label.sk-toggleable__label {background-color: #d4ebff;}#sk-container-id-5 input.sk-hidden--visually {border: 0;clip: rect(1px 1px 1px 1px);clip: rect(1px, 1px, 1px, 1px);height: 1px;margin: -1px;overflow: hidden;padding: 0;position: absolute;width: 1px;}#sk-container-id-5 div.sk-estimator {font-family: monospace;background-color: #f0f8ff;border: 1px dotted black;border-radius: 0.25em;box-sizing: border-box;margin-bottom: 0.5em;}#sk-container-id-5 div.sk-estimator:hover {background-color: #d4ebff;}#sk-container-id-5 div.sk-parallel-item::after {content: \"\";width: 100%;border-bottom: 1px solid gray;flex-grow: 1;}#sk-container-id-5 div.sk-label:hover label.sk-toggleable__label {background-color: #d4ebff;}#sk-container-id-5 div.sk-serial::before {content: \"\";position: absolute;border-left: 1px solid gray;box-sizing: border-box;top: 0;bottom: 0;left: 50%;z-index: 0;}#sk-container-id-5 div.sk-serial {display: flex;flex-direction: column;align-items: center;background-color: white;padding-right: 0.2em;padding-left: 0.2em;position: relative;}#sk-container-id-5 div.sk-item {position: relative;z-index: 1;}#sk-container-id-5 div.sk-parallel {display: flex;align-items: stretch;justify-content: center;background-color: white;position: relative;}#sk-container-id-5 div.sk-item::before, #sk-container-id-5 div.sk-parallel-item::before {content: \"\";position: absolute;border-left: 1px solid gray;box-sizing: border-box;top: 0;bottom: 0;left: 50%;z-index: -1;}#sk-container-id-5 div.sk-parallel-item {display: flex;flex-direction: column;z-index: 1;position: relative;background-color: white;}#sk-container-id-5 div.sk-parallel-item:first-child::after {align-self: flex-end;width: 50%;}#sk-container-id-5 div.sk-parallel-item:last-child::after {align-self: flex-start;width: 50%;}#sk-container-id-5 div.sk-parallel-item:only-child::after {width: 0;}#sk-container-id-5 div.sk-dashed-wrapped {border: 1px dashed gray;margin: 0 0.4em 0.5em 0.4em;box-sizing: border-box;padding-bottom: 0.4em;background-color: white;}#sk-container-id-5 div.sk-label label {font-family: monospace;font-weight: bold;display: inline-block;line-height: 1.2em;}#sk-container-id-5 div.sk-label-container {text-align: center;}#sk-container-id-5 div.sk-container {/* jupyter's `normalize.less` sets `[hidden] { display: none; }` but bootstrap.min.css set `[hidden] { display: none !important; }` so we also need the `!important` here to be able to override the default hidden behavior on the sphinx rendered scikit-learn.org. See: https://github.com/scikit-learn/scikit-learn/issues/21755 */display: inline-block !important;position: relative;}#sk-container-id-5 div.sk-text-repr-fallback {display: none;}</style><div id=\"sk-container-id-5\" class=\"sk-top-container\"><div class=\"sk-text-repr-fallback\"><pre>SVC()</pre><b>In a Jupyter environment, please rerun this cell to show the HTML representation or trust the notebook. <br />On GitHub, the HTML representation is unable to render, please try loading this page with nbviewer.org.</b></div><div class=\"sk-container\" hidden><div class=\"sk-item\"><div class=\"sk-estimator sk-toggleable\"><input class=\"sk-toggleable__control sk-hidden--visually\" id=\"sk-estimator-id-5\" type=\"checkbox\" checked><label for=\"sk-estimator-id-5\" class=\"sk-toggleable__label sk-toggleable__label-arrow\">SVC</label><div class=\"sk-toggleable__content\"><pre>SVC()</pre></div></div></div></div></div>"
      ],
      "text/plain": [
       "SVC()"
      ]
     },
     "execution_count": 29,
     "metadata": {},
     "output_type": "execute_result"
    }
   ],
   "source": [
    "svc = SVC()\n",
    "svc.fit(X_train, y_train)"
   ]
  },
  {
   "cell_type": "code",
   "execution_count": 30,
   "metadata": {},
   "outputs": [
    {
     "name": "stdout",
     "output_type": "stream",
     "text": [
      "Training accuracy  0.843\n",
      "Validation accuracy  0.834\n"
     ]
    }
   ],
   "source": [
    "svc_pred_train = svc.predict(X_train)\n",
    "svc_pred_val = svc.predict(X_val)\n",
    "svc_acc_train = accuracy_score(svc_pred_train, y_train)\n",
    "svc_acc_val = accuracy_score(svc_pred_val, y_val)\n",
    "print(f'Training accuracy {svc_acc_train: .3f}') \n",
    "print(f'Validation accuracy {svc_acc_val: .3f}')"
   ]
  },
  {
   "cell_type": "markdown",
   "metadata": {},
   "source": [
    "#### Tuning The Hyperparameters of SVC"
   ]
  },
  {
   "cell_type": "code",
   "execution_count": 31,
   "metadata": {},
   "outputs": [
    {
     "name": "stdout",
     "output_type": "stream",
     "text": [
      "Fitting 5 folds for each of 18 candidates, totalling 90 fits\n",
      "\n",
      "Best parameters found:\n",
      "{'C': 3, 'gamma': 1, 'kernel': 'rbf'}\n",
      "\n",
      "Grid scores:\n",
      "0.829 (+/-0.032) for {'C': 1, 'gamma': 1, 'kernel': 'linear'}\n",
      "0.859 (+/-0.038) for {'C': 1, 'gamma': 1, 'kernel': 'rbf'}\n",
      "0.547 (+/-0.011) for {'C': 1, 'gamma': 1, 'kernel': 'sigmoid'}\n",
      "0.829 (+/-0.032) for {'C': 1, 'gamma': 'auto', 'kernel': 'linear'}\n",
      "0.826 (+/-0.024) for {'C': 1, 'gamma': 'auto', 'kernel': 'rbf'}\n",
      "0.797 (+/-0.022) for {'C': 1, 'gamma': 'auto', 'kernel': 'sigmoid'}\n",
      "0.830 (+/-0.028) for {'C': 2, 'gamma': 1, 'kernel': 'linear'}\n",
      "0.864 (+/-0.045) for {'C': 2, 'gamma': 1, 'kernel': 'rbf'}\n",
      "0.546 (+/-0.016) for {'C': 2, 'gamma': 1, 'kernel': 'sigmoid'}\n",
      "0.830 (+/-0.028) for {'C': 2, 'gamma': 'auto', 'kernel': 'linear'}\n",
      "0.831 (+/-0.025) for {'C': 2, 'gamma': 'auto', 'kernel': 'rbf'}\n",
      "0.777 (+/-0.031) for {'C': 2, 'gamma': 'auto', 'kernel': 'sigmoid'}\n",
      "0.830 (+/-0.031) for {'C': 3, 'gamma': 1, 'kernel': 'linear'}\n",
      "0.870 (+/-0.054) for {'C': 3, 'gamma': 1, 'kernel': 'rbf'}\n",
      "0.545 (+/-0.017) for {'C': 3, 'gamma': 1, 'kernel': 'sigmoid'}\n",
      "0.830 (+/-0.031) for {'C': 3, 'gamma': 'auto', 'kernel': 'linear'}\n",
      "0.832 (+/-0.024) for {'C': 3, 'gamma': 'auto', 'kernel': 'rbf'}\n",
      "0.773 (+/-0.023) for {'C': 3, 'gamma': 'auto', 'kernel': 'sigmoid'}\n"
     ]
    }
   ],
   "source": [
    "tuned_parameters = [{'kernel':['linear', 'rbf', 'sigmoid'], 'gamma':[1, 'auto'], 'C':[1, 2, 3]}] # hyperparameters to tune\n",
    "\n",
    "svc_grid= GridSearchCV(SVC(), tuned_parameters, \n",
    "                   verbose=1, n_jobs=-1) # grid search model\n",
    "svc_grid.fit(X_train,y_train) \n",
    "\n",
    "print(\"\\nBest parameters found:\")\n",
    "print(svc_grid.best_params_) # best hyperparameter values\n",
    "\n",
    "print(\"\\nGrid scores:\")\n",
    "meansvm = svc_grid.cv_results_['mean_test_score'] # mean accuracy with folds\n",
    "stdsvm = svc_grid.cv_results_['std_test_score'] # standard deviation of accuracies\n",
    "# for each hyperparameter combination show mean +/- 2 standard-deviations \n",
    "for mean, std, params in zip(meansvm, stdsvm, svc_grid.cv_results_['params']):\n",
    "    print(\"%0.3f (+/-%0.03f) for %r\" %(mean, std * 2, params)) "
   ]
  },
  {
   "cell_type": "code",
   "execution_count": 33,
   "metadata": {},
   "outputs": [
    {
     "name": "stdout",
     "output_type": "stream",
     "text": [
      "SVC(C=3, gamma=1, random_state=42)\n",
      "Results on val data\n",
      "Val accuracy =  0.8161\n",
      "Val precision =  0.8849\n",
      "Val recall =  0.8545\n",
      "Classification report:\n",
      "              precision    recall  f1-score   support\n",
      "\n",
      "           0       0.66      0.72      0.69       299\n",
      "           1       0.88      0.85      0.87       756\n",
      "\n",
      "    accuracy                           0.82      1055\n",
      "   macro avg       0.77      0.79      0.78      1055\n",
      "weighted avg       0.82      0.82      0.82      1055\n",
      "\n",
      "Confusion matrix (Rows actual, Columns predicted):\n",
      "     0    1\n",
      "0  215   84\n",
      "1  110  646\n",
      "\n",
      "ROC curve\n"
     ]
    },
    {
     "data": {
      "image/png": "[encoded data removed]",
      "text/plain": [
       "<Figure size 432x288 with 1 Axes>"
      ]
     },
     "metadata": {
      "needs_background": "light"
     },
     "output_type": "display_data"
    }
   ],
   "source": [
    "# Specify non-default hyper-parameter values\n",
    "\n",
    "C = 3\n",
    "gamma = 1\n",
    "kernel = 'rbf'\n",
    "\n",
    "# Train and test model\n",
    "good_model_svc = SVC(C = 3, gamma = 1, kernel = 'rbf', random_state=42) \n",
    "\n",
    "print(good_model_svc) # display model parameters\n",
    "good_model_svc.fit(X_train, y_train) # train model\n",
    "pred_svc = good_model_svc.predict(X_val) \n",
    "\n",
    "print(\"Results on val data\")\n",
    "acc_svc = accuracy_score(y_val, pred_svc) \n",
    "prec_svc = precision_score(y_val, pred_svc) \n",
    "reca_svc = recall_score(y_val, pred_svc) \n",
    "\n",
    "print(f'Val accuracy = {acc_svc: .4f}') \n",
    "print(f'Val precision = {prec_svc: .4f}')\n",
    "print(f'Val recall = {reca_svc: .4f}') \n",
    "print(\"Classification report:\")\n",
    "print(classification_report(y_val, pred_svc))\n",
    "print(\"Confusion matrix (Rows actual, Columns predicted):\")\n",
    "print(pd.DataFrame(confusion_matrix(y_val, pred_svc)))\n",
    "\n",
    "print('\\nROC curve')\n",
    "RocCurveDisplay.from_estimator(good_model_svc, X_val, y_val)\n",
    "plt.show()"
   ]
  },
  {
   "cell_type": "markdown",
   "metadata": {},
   "source": [
    "- Logistic Regression"
   ]
  },
  {
   "cell_type": "code",
   "execution_count": 34,
   "metadata": {},
   "outputs": [
    {
     "data": {
      "text/html": [
       "<style>#sk-container-id-6 {color: black;background-color: white;}#sk-container-id-6 pre{padding: 0;}#sk-container-id-6 div.sk-toggleable {background-color: white;}#sk-container-id-6 label.sk-toggleable__label {cursor: pointer;display: block;width: 100%;margin-bottom: 0;padding: 0.3em;box-sizing: border-box;text-align: center;}#sk-container-id-6 label.sk-toggleable__label-arrow:before {content: \"▸\";float: left;margin-right: 0.25em;color: #696969;}#sk-container-id-6 label.sk-toggleable__label-arrow:hover:before {color: black;}#sk-container-id-6 div.sk-estimator:hover label.sk-toggleable__label-arrow:before {color: black;}#sk-container-id-6 div.sk-toggleable__content {max-height: 0;max-width: 0;overflow: hidden;text-align: left;background-color: #f0f8ff;}#sk-container-id-6 div.sk-toggleable__content pre {margin: 0.2em;color: black;border-radius: 0.25em;background-color: #f0f8ff;}#sk-container-id-6 input.sk-toggleable__control:checked~div.sk-toggleable__content {max-height: 200px;max-width: 100%;overflow: auto;}#sk-container-id-6 input.sk-toggleable__control:checked~label.sk-toggleable__label-arrow:before {content: \"▾\";}#sk-container-id-6 div.sk-estimator input.sk-toggleable__control:checked~label.sk-toggleable__label {background-color: #d4ebff;}#sk-container-id-6 div.sk-label input.sk-toggleable__control:checked~label.sk-toggleable__label {background-color: #d4ebff;}#sk-container-id-6 input.sk-hidden--visually {border: 0;clip: rect(1px 1px 1px 1px);clip: rect(1px, 1px, 1px, 1px);height: 1px;margin: -1px;overflow: hidden;padding: 0;position: absolute;width: 1px;}#sk-container-id-6 div.sk-estimator {font-family: monospace;background-color: #f0f8ff;border: 1px dotted black;border-radius: 0.25em;box-sizing: border-box;margin-bottom: 0.5em;}#sk-container-id-6 div.sk-estimator:hover {background-color: #d4ebff;}#sk-container-id-6 div.sk-parallel-item::after {content: \"\";width: 100%;border-bottom: 1px solid gray;flex-grow: 1;}#sk-container-id-6 div.sk-label:hover label.sk-toggleable__label {background-color: #d4ebff;}#sk-container-id-6 div.sk-serial::before {content: \"\";position: absolute;border-left: 1px solid gray;box-sizing: border-box;top: 0;bottom: 0;left: 50%;z-index: 0;}#sk-container-id-6 div.sk-serial {display: flex;flex-direction: column;align-items: center;background-color: white;padding-right: 0.2em;padding-left: 0.2em;position: relative;}#sk-container-id-6 div.sk-item {position: relative;z-index: 1;}#sk-container-id-6 div.sk-parallel {display: flex;align-items: stretch;justify-content: center;background-color: white;position: relative;}#sk-container-id-6 div.sk-item::before, #sk-container-id-6 div.sk-parallel-item::before {content: \"\";position: absolute;border-left: 1px solid gray;box-sizing: border-box;top: 0;bottom: 0;left: 50%;z-index: -1;}#sk-container-id-6 div.sk-parallel-item {display: flex;flex-direction: column;z-index: 1;position: relative;background-color: white;}#sk-container-id-6 div.sk-parallel-item:first-child::after {align-self: flex-end;width: 50%;}#sk-container-id-6 div.sk-parallel-item:last-child::after {align-self: flex-start;width: 50%;}#sk-container-id-6 div.sk-parallel-item:only-child::after {width: 0;}#sk-container-id-6 div.sk-dashed-wrapped {border: 1px dashed gray;margin: 0 0.4em 0.5em 0.4em;box-sizing: border-box;padding-bottom: 0.4em;background-color: white;}#sk-container-id-6 div.sk-label label {font-family: monospace;font-weight: bold;display: inline-block;line-height: 1.2em;}#sk-container-id-6 div.sk-label-container {text-align: center;}#sk-container-id-6 div.sk-container {/* jupyter's `normalize.less` sets `[hidden] { display: none; }` but bootstrap.min.css set `[hidden] { display: none !important; }` so we also need the `!important` here to be able to override the default hidden behavior on the sphinx rendered scikit-learn.org. See: https://github.com/scikit-learn/scikit-learn/issues/21755 */display: inline-block !important;position: relative;}#sk-container-id-6 div.sk-text-repr-fallback {display: none;}</style><div id=\"sk-container-id-6\" class=\"sk-top-container\"><div class=\"sk-text-repr-fallback\"><pre>LogisticRegression()</pre><b>In a Jupyter environment, please rerun this cell to show the HTML representation or trust the notebook. <br />On GitHub, the HTML representation is unable to render, please try loading this page with nbviewer.org.</b></div><div class=\"sk-container\" hidden><div class=\"sk-item\"><div class=\"sk-estimator sk-toggleable\"><input class=\"sk-toggleable__control sk-hidden--visually\" id=\"sk-estimator-id-6\" type=\"checkbox\" checked><label for=\"sk-estimator-id-6\" class=\"sk-toggleable__label sk-toggleable__label-arrow\">LogisticRegression</label><div class=\"sk-toggleable__content\"><pre>LogisticRegression()</pre></div></div></div></div></div>"
      ],
      "text/plain": [
       "LogisticRegression()"
      ]
     },
     "execution_count": 34,
     "metadata": {},
     "output_type": "execute_result"
    }
   ],
   "source": [
    "lr = LogisticRegression()\n",
    "lr.fit(X_train, y_train)"
   ]
  },
  {
   "cell_type": "code",
   "execution_count": 35,
   "metadata": {},
   "outputs": [
    {
     "name": "stdout",
     "output_type": "stream",
     "text": [
      "Training accuracy  0.833\n",
      "Validation accuracy  0.827\n"
     ]
    }
   ],
   "source": [
    "lr_pred_train = lr.predict(X_train)\n",
    "lr_pred_val = lr.predict(X_val)\n",
    "lr_acc_train = accuracy_score(lr_pred_train, y_train)\n",
    "lr_acc_val = accuracy_score(lr_pred_val, y_val)\n",
    "print(f'Training accuracy {lr_acc_train: .3f}') \n",
    "print(f'Validation accuracy {lr_acc_val: .3f}')"
   ]
  },
  {
   "cell_type": "markdown",
   "metadata": {},
   "source": [
    "#### Tuning the Hyperparameters for LogisticRegression"
   ]
  },
  {
   "cell_type": "code",
   "execution_count": 36,
   "metadata": {},
   "outputs": [
    {
     "name": "stdout",
     "output_type": "stream",
     "text": [
      "Fitting 5 folds for each of 9 candidates, totalling 45 fits\n",
      "\n",
      "Best parameters found:\n",
      "{'C': 1000.0, 'max_iter': 500}\n",
      "\n",
      "Grid scores:\n",
      "0.833 (+/-0.023) for {'C': 10.0, 'max_iter': 500}\n",
      "0.833 (+/-0.023) for {'C': 10.0, 'max_iter': 1000}\n",
      "0.833 (+/-0.023) for {'C': 10.0, 'max_iter': 1500}\n",
      "0.833 (+/-0.021) for {'C': 100.0, 'max_iter': 500}\n",
      "0.833 (+/-0.021) for {'C': 100.0, 'max_iter': 1000}\n",
      "0.833 (+/-0.021) for {'C': 100.0, 'max_iter': 1500}\n",
      "0.833 (+/-0.021) for {'C': 1000.0, 'max_iter': 500}\n",
      "0.833 (+/-0.021) for {'C': 1000.0, 'max_iter': 1000}\n",
      "0.833 (+/-0.021) for {'C': 1000.0, 'max_iter': 1500}\n"
     ]
    }
   ],
   "source": [
    "tuned_parameters = [{'C': [10.0, 100.0, 1000.0],\n",
    "                     'max_iter': [500, 1000, 1500]}] # hyperparameters to tune\n",
    "\n",
    "lr_grid= GridSearchCV(LogisticRegression(), tuned_parameters, \n",
    "                   verbose=1, n_jobs=-1) # grid search model\n",
    "lr_grid.fit(X_train,y_train) \n",
    "\n",
    "print(\"\\nBest parameters found:\")\n",
    "print(lr_grid.best_params_) # best hyperparameter values\n",
    "\n",
    "print(\"\\nGrid scores:\")\n",
    "meanlr = lr_grid.cv_results_['mean_test_score'] # mean accuracy with folds\n",
    "stdlr = lr_grid.cv_results_['std_test_score'] # standard deviation of accuracies\n",
    "# for each hyperparameter combination show mean +/- 2 standard-deviations \n",
    "for mean, std, params in zip(meanlr, stdlr, lr_grid.cv_results_['params']):\n",
    "    print(\"%0.3f (+/-%0.03f) for %r\" %(mean, std * 2, params)) "
   ]
  },
  {
   "cell_type": "code",
   "execution_count": 37,
   "metadata": {},
   "outputs": [
    {
     "name": "stdout",
     "output_type": "stream",
     "text": [
      "LogisticRegression(C=1000.0, max_iter=500)\n",
      "Results on val data\n",
      "Val accuracy =  0.8237\n",
      "Val precision =  0.9318\n",
      "Val recall =  0.8135\n",
      "Classification report:\n",
      "              precision    recall  f1-score   support\n",
      "\n",
      "           0       0.64      0.85      0.73       299\n",
      "           1       0.93      0.81      0.87       756\n",
      "\n",
      "    accuracy                           0.82      1055\n",
      "   macro avg       0.79      0.83      0.80      1055\n",
      "weighted avg       0.85      0.82      0.83      1055\n",
      "\n",
      "Confusion matrix (Rows actual, Columns predicted):\n",
      "     0    1\n",
      "0  254   45\n",
      "1  141  615\n",
      "\n",
      "ROC curve\n"
     ]
    },
    {
     "data": {
      "image/png": "[encoded data removed]",
      "text/plain": [
       "<Figure size 432x288 with 1 Axes>"
      ]
     },
     "metadata": {
      "needs_background": "light"
     },
     "output_type": "display_data"
    }
   ],
   "source": [
    "# Specify non-default hyper-parameter values\n",
    "\n",
    "C = 1000.0\n",
    "max_iter = 500\n",
    "\n",
    "# Train and test model\n",
    "good_model_lr = LogisticRegression(C = 1000.0, max_iter = 500) \n",
    "\n",
    "print(good_model_lr) # display model parameters\n",
    "good_model_lr.fit(X_train, y_train) # train model\n",
    "pred_lr = good_model_lr.predict(X_val) \n",
    "\n",
    "print(\"Results on val data\")\n",
    "acc_lr = accuracy_score(y_val, pred_lr) \n",
    "prec_lr = precision_score(y_val, pred_lr) \n",
    "reca_lr = recall_score(y_val, pred_lr) \n",
    "\n",
    "print(f'Val accuracy = {acc_lr: .4f}') \n",
    "print(f'Val precision = {prec_lr: .4f}')\n",
    "print(f'Val recall = {reca_lr: .4f}') \n",
    "print(\"Classification report:\")\n",
    "print(classification_report(y_val, pred_lr))\n",
    "print(\"Confusion matrix (Rows actual, Columns predicted):\")\n",
    "print(pd.DataFrame(confusion_matrix(y_val, pred_lr)))\n",
    "\n",
    "print('\\nROC curve')\n",
    "RocCurveDisplay.from_estimator(good_model_lr, X_val, y_val)\n",
    "plt.show()"
   ]
  },
  {
   "cell_type": "code",
   "execution_count": 39,
   "metadata": {},
   "outputs": [
    {
     "data": {
      "text/plain": [
       "{'bootstrap': True,\n",
       " 'ccp_alpha': 0.0,\n",
       " 'class_weight': None,\n",
       " 'criterion': 'gini',\n",
       " 'max_depth': None,\n",
       " 'max_features': 15,\n",
       " 'max_leaf_nodes': 24,\n",
       " 'max_samples': None,\n",
       " 'min_impurity_decrease': 0.0,\n",
       " 'min_samples_leaf': 1,\n",
       " 'min_samples_split': 2,\n",
       " 'min_weight_fraction_leaf': 0.0,\n",
       " 'n_estimators': 75,\n",
       " 'n_jobs': None,\n",
       " 'oob_score': False,\n",
       " 'random_state': None,\n",
       " 'verbose': 0,\n",
       " 'warm_start': False}"
      ]
     },
     "execution_count": 39,
     "metadata": {},
     "output_type": "execute_result"
    }
   ],
   "source": [
    "good_model_rf.get_params()"
   ]
  },
  {
   "cell_type": "markdown",
   "metadata": {},
   "source": [
    "### Preview best model scores"
   ]
  },
  {
   "cell_type": "code",
   "execution_count": 41,
   "metadata": {},
   "outputs": [],
   "source": [
    "models_opt = []\n",
    "\n",
    "models_opt.append(('Logistic Regression', LogisticRegression(solver='lbfgs', C=1000, max_iter=1000, random_state=42)))\n",
    "models_opt.append(('Kernel SVM', SVC(C=3, gamma=1, kernel='rbf', random_state=42)))\n",
    "models_opt.append(('XGBoost', XGBClassifier(booster = 'gbtree', gamma = 0.5, learning_rate = 0.1, n_estimators = 200,\n",
    "                              reg_alpha = 0.5, reg_lambda = 1, random_state=42)))\n",
    "models_opt.append(('Random Forest', RandomForestClassifier(max_leaf_nodes=15, max_features=24, n_estimators=75, criterion='gini', random_state=42)))"
   ]
  },
  {
   "cell_type": "code",
   "execution_count": 45,
   "metadata": {},
   "outputs": [
    {
     "data": {
      "text/html": [
       "<div>\n",
       "<style scoped>\n",
       "    .dataframe tbody tr th:only-of-type {\n",
       "        vertical-align: middle;\n",
       "    }\n",
       "\n",
       "    .dataframe tbody tr th {\n",
       "        vertical-align: top;\n",
       "    }\n",
       "\n",
       "    .dataframe thead th {\n",
       "        text-align: right;\n",
       "    }\n",
       "</style>\n",
       "<table border=\"1\" class=\"dataframe\">\n",
       "  <thead>\n",
       "    <tr style=\"text-align: right;\">\n",
       "      <th></th>\n",
       "      <th>Algorithm</th>\n",
       "      <th>ROC AUC</th>\n",
       "      <th>Accuracy</th>\n",
       "      <th>Precision</th>\n",
       "      <th>F1 Scores</th>\n",
       "    </tr>\n",
       "  </thead>\n",
       "  <tbody>\n",
       "    <tr>\n",
       "      <th>2</th>\n",
       "      <td>XGBoost</td>\n",
       "      <td>95.94</td>\n",
       "      <td>88.65</td>\n",
       "      <td>89.61</td>\n",
       "      <td>89.99</td>\n",
       "    </tr>\n",
       "    <tr>\n",
       "      <th>1</th>\n",
       "      <td>Kernel SVM</td>\n",
       "      <td>93.90</td>\n",
       "      <td>86.96</td>\n",
       "      <td>91.32</td>\n",
       "      <td>87.91</td>\n",
       "    </tr>\n",
       "    <tr>\n",
       "      <th>3</th>\n",
       "      <td>Random Forest</td>\n",
       "      <td>93.22</td>\n",
       "      <td>85.36</td>\n",
       "      <td>85.97</td>\n",
       "      <td>87.01</td>\n",
       "    </tr>\n",
       "    <tr>\n",
       "      <th>0</th>\n",
       "      <td>Logistic Regression</td>\n",
       "      <td>91.63</td>\n",
       "      <td>83.33</td>\n",
       "      <td>87.28</td>\n",
       "      <td>84.53</td>\n",
       "    </tr>\n",
       "  </tbody>\n",
       "</table>\n",
       "</div>"
      ],
      "text/plain": [
       "             Algorithm  ROC AUC  Accuracy  Precision  F1 Scores\n",
       "2              XGBoost    95.94     88.65      89.61      89.99\n",
       "1           Kernel SVM    93.90     86.96      91.32      87.91\n",
       "3        Random Forest    93.22     85.36      85.97      87.01\n",
       "0  Logistic Regression    91.63     83.33      87.28      84.53"
      ]
     },
     "execution_count": 45,
     "metadata": {},
     "output_type": "execute_result"
    }
   ],
   "source": [
    "acc_results_opt =[]\n",
    "auc_results_opt =[]\n",
    "pre_results_opt =[]\n",
    "f1_results_opt =[]\n",
    "names_opt = []\n",
    "\n",
    "result_col_opt = [\"Algorithm\", \"ROC AUC\", \"Accuracy\", 'Precision', 'F1 Scores']\n",
    "model_results_opt = pd.DataFrame(columns = result_col_opt)\n",
    "\n",
    "i=0\n",
    "# K- fold cross validation\n",
    "\n",
    "for name, model in models_opt:\n",
    "    names_opt.append(name)\n",
    "    \n",
    "    cv_acc_results_opt = cross_val_score(model, X_train, y_train, scoring=\"accuracy\")\n",
    "    cv_auc_results_opt = cross_val_score(model, X_train, y_train, scoring=\"roc_auc\")\n",
    "    cv_pre_results_opt = cross_val_score(model, X_train, y_train, scoring=\"precision\")\n",
    "    cv_f1_results_opt = cross_val_score(model, X_train, y_train, scoring=\"f1\")\n",
    "\n",
    "    acc_results_opt.append(cv_acc_results_opt)\n",
    "    auc_results_opt.append(cv_auc_results_opt)\n",
    "    pre_results_opt.append(cv_pre_results_opt)\n",
    "    f1_results_opt.append(cv_f1_results_opt)\n",
    "    \n",
    "    model_results_opt.loc[i] = [name, \n",
    "                           round(cv_auc_results_opt.mean()*100,2),\n",
    "                           round(cv_acc_results_opt.mean()*100,2),\n",
    "                           round(cv_pre_results_opt.mean()*100,2),\n",
    "                           round(cv_f1_results_opt.mean()*100,2)]\n",
    "    i+=1\n",
    "\n",
    "model_results_opt.sort_values(by = ['ROC AUC'], ascending=False)"
   ]
  },
  {
   "cell_type": "code",
   "execution_count": 49,
   "metadata": {},
   "outputs": [
    {
     "data": {
      "text/html": [
       "<div>\n",
       "<style scoped>\n",
       "    .dataframe tbody tr th:only-of-type {\n",
       "        vertical-align: middle;\n",
       "    }\n",
       "\n",
       "    .dataframe tbody tr th {\n",
       "        vertical-align: top;\n",
       "    }\n",
       "\n",
       "    .dataframe thead th {\n",
       "        text-align: right;\n",
       "    }\n",
       "</style>\n",
       "<table border=\"1\" class=\"dataframe\">\n",
       "  <thead>\n",
       "    <tr style=\"text-align: right;\">\n",
       "      <th></th>\n",
       "      <th>Algorithm</th>\n",
       "      <th>ROC AUC</th>\n",
       "      <th>Accuracy</th>\n",
       "      <th>Precision</th>\n",
       "      <th>Recall</th>\n",
       "      <th>F1 Scores</th>\n",
       "    </tr>\n",
       "  </thead>\n",
       "  <tbody>\n",
       "    <tr>\n",
       "      <th>0</th>\n",
       "      <td>RandomForest</td>\n",
       "      <td>83.57</td>\n",
       "      <td>85.88</td>\n",
       "      <td>91.18</td>\n",
       "      <td>88.89</td>\n",
       "      <td>90.02</td>\n",
       "    </tr>\n",
       "    <tr>\n",
       "      <th>1</th>\n",
       "      <td>LogisticRegression</td>\n",
       "      <td>83.15</td>\n",
       "      <td>82.37</td>\n",
       "      <td>93.18</td>\n",
       "      <td>81.35</td>\n",
       "      <td>86.86</td>\n",
       "    </tr>\n",
       "    <tr>\n",
       "      <th>3</th>\n",
       "      <td>XGBoost</td>\n",
       "      <td>81.90</td>\n",
       "      <td>85.21</td>\n",
       "      <td>89.79</td>\n",
       "      <td>89.55</td>\n",
       "      <td>89.67</td>\n",
       "    </tr>\n",
       "    <tr>\n",
       "      <th>2</th>\n",
       "      <td>Kernel SVC</td>\n",
       "      <td>78.68</td>\n",
       "      <td>81.61</td>\n",
       "      <td>88.49</td>\n",
       "      <td>85.45</td>\n",
       "      <td>86.94</td>\n",
       "    </tr>\n",
       "  </tbody>\n",
       "</table>\n",
       "</div>"
      ],
      "text/plain": [
       "            Algorithm  ROC AUC  Accuracy  Precision  Recall  F1 Scores\n",
       "0        RandomForest    83.57     85.88      91.18   88.89      90.02\n",
       "1  LogisticRegression    83.15     82.37      93.18   81.35      86.86\n",
       "3             XGBoost    81.90     85.21      89.79   89.55      89.67\n",
       "2          Kernel SVC    78.68     81.61      88.49   85.45      86.94"
      ]
     },
     "execution_count": 49,
     "metadata": {},
     "output_type": "execute_result"
    }
   ],
   "source": [
    "# precision_score  recall_score\n",
    "\n",
    "acc_results_opt_val =[]\n",
    "auc_results_opt_val =[]\n",
    "pre_results_opt_val =[]\n",
    "f1_results_opt_val =[]\n",
    "rec_results_opt_val =[]\n",
    "names_opt_val = []\n",
    "good_models_names = [('RandomForest', pred_rf), ('LogisticRegression', pred_lr), ('Kernel SVC', pred_svc), ('XGBoost', pred_xgb)]\n",
    "\n",
    "result_col_opt = [\"Algorithm\", \"ROC AUC\", \"Accuracy\", 'Precision', 'Recall', 'F1 Scores']\n",
    "model_results_opt_val = pd.DataFrame(columns = result_col_opt)\n",
    "\n",
    "i=0\n",
    "# K- fold cross validation\n",
    "\n",
    "for name, y_pred in good_models_names:\n",
    "    names_opt_val.append(name)\n",
    "    \n",
    "    cv_acc_results_opt = accuracy_score(y_val, y_pred)\n",
    "    cv_auc_results_opt = roc_auc_score(y_val, y_pred)\n",
    "    cv_pre_results_opt = precision_score(y_val, y_pred)\n",
    "    cv_f1_results_opt = f1_score(y_val, y_pred)\n",
    "    cv_rec_results_opt = recall_score(y_val, y_pred)\n",
    "\n",
    "    acc_results_opt_val.append(cv_acc_results_opt)\n",
    "    auc_results_opt_val.append(cv_auc_results_opt)\n",
    "    pre_results_opt_val.append(cv_pre_results_opt)\n",
    "    f1_results_opt_val.append(cv_f1_results_opt)\n",
    "    rec_results_opt_val.append(cv_rec_results_opt)\n",
    "\n",
    "    model_results_opt_val.loc[i] = [name, \n",
    "                           round(cv_auc_results_opt.mean()*100,2),\n",
    "                           round(cv_acc_results_opt.mean()*100,2),\n",
    "                           round(cv_pre_results_opt.mean()*100,2),\n",
    "                           round(cv_rec_results_opt.mean()*100,2),\n",
    "                           round(cv_f1_results_opt.mean()*100,2)]\n",
    "    i+=1\n",
    "\n",
    "model_results_opt_val.sort_values(by = ['ROC AUC'], ascending=False)"
   ]
  },
  {
   "cell_type": "markdown",
   "metadata": {},
   "source": [
    "#### Best Model\n",
    "- `RandomForest` overperforms all models on `validation` set while `XGBoost` overperforms on `training` set"
   ]
  },
  {
   "cell_type": "markdown",
   "metadata": {},
   "source": [
    "### TODO\n",
    "- Combine training set and validation set together\n",
    "- Train RandomForest and XGBoost on the combined dataset\n",
    "- Evaluate on test data\n",
    "- Save best model for deployment"
   ]
  },
  {
   "cell_type": "markdown",
   "metadata": {},
   "source": [
    "### Saving RandomForest and XGBoost models for later use"
   ]
  },
  {
   "cell_type": "code",
   "execution_count": 51,
   "metadata": {},
   "outputs": [
    {
     "data": {
      "text/plain": [
       "['../models/min_XGBoost_tuned.pkl']"
      ]
     },
     "execution_count": 51,
     "metadata": {},
     "output_type": "execute_result"
    }
   ],
   "source": [
    "# saving RandomForest\n",
    "joblib.dump(good_model_rf, '../models/min_forest_tuned.pkl')\n",
    "\n",
    "# saving XGBoost\n",
    "joblib.dump(good_model_xgb,'../models/min_XGBoost_tuned.pkl')"
   ]
  }
 ],
 "metadata": {
  "kernelspec": {
   "display_name": "Python 3",
   "language": "python",
   "name": "python3"
  },
  "language_info": {
   "codemirror_mode": {
    "name": "ipython",
    "version": 3
   },
   "file_extension": ".py",
   "mimetype": "text/x-python",
   "name": "python",
   "nbconvert_exporter": "python",
   "pygments_lexer": "ipython3",
   "version": "3.10.3"
  },
  "orig_nbformat": 4
 },
 "nbformat": 4,
 "nbformat_minor": 2
}
