{
 "cells": [
  {
   "cell_type": "code",
   "execution_count": 3,
   "metadata": {},
   "outputs": [],
   "source": [
    "DF_PATH = r\"../data/raw/explored_df.pkl\"\n",
    "EXPORT_PATH = r\"../data/processed\"\n",
    "RAW_PATH = r\"../data/raw\""
   ]
  },
  {
   "cell_type": "code",
   "execution_count": 4,
   "metadata": {},
   "outputs": [],
   "source": [
    "# Load packages\n",
    "import numpy as np\n",
    "import pandas as pd\n",
    "import matplotlib.pyplot as plt\n",
    "import seaborn as sns\n",
    "import os\n",
    "import pickle\n",
    "import joblib\n",
    "\n",
    "## imbalance\n",
    "from imblearn.over_sampling import SMOTE\n",
    "\n",
    "## skelarn -- preprocessing\n",
    "from sklearn.model_selection import train_test_split\n",
    "from sklearn.impute import SimpleImputer\n",
    "from sklearn.preprocessing import OneHotEncoder, StandardScaler, OrdinalEncoder, LabelEncoder, MinMaxScaler\n",
    "from sklearn.pipeline import Pipeline, FeatureUnion\n",
    "from sklearn_features.transformers import DataFrameSelector\n",
    "\n",
    "## skelarn -- models\n",
    "from sklearn.neighbors import KNeighborsClassifier\n",
    "from sklearn.ensemble import RandomForestClassifier\n",
    "from sklearn.linear_model import LogisticRegression\n",
    "from sklearn.svm import SVC\n",
    "from xgboost import XGBClassifier\n",
    "\n",
    "## sklearn -- metrics\n",
    "from sklearn.metrics import f1_score, confusion_matrix, classification_report, accuracy_score\n",
    "from sklearn.metrics import precision_score, recall_score, RocCurveDisplay, roc_auc_score\n",
    "\n",
    "## sklearn -- tuning\n",
    "from sklearn.model_selection import GridSearchCV, RandomizedSearchCV, KFold, cross_val_score"
   ]
  },
  {
   "cell_type": "code",
   "execution_count": 5,
   "metadata": {},
   "outputs": [
    {
     "name": "stdout",
     "output_type": "stream",
     "text": [
      "Train set unprocessed: (5271, 18) (5271,)\n",
      "Test set unprocessed : (1318, 18) (1318,)\n"
     ]
    }
   ],
   "source": [
    "# load data with pickle\n",
    "def load_data(path):\n",
    "    with open(path, 'rb') as f:\n",
    "        return pickle.load(f)\n",
    "\n",
    "X_train = load_data(os.path.join(RAW_PATH, 'X_train_total.pkl'))\n",
    "y_train = load_data(os.path.join(RAW_PATH, 'y_train_total.pkl'))\n",
    "X_test  = load_data(os.path.join(EXPORT_PATH, 'X_test.pkl'))\n",
    "y_test  = load_data(os.path.join(EXPORT_PATH, 'y_test.pkl'))\n",
    "print('Train set unprocessed:', X_train.shape, y_train.shape)\n",
    "print('Test set unprocessed :', X_test.shape, y_test.shape)"
   ]
  },
  {
   "cell_type": "markdown",
   "metadata": {},
   "source": [
    "### Create pipeline to transform data"
   ]
  },
  {
   "cell_type": "code",
   "execution_count": 6,
   "metadata": {},
   "outputs": [],
   "source": [
    "num_cols = ['age', 'number_of_dependents', 'number_of_referrals', 'tenure_in_months', 'avg_monthly_long_distance_charges',\n",
    "            'avg_monthly_gb_download', 'total_revenue', 'enrolled_services']\n",
    "\n",
    "cat_cols = ['married', 'phone_service', 'multiple_lines', 'internet_service', 'unlimited_data', 'paperless_billing', 'offer', 'payment_method']\n",
    "\n",
    "ord_cols_1 = ['internet_type']\n",
    "ord_cols_2 = ['contract']"
   ]
  },
  {
   "cell_type": "code",
   "execution_count": 7,
   "metadata": {},
   "outputs": [
    {
     "name": "stderr",
     "output_type": "stream",
     "text": [
      "e:\\Epsilon_DS\\finalProject\\STREAMLIT\\lib\\site-packages\\sklearn\\utils\\validation.py:767: FutureWarning: is_sparse is deprecated and will be removed in a future version. Check `isinstance(dtype, pd.SparseDtype)` instead.\n",
      "  if not hasattr(array, \"sparse\") and array.dtypes.apply(is_sparse).any():\n",
      "e:\\Epsilon_DS\\finalProject\\STREAMLIT\\lib\\site-packages\\sklearn\\utils\\validation.py:605: FutureWarning: is_sparse is deprecated and will be removed in a future version. Check `isinstance(dtype, pd.SparseDtype)` instead.\n",
      "  if is_sparse(pd_dtype):\n",
      "e:\\Epsilon_DS\\finalProject\\STREAMLIT\\lib\\site-packages\\sklearn\\utils\\validation.py:614: FutureWarning: is_sparse is deprecated and will be removed in a future version. Check `isinstance(dtype, pd.SparseDtype)` instead.\n",
      "  if is_sparse(pd_dtype) or not is_extension_array_dtype(pd_dtype):\n",
      "e:\\Epsilon_DS\\finalProject\\STREAMLIT\\lib\\site-packages\\sklearn\\utils\\validation.py:767: FutureWarning: is_sparse is deprecated and will be removed in a future version. Check `isinstance(dtype, pd.SparseDtype)` instead.\n",
      "  if not hasattr(array, \"sparse\") and array.dtypes.apply(is_sparse).any():\n",
      "e:\\Epsilon_DS\\finalProject\\STREAMLIT\\lib\\site-packages\\sklearn\\utils\\validation.py:605: FutureWarning: is_sparse is deprecated and will be removed in a future version. Check `isinstance(dtype, pd.SparseDtype)` instead.\n",
      "  if is_sparse(pd_dtype):\n",
      "e:\\Epsilon_DS\\finalProject\\STREAMLIT\\lib\\site-packages\\sklearn\\utils\\validation.py:614: FutureWarning: is_sparse is deprecated and will be removed in a future version. Check `isinstance(dtype, pd.SparseDtype)` instead.\n",
      "  if is_sparse(pd_dtype) or not is_extension_array_dtype(pd_dtype):\n",
      "e:\\Epsilon_DS\\finalProject\\STREAMLIT\\lib\\site-packages\\sklearn\\utils\\validation.py:767: FutureWarning: is_sparse is deprecated and will be removed in a future version. Check `isinstance(dtype, pd.SparseDtype)` instead.\n",
      "  if not hasattr(array, \"sparse\") and array.dtypes.apply(is_sparse).any():\n",
      "e:\\Epsilon_DS\\finalProject\\STREAMLIT\\lib\\site-packages\\sklearn\\utils\\validation.py:605: FutureWarning: is_sparse is deprecated and will be removed in a future version. Check `isinstance(dtype, pd.SparseDtype)` instead.\n",
      "  if is_sparse(pd_dtype):\n",
      "e:\\Epsilon_DS\\finalProject\\STREAMLIT\\lib\\site-packages\\sklearn\\utils\\validation.py:614: FutureWarning: is_sparse is deprecated and will be removed in a future version. Check `isinstance(dtype, pd.SparseDtype)` instead.\n",
      "  if is_sparse(pd_dtype) or not is_extension_array_dtype(pd_dtype):\n",
      "e:\\Epsilon_DS\\finalProject\\STREAMLIT\\lib\\site-packages\\sklearn\\utils\\validation.py:767: FutureWarning: is_sparse is deprecated and will be removed in a future version. Check `isinstance(dtype, pd.SparseDtype)` instead.\n",
      "  if not hasattr(array, \"sparse\") and array.dtypes.apply(is_sparse).any():\n",
      "e:\\Epsilon_DS\\finalProject\\STREAMLIT\\lib\\site-packages\\sklearn\\utils\\validation.py:605: FutureWarning: is_sparse is deprecated and will be removed in a future version. Check `isinstance(dtype, pd.SparseDtype)` instead.\n",
      "  if is_sparse(pd_dtype):\n",
      "e:\\Epsilon_DS\\finalProject\\STREAMLIT\\lib\\site-packages\\sklearn\\utils\\validation.py:614: FutureWarning: is_sparse is deprecated and will be removed in a future version. Check `isinstance(dtype, pd.SparseDtype)` instead.\n",
      "  if is_sparse(pd_dtype) or not is_extension_array_dtype(pd_dtype):\n",
      "e:\\Epsilon_DS\\finalProject\\STREAMLIT\\lib\\site-packages\\sklearn\\utils\\validation.py:767: FutureWarning: is_sparse is deprecated and will be removed in a future version. Check `isinstance(dtype, pd.SparseDtype)` instead.\n",
      "  if not hasattr(array, \"sparse\") and array.dtypes.apply(is_sparse).any():\n",
      "e:\\Epsilon_DS\\finalProject\\STREAMLIT\\lib\\site-packages\\sklearn\\utils\\validation.py:605: FutureWarning: is_sparse is deprecated and will be removed in a future version. Check `isinstance(dtype, pd.SparseDtype)` instead.\n",
      "  if is_sparse(pd_dtype):\n",
      "e:\\Epsilon_DS\\finalProject\\STREAMLIT\\lib\\site-packages\\sklearn\\utils\\validation.py:614: FutureWarning: is_sparse is deprecated and will be removed in a future version. Check `isinstance(dtype, pd.SparseDtype)` instead.\n",
      "  if is_sparse(pd_dtype) or not is_extension_array_dtype(pd_dtype):\n",
      "e:\\Epsilon_DS\\finalProject\\STREAMLIT\\lib\\site-packages\\sklearn\\utils\\validation.py:767: FutureWarning: is_sparse is deprecated and will be removed in a future version. Check `isinstance(dtype, pd.SparseDtype)` instead.\n",
      "  if not hasattr(array, \"sparse\") and array.dtypes.apply(is_sparse).any():\n",
      "e:\\Epsilon_DS\\finalProject\\STREAMLIT\\lib\\site-packages\\sklearn\\utils\\validation.py:605: FutureWarning: is_sparse is deprecated and will be removed in a future version. Check `isinstance(dtype, pd.SparseDtype)` instead.\n",
      "  if is_sparse(pd_dtype):\n",
      "e:\\Epsilon_DS\\finalProject\\STREAMLIT\\lib\\site-packages\\sklearn\\utils\\validation.py:614: FutureWarning: is_sparse is deprecated and will be removed in a future version. Check `isinstance(dtype, pd.SparseDtype)` instead.\n",
      "  if is_sparse(pd_dtype) or not is_extension_array_dtype(pd_dtype):\n",
      "e:\\Epsilon_DS\\finalProject\\STREAMLIT\\lib\\site-packages\\sklearn\\utils\\validation.py:767: FutureWarning: is_sparse is deprecated and will be removed in a future version. Check `isinstance(dtype, pd.SparseDtype)` instead.\n",
      "  if not hasattr(array, \"sparse\") and array.dtypes.apply(is_sparse).any():\n",
      "e:\\Epsilon_DS\\finalProject\\STREAMLIT\\lib\\site-packages\\sklearn\\utils\\validation.py:605: FutureWarning: is_sparse is deprecated and will be removed in a future version. Check `isinstance(dtype, pd.SparseDtype)` instead.\n",
      "  if is_sparse(pd_dtype):\n",
      "e:\\Epsilon_DS\\finalProject\\STREAMLIT\\lib\\site-packages\\sklearn\\utils\\validation.py:614: FutureWarning: is_sparse is deprecated and will be removed in a future version. Check `isinstance(dtype, pd.SparseDtype)` instead.\n",
      "  if is_sparse(pd_dtype) or not is_extension_array_dtype(pd_dtype):\n",
      "e:\\Epsilon_DS\\finalProject\\STREAMLIT\\lib\\site-packages\\sklearn\\utils\\validation.py:767: FutureWarning: is_sparse is deprecated and will be removed in a future version. Check `isinstance(dtype, pd.SparseDtype)` instead.\n",
      "  if not hasattr(array, \"sparse\") and array.dtypes.apply(is_sparse).any():\n",
      "e:\\Epsilon_DS\\finalProject\\STREAMLIT\\lib\\site-packages\\sklearn\\utils\\validation.py:605: FutureWarning: is_sparse is deprecated and will be removed in a future version. Check `isinstance(dtype, pd.SparseDtype)` instead.\n",
      "  if is_sparse(pd_dtype):\n",
      "e:\\Epsilon_DS\\finalProject\\STREAMLIT\\lib\\site-packages\\sklearn\\utils\\validation.py:614: FutureWarning: is_sparse is deprecated and will be removed in a future version. Check `isinstance(dtype, pd.SparseDtype)` instead.\n",
      "  if is_sparse(pd_dtype) or not is_extension_array_dtype(pd_dtype):\n",
      "e:\\Epsilon_DS\\finalProject\\STREAMLIT\\lib\\site-packages\\sklearn\\utils\\validation.py:767: FutureWarning: is_sparse is deprecated and will be removed in a future version. Check `isinstance(dtype, pd.SparseDtype)` instead.\n",
      "  if not hasattr(array, \"sparse\") and array.dtypes.apply(is_sparse).any():\n",
      "e:\\Epsilon_DS\\finalProject\\STREAMLIT\\lib\\site-packages\\sklearn\\utils\\validation.py:605: FutureWarning: is_sparse is deprecated and will be removed in a future version. Check `isinstance(dtype, pd.SparseDtype)` instead.\n",
      "  if is_sparse(pd_dtype):\n",
      "e:\\Epsilon_DS\\finalProject\\STREAMLIT\\lib\\site-packages\\sklearn\\utils\\validation.py:614: FutureWarning: is_sparse is deprecated and will be removed in a future version. Check `isinstance(dtype, pd.SparseDtype)` instead.\n",
      "  if is_sparse(pd_dtype) or not is_extension_array_dtype(pd_dtype):\n",
      "e:\\Epsilon_DS\\finalProject\\STREAMLIT\\lib\\site-packages\\sklearn\\utils\\validation.py:767: FutureWarning: is_sparse is deprecated and will be removed in a future version. Check `isinstance(dtype, pd.SparseDtype)` instead.\n",
      "  if not hasattr(array, \"sparse\") and array.dtypes.apply(is_sparse).any():\n",
      "e:\\Epsilon_DS\\finalProject\\STREAMLIT\\lib\\site-packages\\sklearn\\utils\\validation.py:605: FutureWarning: is_sparse is deprecated and will be removed in a future version. Check `isinstance(dtype, pd.SparseDtype)` instead.\n",
      "  if is_sparse(pd_dtype):\n",
      "e:\\Epsilon_DS\\finalProject\\STREAMLIT\\lib\\site-packages\\sklearn\\utils\\validation.py:614: FutureWarning: is_sparse is deprecated and will be removed in a future version. Check `isinstance(dtype, pd.SparseDtype)` instead.\n",
      "  if is_sparse(pd_dtype) or not is_extension_array_dtype(pd_dtype):\n",
      "e:\\Epsilon_DS\\finalProject\\STREAMLIT\\lib\\site-packages\\sklearn\\utils\\validation.py:767: FutureWarning: is_sparse is deprecated and will be removed in a future version. Check `isinstance(dtype, pd.SparseDtype)` instead.\n",
      "  if not hasattr(array, \"sparse\") and array.dtypes.apply(is_sparse).any():\n",
      "e:\\Epsilon_DS\\finalProject\\STREAMLIT\\lib\\site-packages\\sklearn\\utils\\validation.py:605: FutureWarning: is_sparse is deprecated and will be removed in a future version. Check `isinstance(dtype, pd.SparseDtype)` instead.\n",
      "  if is_sparse(pd_dtype):\n",
      "e:\\Epsilon_DS\\finalProject\\STREAMLIT\\lib\\site-packages\\sklearn\\utils\\validation.py:614: FutureWarning: is_sparse is deprecated and will be removed in a future version. Check `isinstance(dtype, pd.SparseDtype)` instead.\n",
      "  if is_sparse(pd_dtype) or not is_extension_array_dtype(pd_dtype):\n",
      "e:\\Epsilon_DS\\finalProject\\STREAMLIT\\lib\\site-packages\\sklearn\\utils\\validation.py:767: FutureWarning: is_sparse is deprecated and will be removed in a future version. Check `isinstance(dtype, pd.SparseDtype)` instead.\n",
      "  if not hasattr(array, \"sparse\") and array.dtypes.apply(is_sparse).any():\n",
      "e:\\Epsilon_DS\\finalProject\\STREAMLIT\\lib\\site-packages\\sklearn\\utils\\validation.py:605: FutureWarning: is_sparse is deprecated and will be removed in a future version. Check `isinstance(dtype, pd.SparseDtype)` instead.\n",
      "  if is_sparse(pd_dtype):\n",
      "e:\\Epsilon_DS\\finalProject\\STREAMLIT\\lib\\site-packages\\sklearn\\utils\\validation.py:614: FutureWarning: is_sparse is deprecated and will be removed in a future version. Check `isinstance(dtype, pd.SparseDtype)` instead.\n",
      "  if is_sparse(pd_dtype) or not is_extension_array_dtype(pd_dtype):\n"
     ]
    }
   ],
   "source": [
    "## Pipeline\n",
    "\n",
    "## Numerical: num_cols --> Imputing using median, and standardscaler\n",
    "## Categorical: cat_cols ---> Imputing using mode, and OHE\n",
    "## Ordinal: ord_cols_1, ord_cols_2 ---> Imputing using mode, and ordinalEncoder\n",
    "\n",
    "## For Numerical\n",
    "num_pipeline = Pipeline(steps=[\n",
    "                        ('selector', DataFrameSelector(num_cols)),\n",
    "                        ('imputer', SimpleImputer(strategy='median')),\n",
    "                        ('scaler', MinMaxScaler())\n",
    "                    ])\n",
    "\n",
    "\n",
    "## For Categorical\n",
    "cat_pipeline = Pipeline(steps=[\n",
    "                        ('selector', DataFrameSelector(cat_cols)),\n",
    "                        ('imputer', SimpleImputer(strategy='most_frequent')),\n",
    "                        ('ohe', OneHotEncoder(drop='first', sparse_output=False))\n",
    "                    ])\n",
    "\n",
    "\n",
    "## For ord_cols_1\n",
    "ordinal_pipeline_1 = Pipeline(steps=[\n",
    "                        ('selector', DataFrameSelector(ord_cols_1)),\n",
    "                        ('imputer', SimpleImputer(strategy='most_frequent')),\n",
    "                        ('encoder',OrdinalEncoder(categories=[['No', 'Cable', 'DSL', 'Fiber Optic']]))\n",
    "                    ])\n",
    "\n",
    "\n",
    "## For ord_cols_1\n",
    "ordinal_pipeline_2 = Pipeline(steps=[\n",
    "                        ('selector', DataFrameSelector(ord_cols_2)),\n",
    "                        ('imputer', SimpleImputer(strategy='most_frequent')),\n",
    "                        ('encoder',OrdinalEncoder(categories=[['Month-to-Month', 'One Year', 'Two Year']]))\n",
    "                    ])\n",
    "\n",
    "\n",
    "## combine all\n",
    "all_pipeline = FeatureUnion(transformer_list=[\n",
    "                                    ('numerical', num_pipeline),\n",
    "                                    ('categorical', cat_pipeline),\n",
    "                                    ('ord_1', ordinal_pipeline_1),\n",
    "                                    ('ord_2', ordinal_pipeline_2)\n",
    "                                ])\n",
    "\n",
    "## apply\n",
    "X_train_final = all_pipeline.fit_transform(X_train)\n",
    "X_test_final = all_pipeline.transform(X_test)"
   ]
  },
  {
   "cell_type": "code",
   "execution_count": 8,
   "metadata": {},
   "outputs": [
    {
     "data": {
      "text/plain": [
       "['../models/pipeline.pkl']"
      ]
     },
     "execution_count": 8,
     "metadata": {},
     "output_type": "execute_result"
    }
   ],
   "source": [
    "joblib.dump(all_pipeline, '../models/pipeline.pkl')"
   ]
  },
  {
   "cell_type": "code",
   "execution_count": 9,
   "metadata": {},
   "outputs": [
    {
     "name": "stdout",
     "output_type": "stream",
     "text": [
      "(5271, 22)\n",
      "(1318, 22)\n"
     ]
    }
   ],
   "source": [
    "print(X_train_final.shape)\n",
    "print(X_test_final.shape)"
   ]
  },
  {
   "cell_type": "markdown",
   "metadata": {},
   "source": [
    "### Solving class imbalance using SMOTE for over sampling"
   ]
  },
  {
   "cell_type": "code",
   "execution_count": 10,
   "metadata": {},
   "outputs": [
    {
     "name": "stderr",
     "output_type": "stream",
     "text": [
      "e:\\Epsilon_DS\\finalProject\\STREAMLIT\\lib\\site-packages\\sklearn\\utils\\validation.py:605: FutureWarning: is_sparse is deprecated and will be removed in a future version. Check `isinstance(dtype, pd.SparseDtype)` instead.\n",
      "  if is_sparse(pd_dtype):\n",
      "e:\\Epsilon_DS\\finalProject\\STREAMLIT\\lib\\site-packages\\sklearn\\utils\\validation.py:614: FutureWarning: is_sparse is deprecated and will be removed in a future version. Check `isinstance(dtype, pd.SparseDtype)` instead.\n",
      "  if is_sparse(pd_dtype) or not is_extension_array_dtype(pd_dtype):\n",
      "e:\\Epsilon_DS\\finalProject\\STREAMLIT\\lib\\site-packages\\sklearn\\utils\\validation.py:605: FutureWarning: is_sparse is deprecated and will be removed in a future version. Check `isinstance(dtype, pd.SparseDtype)` instead.\n",
      "  if is_sparse(pd_dtype):\n",
      "e:\\Epsilon_DS\\finalProject\\STREAMLIT\\lib\\site-packages\\sklearn\\utils\\validation.py:614: FutureWarning: is_sparse is deprecated and will be removed in a future version. Check `isinstance(dtype, pd.SparseDtype)` instead.\n",
      "  if is_sparse(pd_dtype) or not is_extension_array_dtype(pd_dtype):\n"
     ]
    }
   ],
   "source": [
    "# transform target\n",
    "le = LabelEncoder()\n",
    "y_train_final = le.fit_transform(y_train)\n",
    "y_test_final = le.transform(y_test)"
   ]
  },
  {
   "cell_type": "code",
   "execution_count": 11,
   "metadata": {},
   "outputs": [
    {
     "name": "stdout",
     "output_type": "stream",
     "text": [
      "[1 0 1 1 1]\n",
      "[1 0 1 1 1]\n"
     ]
    }
   ],
   "source": [
    "print(y_train_final[:5])\n",
    "print(y_test_final[:5])"
   ]
  },
  {
   "cell_type": "code",
   "execution_count": 12,
   "metadata": {},
   "outputs": [],
   "source": [
    "over = SMOTE(sampling_strategy=0.8, random_state=42)\n",
    "X_train_resampled, y_train_resampled = over.fit_resample(X_train_final, y_train_final)"
   ]
  },
  {
   "cell_type": "code",
   "execution_count": 13,
   "metadata": {},
   "outputs": [
    {
     "name": "stdout",
     "output_type": "stream",
     "text": [
      "(6796, 22)\n",
      "(6796,)\n"
     ]
    }
   ],
   "source": [
    "print(X_train_resampled.shape)\n",
    "print(y_train_resampled.shape)"
   ]
  },
  {
   "cell_type": "markdown",
   "metadata": {},
   "source": [
    "### Training RandomForest on total training data"
   ]
  },
  {
   "cell_type": "code",
   "execution_count": 14,
   "metadata": {},
   "outputs": [
    {
     "name": "stdout",
     "output_type": "stream",
     "text": [
      "RandomForestClassifier(max_features=15, max_leaf_nodes=24, n_estimators=75)\n",
      "Results on Test data\n",
      "Test accuracy =  0.8649\n",
      "Test precision =  0.9209\n",
      "Test recall =  0.8877\n",
      "Classification report:\n",
      "              precision    recall  f1-score   support\n",
      "\n",
      "           0       0.74      0.81      0.77       374\n",
      "           1       0.92      0.89      0.90       944\n",
      "\n",
      "    accuracy                           0.86      1318\n",
      "   macro avg       0.83      0.85      0.84      1318\n",
      "weighted avg       0.87      0.86      0.87      1318\n",
      "\n",
      "Confusion matrix (Rows actual, Columns predicted):\n",
      "     0    1\n",
      "0  302   72\n",
      "1  106  838\n",
      "\n",
      "ROC curve\n"
     ]
    },
    {
     "data": {
      "image/png": "[encoded data removed]",
      "text/plain": [
       "<Figure size 640x480 with 1 Axes>"
      ]
     },
     "metadata": {},
     "output_type": "display_data"
    }
   ],
   "source": [
    "# Best Hyperparameters from last notebook\n",
    "max_features = 15\n",
    "max_leaf_nodes = 24 \n",
    "n_estimators = 75\n",
    "\n",
    "# Train and test model\n",
    "good_model_rf = RandomForestClassifier(max_leaf_nodes = max_leaf_nodes,\n",
    "                                    max_features = max_features, \n",
    "                                    n_estimators=n_estimators) \n",
    "\n",
    "print(good_model_rf) # display model parameters\n",
    "good_model_rf.fit(X_train_resampled, y_train_resampled) # train model\n",
    "pred_rf = good_model_rf.predict(X_test_final) \n",
    "\n",
    "print(\"Results on Test data\")\n",
    "acc_rf = accuracy_score(y_test_final, pred_rf) \n",
    "prec_rf = precision_score(y_test_final, pred_rf) \n",
    "reca_rf = recall_score(y_test_final, pred_rf) \n",
    "\n",
    "print(f'Test accuracy = {acc_rf: .4f}') \n",
    "print(f'Test precision = {prec_rf: .4f}')\n",
    "print(f'Test recall = {reca_rf: .4f}') \n",
    "print(\"Classification report:\")\n",
    "print(classification_report(y_test_final, pred_rf))\n",
    "print(\"Confusion matrix (Rows actual, Columns predicted):\")\n",
    "print(pd.DataFrame(confusion_matrix(y_test_final, pred_rf)))\n",
    "\n",
    "print('\\nROC curve')\n",
    "RocCurveDisplay.from_estimator(good_model_rf, X_test_final, y_test_final)\n",
    "plt.show()"
   ]
  },
  {
   "cell_type": "markdown",
   "metadata": {},
   "source": [
    "### Training XGBoost on total training data"
   ]
  },
  {
   "cell_type": "code",
   "execution_count": 15,
   "metadata": {},
   "outputs": [
    {
     "name": "stdout",
     "output_type": "stream",
     "text": [
      "XGBClassifier(base_score=None, booster='gbtree', callbacks=None,\n",
      "              colsample_bylevel=None, colsample_bynode=None,\n",
      "              colsample_bytree=None, early_stopping_rounds=None,\n",
      "              enable_categorical=False, eval_metric=None, feature_types=None,\n",
      "              gamma=0.5, gpu_id=None, grow_policy=None, importance_type=None,\n",
      "              interaction_constraints=None, learning_rate=0.1, max_bin=None,\n",
      "              max_cat_threshold=None, max_cat_to_onehot=None,\n",
      "              max_delta_step=None, max_depth=None, max_leaves=None,\n",
      "              min_child_weight=None, missing=nan, monotone_constraints=None,\n",
      "              n_estimators=200, n_jobs=None, num_parallel_tree=None,\n",
      "              predictor=None, random_state=42, ...)\n",
      "Results on Test data\n",
      "Test accuracy =  0.8657\n",
      "Test precision =  0.9050\n",
      "Test recall =  0.9078\n",
      "Classification report:\n",
      "              precision    recall  f1-score   support\n",
      "\n",
      "           0       0.77      0.76      0.76       374\n",
      "           1       0.90      0.91      0.91       944\n",
      "\n",
      "    accuracy                           0.87      1318\n",
      "   macro avg       0.84      0.83      0.83      1318\n",
      "weighted avg       0.87      0.87      0.87      1318\n",
      "\n",
      "Confusion matrix (Rows actual, Columns predicted):\n",
      "     0    1\n",
      "0  284   90\n",
      "1   87  857\n",
      "\n",
      "ROC curve\n"
     ]
    },
    {
     "data": {
      "image/png": "[encoded data removed]",
      "text/plain": [
       "<Figure size 640x480 with 1 Axes>"
      ]
     },
     "metadata": {},
     "output_type": "display_data"
    }
   ],
   "source": [
    "# Best Hyperparameters from last notebook\n",
    "booster = 'gbtree'\n",
    "gamma = 0.5\n",
    "learning_rate = 0.1\n",
    "n_estimators = 200\n",
    "reg_alpha = 0.5\n",
    "reg_lambda = 1\n",
    "\n",
    "# Train and test model\n",
    "good_model_xgb = XGBClassifier(booster = 'gbtree',\n",
    "                              gamma = 0.5,\n",
    "                              learning_rate = 0.1,\n",
    "                              n_estimators = 200,\n",
    "                              reg_alpha = 0.5,\n",
    "                              reg_lambda = 1, random_state=42) \n",
    "\n",
    "print(good_model_xgb) # display model parameters\n",
    "good_model_xgb.fit(X_train_resampled, y_train_resampled) # train model\n",
    "pred_xgb = good_model_xgb.predict(X_test_final) \n",
    "\n",
    "print(\"Results on Test data\")\n",
    "acc_xgb = accuracy_score(y_test_final, pred_xgb) \n",
    "prec_xgb = precision_score(y_test_final, pred_xgb) \n",
    "reca_xgb = recall_score(y_test_final, pred_xgb) \n",
    "\n",
    "print(f'Test accuracy = {acc_xgb: .4f}') \n",
    "print(f'Test precision = {prec_xgb: .4f}')\n",
    "print(f'Test recall = {reca_xgb: .4f}') \n",
    "print(\"Classification report:\")\n",
    "print(classification_report(y_test_final, pred_xgb))\n",
    "print(\"Confusion matrix (Rows actual, Columns predicted):\")\n",
    "print(pd.DataFrame(confusion_matrix(y_test_final, pred_xgb)))\n",
    "\n",
    "print('\\nROC curve')\n",
    "RocCurveDisplay.from_estimator(good_model_xgb, X_test_final, y_test_final)\n",
    "plt.show()"
   ]
  },
  {
   "cell_type": "markdown",
   "metadata": {},
   "source": [
    "### XGBoost wins \n",
    "- I will save both models anyways"
   ]
  },
  {
   "cell_type": "code",
   "execution_count": 16,
   "metadata": {},
   "outputs": [],
   "source": [
    "models_opt = []\n",
    "\n",
    "models_opt.append(('XGBoost', XGBClassifier(booster = 'gbtree', gamma = 0.5, learning_rate = 0.1, n_estimators = 200,\n",
    "                              reg_alpha = 0.5, reg_lambda = 1, random_state=42)))\n",
    "models_opt.append(('Random Forest', RandomForestClassifier(max_leaf_nodes=15, max_features=24, n_estimators=75, criterion='gini', random_state=42)))"
   ]
  },
  {
   "cell_type": "code",
   "execution_count": 17,
   "metadata": {},
   "outputs": [
    {
     "data": {
      "text/html": [
       "<div>\n",
       "<style scoped>\n",
       "    .dataframe tbody tr th:only-of-type {\n",
       "        vertical-align: middle;\n",
       "    }\n",
       "\n",
       "    .dataframe tbody tr th {\n",
       "        vertical-align: top;\n",
       "    }\n",
       "\n",
       "    .dataframe thead th {\n",
       "        text-align: right;\n",
       "    }\n",
       "</style>\n",
       "<table border=\"1\" class=\"dataframe\">\n",
       "  <thead>\n",
       "    <tr style=\"text-align: right;\">\n",
       "      <th></th>\n",
       "      <th>Algorithm</th>\n",
       "      <th>ROC AUC</th>\n",
       "      <th>Accuracy</th>\n",
       "      <th>Precision</th>\n",
       "      <th>F1 Scores</th>\n",
       "    </tr>\n",
       "  </thead>\n",
       "  <tbody>\n",
       "    <tr>\n",
       "      <th>0</th>\n",
       "      <td>XGBoost</td>\n",
       "      <td>96.02</td>\n",
       "      <td>88.49</td>\n",
       "      <td>89.85</td>\n",
       "      <td>89.85</td>\n",
       "    </tr>\n",
       "    <tr>\n",
       "      <th>1</th>\n",
       "      <td>Random Forest</td>\n",
       "      <td>93.08</td>\n",
       "      <td>85.02</td>\n",
       "      <td>85.26</td>\n",
       "      <td>86.78</td>\n",
       "    </tr>\n",
       "  </tbody>\n",
       "</table>\n",
       "</div>"
      ],
      "text/plain": [
       "       Algorithm  ROC AUC  Accuracy  Precision  F1 Scores\n",
       "0        XGBoost    96.02     88.49      89.85      89.85\n",
       "1  Random Forest    93.08     85.02      85.26      86.78"
      ]
     },
     "execution_count": 17,
     "metadata": {},
     "output_type": "execute_result"
    }
   ],
   "source": [
    "acc_results_opt =[]\n",
    "auc_results_opt =[]\n",
    "pre_results_opt =[]\n",
    "f1_results_opt =[]\n",
    "names_opt = []\n",
    "\n",
    "result_col_opt = [\"Algorithm\", \"ROC AUC\", \"Accuracy\", 'Precision', 'F1 Scores']\n",
    "model_results_opt = pd.DataFrame(columns = result_col_opt)\n",
    "\n",
    "i=0\n",
    "# K- fold cross validation\n",
    "\n",
    "for name, model in models_opt:\n",
    "    names_opt.append(name)\n",
    "    \n",
    "    cv_acc_results_opt = cross_val_score(model, X_train_resampled, y_train_resampled, scoring=\"accuracy\")\n",
    "    cv_auc_results_opt = cross_val_score(model, X_train_resampled, y_train_resampled, scoring=\"roc_auc\")\n",
    "    cv_pre_results_opt = cross_val_score(model, X_train_resampled, y_train_resampled, scoring=\"precision\")\n",
    "    cv_f1_results_opt = cross_val_score(model, X_train_resampled, y_train_resampled, scoring=\"f1\")\n",
    "\n",
    "    acc_results_opt.append(cv_acc_results_opt)\n",
    "    auc_results_opt.append(cv_auc_results_opt)\n",
    "    pre_results_opt.append(cv_pre_results_opt)\n",
    "    f1_results_opt.append(cv_f1_results_opt)\n",
    "    \n",
    "    model_results_opt.loc[i] = [name, \n",
    "                           round(cv_auc_results_opt.mean()*100,2),\n",
    "                           round(cv_acc_results_opt.mean()*100,2),\n",
    "                           round(cv_pre_results_opt.mean()*100,2),\n",
    "                           round(cv_f1_results_opt.mean()*100,2)]\n",
    "    i+=1\n",
    "\n",
    "model_results_opt.sort_values(by = ['ROC AUC'], ascending=False)"
   ]
  },
  {
   "cell_type": "code",
   "execution_count": 18,
   "metadata": {},
   "outputs": [
    {
     "data": {
      "text/html": [
       "<div>\n",
       "<style scoped>\n",
       "    .dataframe tbody tr th:only-of-type {\n",
       "        vertical-align: middle;\n",
       "    }\n",
       "\n",
       "    .dataframe tbody tr th {\n",
       "        vertical-align: top;\n",
       "    }\n",
       "\n",
       "    .dataframe thead th {\n",
       "        text-align: right;\n",
       "    }\n",
       "</style>\n",
       "<table border=\"1\" class=\"dataframe\">\n",
       "  <thead>\n",
       "    <tr style=\"text-align: right;\">\n",
       "      <th></th>\n",
       "      <th>Algorithm</th>\n",
       "      <th>ROC AUC</th>\n",
       "      <th>Accuracy</th>\n",
       "      <th>Precision</th>\n",
       "      <th>Recall</th>\n",
       "      <th>F1 Scores</th>\n",
       "    </tr>\n",
       "  </thead>\n",
       "  <tbody>\n",
       "    <tr>\n",
       "      <th>0</th>\n",
       "      <td>RandomForest</td>\n",
       "      <td>84.76</td>\n",
       "      <td>86.49</td>\n",
       "      <td>92.09</td>\n",
       "      <td>88.77</td>\n",
       "      <td>90.40</td>\n",
       "    </tr>\n",
       "    <tr>\n",
       "      <th>1</th>\n",
       "      <td>XGBoost</td>\n",
       "      <td>83.36</td>\n",
       "      <td>86.57</td>\n",
       "      <td>90.50</td>\n",
       "      <td>90.78</td>\n",
       "      <td>90.64</td>\n",
       "    </tr>\n",
       "  </tbody>\n",
       "</table>\n",
       "</div>"
      ],
      "text/plain": [
       "      Algorithm  ROC AUC  Accuracy  Precision  Recall  F1 Scores\n",
       "0  RandomForest    84.76     86.49      92.09   88.77      90.40\n",
       "1       XGBoost    83.36     86.57      90.50   90.78      90.64"
      ]
     },
     "execution_count": 18,
     "metadata": {},
     "output_type": "execute_result"
    }
   ],
   "source": [
    "# precision_score  recall_score\n",
    "\n",
    "acc_results_opt_val =[]\n",
    "auc_results_opt_val =[]\n",
    "pre_results_opt_val =[]\n",
    "f1_results_opt_val =[]\n",
    "rec_results_opt_val =[]\n",
    "names_opt_val = []\n",
    "good_models_names = [('RandomForest', pred_rf), ('XGBoost', pred_xgb)]\n",
    "\n",
    "result_col_opt = [\"Algorithm\", \"ROC AUC\", \"Accuracy\", 'Precision', 'Recall', 'F1 Scores']\n",
    "model_results_opt_val = pd.DataFrame(columns = result_col_opt)\n",
    "\n",
    "i=0\n",
    "# K- fold cross validation\n",
    "\n",
    "for name, y_pred in good_models_names:\n",
    "    names_opt_val.append(name)\n",
    "    \n",
    "    cv_acc_results_opt = accuracy_score(y_test_final, y_pred)\n",
    "    cv_auc_results_opt = roc_auc_score(y_test_final, y_pred)\n",
    "    cv_pre_results_opt = precision_score(y_test_final, y_pred)\n",
    "    cv_f1_results_opt = f1_score(y_test_final, y_pred)\n",
    "    cv_rec_results_opt = recall_score(y_test_final, y_pred)\n",
    "\n",
    "    acc_results_opt_val.append(cv_acc_results_opt)\n",
    "    auc_results_opt_val.append(cv_auc_results_opt)\n",
    "    pre_results_opt_val.append(cv_pre_results_opt)\n",
    "    f1_results_opt_val.append(cv_f1_results_opt)\n",
    "    rec_results_opt_val.append(cv_rec_results_opt)\n",
    "\n",
    "    model_results_opt_val.loc[i] = [name, \n",
    "                           round(cv_auc_results_opt.mean()*100,2),\n",
    "                           round(cv_acc_results_opt.mean()*100,2),\n",
    "                           round(cv_pre_results_opt.mean()*100,2),\n",
    "                           round(cv_rec_results_opt.mean()*100,2),\n",
    "                           round(cv_f1_results_opt.mean()*100,2)]\n",
    "    i+=1\n",
    "\n",
    "model_results_opt_val.sort_values(by = ['ROC AUC'], ascending=False)"
   ]
  },
  {
   "cell_type": "markdown",
   "metadata": {},
   "source": [
    "###"
   ]
  },
  {
   "cell_type": "markdown",
   "metadata": {},
   "source": [
    "### Saving models"
   ]
  },
  {
   "cell_type": "code",
   "execution_count": 19,
   "metadata": {},
   "outputs": [
    {
     "data": {
      "text/plain": [
       "['../models/XGBoost_tuned.pkl']"
      ]
     },
     "execution_count": 19,
     "metadata": {},
     "output_type": "execute_result"
    }
   ],
   "source": [
    "# save random forest\n",
    "joblib.dump(good_model_rf, '../models/forest_tuned.pkl')\n",
    "\n",
    "# save xgboost\n",
    "joblib.dump(good_model_xgb, '../models/XGBoost_tuned.pkl')\n"
   ]
  }
 ],
 "metadata": {
  "kernelspec": {
   "display_name": "Python 3",
   "language": "python",
   "name": "python3"
  },
  "language_info": {
   "codemirror_mode": {
    "name": "ipython",
    "version": 3
   },
   "file_extension": ".py",
   "mimetype": "text/x-python",
   "name": "python",
   "nbconvert_exporter": "python",
   "pygments_lexer": "ipython3",
   "version": "3.10.3"
  },
  "orig_nbformat": 4
 },
 "nbformat": 4,
 "nbformat_minor": 2
}
