{
 "cells": [
  {
   "cell_type": "code",
   "execution_count": 1,
   "metadata": {},
   "outputs": [],
   "source": [
    "DF_PATH = r\"../data/raw/explored_df.pkl\"\n",
    "EXPORT_PATH = r\"../data/processed\"\n",
    "RAW_PATH = r\"../data/raw\"\n",
    "\n",
    "import warnings\n",
    "warnings.filterwarnings('ignore')"
   ]
  },
  {
   "cell_type": "code",
   "execution_count": 2,
   "metadata": {},
   "outputs": [],
   "source": [
    "# Load packages\n",
    "import numpy as np\n",
    "import pandas as pd\n",
    "import matplotlib.pyplot as plt\n",
    "import seaborn as sns\n",
    "import os\n",
    "import pickle\n",
    "import joblib\n",
    "\n",
    "## imbalance\n",
    "from imblearn.over_sampling import SMOTE\n",
    "\n",
    "## skelarn -- preprocessing\n",
    "from sklearn.model_selection import train_test_split\n",
    "from sklearn.impute import SimpleImputer\n",
    "from sklearn.preprocessing import StandardScaler, OrdinalEncoder, LabelEncoder, MinMaxScaler, OneHotEncoder\n",
    "from sklearn.pipeline import Pipeline, FeatureUnion\n",
    "from sklearn_features.transformers import DataFrameSelector\n",
    "from sklearn.base import BaseEstimator, TransformerMixin\n",
    "\n",
    "## skelarn -- models\n",
    "from sklearn.neighbors import KNeighborsClassifier\n",
    "from sklearn.ensemble import RandomForestClassifier\n",
    "from sklearn.linear_model import LogisticRegression\n",
    "from sklearn.svm import SVC\n",
    "from xgboost import XGBClassifier\n",
    "\n",
    "## sklearn -- metrics\n",
    "from sklearn.metrics import f1_score, confusion_matrix, classification_report, accuracy_score\n",
    "from sklearn.metrics import precision_score, recall_score, RocCurveDisplay, roc_auc_score\n",
    "\n",
    "## sklearn -- tuning\n",
    "from sklearn.model_selection import GridSearchCV, RandomizedSearchCV, KFold, cross_val_score"
   ]
  },
  {
   "cell_type": "code",
   "execution_count": null,
   "metadata": {},
   "outputs": [
    {
     "name": "stdout",
     "output_type": "stream",
     "text": [
      "Train set unprocessed: (5271, 18) (5271,)\n",
      "Test set unprocessed : (1318, 18) (1318,)\n"
     ]
    }
   ],
   "source": [
    "# load data with pickle\n",
    "def load_data(path):\n",
    "    with open(path, 'rb') as f:\n",
    "        return pickle.load(f)\n",
    "\n",
    "X_train = load_data(os.path.join(RAW_PATH, 'X_train_total.pkl'))\n",
    "y_train = load_data(os.path.join(RAW_PATH, 'y_train_total.pkl'))\n",
    "X_test  = load_data(os.path.join(EXPORT_PATH, 'X_test.pkl'))\n",
    "y_test  = load_data(os.path.join(EXPORT_PATH, 'y_test.pkl'))\n",
    "print('Train set unprocessed:', X_train.shape, y_train.shape)\n",
    "print('Test set unprocessed :', X_test.shape, y_test.shape)"
   ]
  },
  {
   "cell_type": "code",
   "execution_count": null,
   "metadata": {},
   "outputs": [
    {
     "data": {
      "text/plain": [
       "Index(['age', 'married', 'number_of_dependents', 'number_of_referrals',\n",
       "       'tenure_in_months', 'offer', 'phone_service',\n",
       "       'avg_monthly_long_distance_charges', 'multiple_lines',\n",
       "       'internet_service', 'internet_type', 'avg_monthly_gb_download',\n",
       "       'unlimited_data', 'contract', 'paperless_billing', 'payment_method',\n",
       "       'total_revenue', 'enrolled_services'],\n",
       "      dtype='object')"
      ]
     },
     "execution_count": 4,
     "metadata": {},
     "output_type": "execute_result"
    }
   ],
   "source": [
    "X_train.columns"
   ]
  },
  {
   "cell_type": "code",
   "execution_count": null,
   "metadata": {},
   "outputs": [
    {
     "data": {
      "text/html": [
       "<div>\n",
       "<style scoped>\n",
       "    .dataframe tbody tr th:only-of-type {\n",
       "        vertical-align: middle;\n",
       "    }\n",
       "\n",
       "    .dataframe tbody tr th {\n",
       "        vertical-align: top;\n",
       "    }\n",
       "\n",
       "    .dataframe thead th {\n",
       "        text-align: right;\n",
       "    }\n",
       "</style>\n",
       "<table border=\"1\" class=\"dataframe\">\n",
       "  <thead>\n",
       "    <tr style=\"text-align: right;\">\n",
       "      <th></th>\n",
       "      <th>age</th>\n",
       "      <th>married</th>\n",
       "      <th>number_of_dependents</th>\n",
       "      <th>number_of_referrals</th>\n",
       "      <th>tenure_in_months</th>\n",
       "      <th>offer</th>\n",
       "      <th>phone_service</th>\n",
       "      <th>avg_monthly_long_distance_charges</th>\n",
       "      <th>multiple_lines</th>\n",
       "      <th>internet_service</th>\n",
       "      <th>internet_type</th>\n",
       "      <th>avg_monthly_gb_download</th>\n",
       "      <th>unlimited_data</th>\n",
       "      <th>contract</th>\n",
       "      <th>paperless_billing</th>\n",
       "      <th>payment_method</th>\n",
       "      <th>total_revenue</th>\n",
       "      <th>enrolled_services</th>\n",
       "    </tr>\n",
       "  </thead>\n",
       "  <tbody>\n",
       "    <tr>\n",
       "      <th>3836</th>\n",
       "      <td>57</td>\n",
       "      <td>Yes</td>\n",
       "      <td>0</td>\n",
       "      <td>7</td>\n",
       "      <td>50</td>\n",
       "      <td>Offer B</td>\n",
       "      <td>Yes</td>\n",
       "      <td>20.79</td>\n",
       "      <td>Yes</td>\n",
       "      <td>Yes</td>\n",
       "      <td>Fiber Optic</td>\n",
       "      <td>7.0</td>\n",
       "      <td>Yes</td>\n",
       "      <td>One Year</td>\n",
       "      <td>Yes</td>\n",
       "      <td>Mailed Check</td>\n",
       "      <td>6272.40</td>\n",
       "      <td>5</td>\n",
       "    </tr>\n",
       "    <tr>\n",
       "      <th>2673</th>\n",
       "      <td>42</td>\n",
       "      <td>Yes</td>\n",
       "      <td>0</td>\n",
       "      <td>1</td>\n",
       "      <td>39</td>\n",
       "      <td>NaN</td>\n",
       "      <td>Yes</td>\n",
       "      <td>35.70</td>\n",
       "      <td>No</td>\n",
       "      <td>Yes</td>\n",
       "      <td>DSL</td>\n",
       "      <td>9.0</td>\n",
       "      <td>Yes</td>\n",
       "      <td>One Year</td>\n",
       "      <td>No</td>\n",
       "      <td>Credit Card</td>\n",
       "      <td>4575.25</td>\n",
       "      <td>6</td>\n",
       "    </tr>\n",
       "    <tr>\n",
       "      <th>4927</th>\n",
       "      <td>78</td>\n",
       "      <td>No</td>\n",
       "      <td>0</td>\n",
       "      <td>0</td>\n",
       "      <td>64</td>\n",
       "      <td>Offer B</td>\n",
       "      <td>Yes</td>\n",
       "      <td>19.20</td>\n",
       "      <td>Yes</td>\n",
       "      <td>Yes</td>\n",
       "      <td>Fiber Optic</td>\n",
       "      <td>18.0</td>\n",
       "      <td>Yes</td>\n",
       "      <td>Month-to-Month</td>\n",
       "      <td>Yes</td>\n",
       "      <td>Bank Withdrawal</td>\n",
       "      <td>7777.45</td>\n",
       "      <td>5</td>\n",
       "    </tr>\n",
       "    <tr>\n",
       "      <th>5176</th>\n",
       "      <td>53</td>\n",
       "      <td>No</td>\n",
       "      <td>0</td>\n",
       "      <td>0</td>\n",
       "      <td>45</td>\n",
       "      <td>NaN</td>\n",
       "      <td>No</td>\n",
       "      <td>NaN</td>\n",
       "      <td>No</td>\n",
       "      <td>Yes</td>\n",
       "      <td>DSL</td>\n",
       "      <td>10.0</td>\n",
       "      <td>Yes</td>\n",
       "      <td>One Year</td>\n",
       "      <td>No</td>\n",
       "      <td>Bank Withdrawal</td>\n",
       "      <td>1840.75</td>\n",
       "      <td>3</td>\n",
       "    </tr>\n",
       "    <tr>\n",
       "      <th>1142</th>\n",
       "      <td>31</td>\n",
       "      <td>Yes</td>\n",
       "      <td>0</td>\n",
       "      <td>3</td>\n",
       "      <td>51</td>\n",
       "      <td>Offer B</td>\n",
       "      <td>Yes</td>\n",
       "      <td>29.40</td>\n",
       "      <td>Yes</td>\n",
       "      <td>Yes</td>\n",
       "      <td>Fiber Optic</td>\n",
       "      <td>21.0</td>\n",
       "      <td>No</td>\n",
       "      <td>One Year</td>\n",
       "      <td>Yes</td>\n",
       "      <td>Bank Withdrawal</td>\n",
       "      <td>7138.20</td>\n",
       "      <td>5</td>\n",
       "    </tr>\n",
       "  </tbody>\n",
       "</table>\n",
       "</div>"
      ],
      "text/plain": [
       "      age married  number_of_dependents  number_of_referrals  \\\n",
       "3836   57     Yes                     0                    7   \n",
       "2673   42     Yes                     0                    1   \n",
       "4927   78      No                     0                    0   \n",
       "5176   53      No                     0                    0   \n",
       "1142   31     Yes                     0                    3   \n",
       "\n",
       "      tenure_in_months    offer phone_service  \\\n",
       "3836                50  Offer B           Yes   \n",
       "2673                39      NaN           Yes   \n",
       "4927                64  Offer B           Yes   \n",
       "5176                45      NaN            No   \n",
       "1142                51  Offer B           Yes   \n",
       "\n",
       "      avg_monthly_long_distance_charges multiple_lines internet_service  \\\n",
       "3836                              20.79            Yes              Yes   \n",
       "2673                              35.70             No              Yes   \n",
       "4927                              19.20            Yes              Yes   \n",
       "5176                                NaN             No              Yes   \n",
       "1142                              29.40            Yes              Yes   \n",
       "\n",
       "     internet_type  avg_monthly_gb_download unlimited_data        contract  \\\n",
       "3836   Fiber Optic                      7.0            Yes        One Year   \n",
       "2673           DSL                      9.0            Yes        One Year   \n",
       "4927   Fiber Optic                     18.0            Yes  Month-to-Month   \n",
       "5176           DSL                     10.0            Yes        One Year   \n",
       "1142   Fiber Optic                     21.0             No        One Year   \n",
       "\n",
       "     paperless_billing   payment_method  total_revenue  enrolled_services  \n",
       "3836               Yes     Mailed Check        6272.40                  5  \n",
       "2673                No      Credit Card        4575.25                  6  \n",
       "4927               Yes  Bank Withdrawal        7777.45                  5  \n",
       "5176                No  Bank Withdrawal        1840.75                  3  \n",
       "1142               Yes  Bank Withdrawal        7138.20                  5  "
      ]
     },
     "execution_count": 5,
     "metadata": {},
     "output_type": "execute_result"
    }
   ],
   "source": [
    "X_train.head()"
   ]
  },
  {
   "cell_type": "markdown",
   "metadata": {},
   "source": [
    "### Create pipeline to transform data"
   ]
  },
  {
   "cell_type": "code",
   "execution_count": null,
   "metadata": {},
   "outputs": [],
   "source": [
    "num_cols = ['age', 'number_of_dependents', 'number_of_referrals', 'tenure_in_months', 'avg_monthly_long_distance_charges',\n",
    "            'avg_monthly_gb_download', 'total_revenue', 'enrolled_services']\n",
    "           \n",
    "\n",
    "bin_cols = ['married', 'phone_service', 'multiple_lines', 'internet_service', 'unlimited_data', 'paperless_billing']\n",
    "cat_cols = ['offer', 'payment_method']\n",
    "\n",
    "ord_cols_1 = ['internet_type']\n",
    "ord_cols_2 = ['contract']"
   ]
  },
  {
   "cell_type": "code",
   "execution_count": null,
   "metadata": {},
   "outputs": [],
   "source": [
    "## create a custom column selector\n",
    "class ColumnSelector(BaseEstimator, TransformerMixin):\n",
    "    \"\"\"select specific columns of a given dataset\"\"\"\n",
    "    def __init__(self, subset):\n",
    "        self.subset = subset\n",
    "    \n",
    "    def fit(self, X, y=None):\n",
    "        return self\n",
    "    \n",
    "    def transform(self, X, y=None):\n",
    "        return X.loc[:, self.subset]\n",
    "    \n",
    "    def fit_transform(self, X, y=None):\n",
    "        return X[self.subset]"
   ]
  },
  {
   "cell_type": "code",
   "execution_count": null,
   "metadata": {},
   "outputs": [],
   "source": [
    "## Pipeline\n",
    "\n",
    "## Numerical: num_cols --> Imputing using median, and standardscaler\n",
    "## Categorical: cat_cols ---> Imputing using mode, and OHE\n",
    "## Ordinal: ord_cols_1, ord_cols_2 ---> Imputing using mode, and ordinalEncoder\n",
    "\n",
    "## For Numerical\n",
    "num_pipeline = Pipeline(steps=[\n",
    "                        ('selector', ColumnSelector(num_cols)),\n",
    "                        ('imputer', SimpleImputer(strategy='median')),\n",
    "                        ('scaler', MinMaxScaler())\n",
    "                    ])  \n",
    "\n",
    "\n",
    "## For Categorical\n",
    "cat_pipeline = Pipeline(steps=[\n",
    "                        ('selector', ColumnSelector(cat_cols)),\n",
    "                        ('imputer', SimpleImputer(strategy='most_frequent')),\n",
    "                        ('ohe', OneHotEncoder(sparse_output=False))\n",
    "                    ])\n",
    "\n",
    "## For Binary columns\n",
    "bin_pipeline = Pipeline(steps=[\n",
    "                        ('selector', ColumnSelector(bin_cols)),\n",
    "                        ('imputer', SimpleImputer(strategy='most_frequent')),\n",
    "                        ('ohe', OneHotEncoder(drop='first', sparse_output=False))\n",
    "                    ])\n",
    "\n",
    "## For ord_cols_1\n",
    "ordinal_pipeline_1 = Pipeline(steps=[\n",
    "                        ('selector', ColumnSelector(ord_cols_1)),\n",
    "                        ('imputer', SimpleImputer(strategy='most_frequent')),\n",
    "                        ('encoder',OrdinalEncoder(categories=[['No', 'Cable', 'DSL', 'Fiber Optic']]))\n",
    "                    ])\n",
    "\n",
    "\n",
    "## For ord_cols_1\n",
    "ordinal_pipeline_2 = Pipeline(steps=[\n",
    "                        ('selector', ColumnSelector(ord_cols_2)),\n",
    "                        ('imputer', SimpleImputer(strategy='most_frequent')),\n",
    "                        ('encoder',OrdinalEncoder(categories=[['Month-to-Month', 'One Year', 'Two Year']]))\n",
    "                    ])\n",
    "\n",
    "\n",
    "## combine all\n",
    "all_pipeline = FeatureUnion(transformer_list=[\n",
    "                                    ('numerical', num_pipeline),\n",
    "                                    ('categorical', cat_pipeline),\n",
    "                                    ('binary', bin_pipeline),\n",
    "                                    ('ord_1', ordinal_pipeline_1),\n",
    "                                    ('ord_2', ordinal_pipeline_2)\n",
    "                                ])\n",
    "\n",
    "## apply\n",
    "all_pipeline.fit(X_train)\n",
    "X_train_final = all_pipeline.transform(X_train)\n",
    "X_test_final = all_pipeline.transform(X_test)"
   ]
  },
  {
   "cell_type": "code",
   "execution_count": null,
   "metadata": {},
   "outputs": [
    {
     "data": {
      "text/plain": [
       "['../models/pipeline.pkl']"
      ]
     },
     "execution_count": 29,
     "metadata": {},
     "output_type": "execute_result"
    }
   ],
   "source": [
    "joblib.dump(all_pipeline, '../models/pipeline.pkl')"
   ]
  },
  {
   "cell_type": "code",
   "execution_count": null,
   "metadata": {},
   "outputs": [
    {
     "data": {
      "text/html": [
       "<style>#sk-container-id-3 {color: black;background-color: white;}#sk-container-id-3 pre{padding: 0;}#sk-container-id-3 div.sk-toggleable {background-color: white;}#sk-container-id-3 label.sk-toggleable__label {cursor: pointer;display: block;width: 100%;margin-bottom: 0;padding: 0.3em;box-sizing: border-box;text-align: center;}#sk-container-id-3 label.sk-toggleable__label-arrow:before {content: \"▸\";float: left;margin-right: 0.25em;color: #696969;}#sk-container-id-3 label.sk-toggleable__label-arrow:hover:before {color: black;}#sk-container-id-3 div.sk-estimator:hover label.sk-toggleable__label-arrow:before {color: black;}#sk-container-id-3 div.sk-toggleable__content {max-height: 0;max-width: 0;overflow: hidden;text-align: left;background-color: #f0f8ff;}#sk-container-id-3 div.sk-toggleable__content pre {margin: 0.2em;color: black;border-radius: 0.25em;background-color: #f0f8ff;}#sk-container-id-3 input.sk-toggleable__control:checked~div.sk-toggleable__content {max-height: 200px;max-width: 100%;overflow: auto;}#sk-container-id-3 input.sk-toggleable__control:checked~label.sk-toggleable__label-arrow:before {content: \"▾\";}#sk-container-id-3 div.sk-estimator input.sk-toggleable__control:checked~label.sk-toggleable__label {background-color: #d4ebff;}#sk-container-id-3 div.sk-label input.sk-toggleable__control:checked~label.sk-toggleable__label {background-color: #d4ebff;}#sk-container-id-3 input.sk-hidden--visually {border: 0;clip: rect(1px 1px 1px 1px);clip: rect(1px, 1px, 1px, 1px);height: 1px;margin: -1px;overflow: hidden;padding: 0;position: absolute;width: 1px;}#sk-container-id-3 div.sk-estimator {font-family: monospace;background-color: #f0f8ff;border: 1px dotted black;border-radius: 0.25em;box-sizing: border-box;margin-bottom: 0.5em;}#sk-container-id-3 div.sk-estimator:hover {background-color: #d4ebff;}#sk-container-id-3 div.sk-parallel-item::after {content: \"\";width: 100%;border-bottom: 1px solid gray;flex-grow: 1;}#sk-container-id-3 div.sk-label:hover label.sk-toggleable__label {background-color: #d4ebff;}#sk-container-id-3 div.sk-serial::before {content: \"\";position: absolute;border-left: 1px solid gray;box-sizing: border-box;top: 0;bottom: 0;left: 50%;z-index: 0;}#sk-container-id-3 div.sk-serial {display: flex;flex-direction: column;align-items: center;background-color: white;padding-right: 0.2em;padding-left: 0.2em;position: relative;}#sk-container-id-3 div.sk-item {position: relative;z-index: 1;}#sk-container-id-3 div.sk-parallel {display: flex;align-items: stretch;justify-content: center;background-color: white;position: relative;}#sk-container-id-3 div.sk-item::before, #sk-container-id-3 div.sk-parallel-item::before {content: \"\";position: absolute;border-left: 1px solid gray;box-sizing: border-box;top: 0;bottom: 0;left: 50%;z-index: -1;}#sk-container-id-3 div.sk-parallel-item {display: flex;flex-direction: column;z-index: 1;position: relative;background-color: white;}#sk-container-id-3 div.sk-parallel-item:first-child::after {align-self: flex-end;width: 50%;}#sk-container-id-3 div.sk-parallel-item:last-child::after {align-self: flex-start;width: 50%;}#sk-container-id-3 div.sk-parallel-item:only-child::after {width: 0;}#sk-container-id-3 div.sk-dashed-wrapped {border: 1px dashed gray;margin: 0 0.4em 0.5em 0.4em;box-sizing: border-box;padding-bottom: 0.4em;background-color: white;}#sk-container-id-3 div.sk-label label {font-family: monospace;font-weight: bold;display: inline-block;line-height: 1.2em;}#sk-container-id-3 div.sk-label-container {text-align: center;}#sk-container-id-3 div.sk-container {/* jupyter's `normalize.less` sets `[hidden] { display: none; }` but bootstrap.min.css set `[hidden] { display: none !important; }` so we also need the `!important` here to be able to override the default hidden behavior on the sphinx rendered scikit-learn.org. See: https://github.com/scikit-learn/scikit-learn/issues/21755 */display: inline-block !important;position: relative;}#sk-container-id-3 div.sk-text-repr-fallback {display: none;}</style><div id=\"sk-container-id-3\" class=\"sk-top-container\"><div class=\"sk-text-repr-fallback\"><pre>FeatureUnion(transformer_list=[(&#x27;numerical&#x27;,\n",
       "                                Pipeline(steps=[(&#x27;selector&#x27;,\n",
       "                                                 ColumnSelector(subset=[&#x27;age&#x27;,\n",
       "                                                                        &#x27;number_of_dependents&#x27;,\n",
       "                                                                        &#x27;number_of_referrals&#x27;,\n",
       "                                                                        &#x27;tenure_in_months&#x27;,\n",
       "                                                                        &#x27;avg_monthly_long_distance_charges&#x27;,\n",
       "                                                                        &#x27;avg_monthly_gb_download&#x27;,\n",
       "                                                                        &#x27;total_revenue&#x27;,\n",
       "                                                                        &#x27;enrolled_services&#x27;])),\n",
       "                                                (&#x27;imputer&#x27;,\n",
       "                                                 SimpleImputer(strategy=&#x27;median&#x27;)),\n",
       "                                                (&#x27;scaler&#x27;, MinMaxScaler())])),\n",
       "                               (&#x27;categori...\n",
       "                                                 ColumnSelector(subset=[&#x27;internet_type&#x27;])),\n",
       "                                                (&#x27;imputer&#x27;,\n",
       "                                                 SimpleImputer(strategy=&#x27;most_frequent&#x27;)),\n",
       "                                                (&#x27;encoder&#x27;,\n",
       "                                                 OrdinalEncoder(categories=[[&#x27;No&#x27;,\n",
       "                                                                             &#x27;Cable&#x27;,\n",
       "                                                                             &#x27;DSL&#x27;,\n",
       "                                                                             &#x27;Fiber &#x27;\n",
       "                                                                             &#x27;Optic&#x27;]]))])),\n",
       "                               (&#x27;ord_2&#x27;,\n",
       "                                Pipeline(steps=[(&#x27;selector&#x27;,\n",
       "                                                 ColumnSelector(subset=[&#x27;contract&#x27;])),\n",
       "                                                (&#x27;imputer&#x27;,\n",
       "                                                 SimpleImputer(strategy=&#x27;most_frequent&#x27;)),\n",
       "                                                (&#x27;encoder&#x27;,\n",
       "                                                 OrdinalEncoder(categories=[[&#x27;Month-to-Month&#x27;,\n",
       "                                                                             &#x27;One &#x27;\n",
       "                                                                             &#x27;Year&#x27;,\n",
       "                                                                             &#x27;Two &#x27;\n",
       "                                                                             &#x27;Year&#x27;]]))]))])</pre><b>In a Jupyter environment, please rerun this cell to show the HTML representation or trust the notebook. <br />On GitHub, the HTML representation is unable to render, please try loading this page with nbviewer.org.</b></div><div class=\"sk-container\" hidden><div class=\"sk-item sk-dashed-wrapped\"><div class=\"sk-label-container\"><div class=\"sk-label sk-toggleable\"><input class=\"sk-toggleable__control sk-hidden--visually\" id=\"sk-estimator-id-27\" type=\"checkbox\" ><label for=\"sk-estimator-id-27\" class=\"sk-toggleable__label sk-toggleable__label-arrow\">FeatureUnion</label><div class=\"sk-toggleable__content\"><pre>FeatureUnion(transformer_list=[(&#x27;numerical&#x27;,\n",
       "                                Pipeline(steps=[(&#x27;selector&#x27;,\n",
       "                                                 ColumnSelector(subset=[&#x27;age&#x27;,\n",
       "                                                                        &#x27;number_of_dependents&#x27;,\n",
       "                                                                        &#x27;number_of_referrals&#x27;,\n",
       "                                                                        &#x27;tenure_in_months&#x27;,\n",
       "                                                                        &#x27;avg_monthly_long_distance_charges&#x27;,\n",
       "                                                                        &#x27;avg_monthly_gb_download&#x27;,\n",
       "                                                                        &#x27;total_revenue&#x27;,\n",
       "                                                                        &#x27;enrolled_services&#x27;])),\n",
       "                                                (&#x27;imputer&#x27;,\n",
       "                                                 SimpleImputer(strategy=&#x27;median&#x27;)),\n",
       "                                                (&#x27;scaler&#x27;, MinMaxScaler())])),\n",
       "                               (&#x27;categori...\n",
       "                                                 ColumnSelector(subset=[&#x27;internet_type&#x27;])),\n",
       "                                                (&#x27;imputer&#x27;,\n",
       "                                                 SimpleImputer(strategy=&#x27;most_frequent&#x27;)),\n",
       "                                                (&#x27;encoder&#x27;,\n",
       "                                                 OrdinalEncoder(categories=[[&#x27;No&#x27;,\n",
       "                                                                             &#x27;Cable&#x27;,\n",
       "                                                                             &#x27;DSL&#x27;,\n",
       "                                                                             &#x27;Fiber &#x27;\n",
       "                                                                             &#x27;Optic&#x27;]]))])),\n",
       "                               (&#x27;ord_2&#x27;,\n",
       "                                Pipeline(steps=[(&#x27;selector&#x27;,\n",
       "                                                 ColumnSelector(subset=[&#x27;contract&#x27;])),\n",
       "                                                (&#x27;imputer&#x27;,\n",
       "                                                 SimpleImputer(strategy=&#x27;most_frequent&#x27;)),\n",
       "                                                (&#x27;encoder&#x27;,\n",
       "                                                 OrdinalEncoder(categories=[[&#x27;Month-to-Month&#x27;,\n",
       "                                                                             &#x27;One &#x27;\n",
       "                                                                             &#x27;Year&#x27;,\n",
       "                                                                             &#x27;Two &#x27;\n",
       "                                                                             &#x27;Year&#x27;]]))]))])</pre></div></div></div><div class=\"sk-parallel\"><div class=\"sk-parallel-item\"><div class=\"sk-item\"><div class=\"sk-label-container\"><div class=\"sk-label sk-toggleable\"><label>numerical</label></div></div><div class=\"sk-serial\"><div class=\"sk-item\"><div class=\"sk-serial\"><div class=\"sk-item\"><div class=\"sk-estimator sk-toggleable\"><input class=\"sk-toggleable__control sk-hidden--visually\" id=\"sk-estimator-id-28\" type=\"checkbox\" ><label for=\"sk-estimator-id-28\" class=\"sk-toggleable__label sk-toggleable__label-arrow\">ColumnSelector</label><div class=\"sk-toggleable__content\"><pre>ColumnSelector(subset=[&#x27;age&#x27;, &#x27;number_of_dependents&#x27;, &#x27;number_of_referrals&#x27;,\n",
       "                       &#x27;tenure_in_months&#x27;, &#x27;avg_monthly_long_distance_charges&#x27;,\n",
       "                       &#x27;avg_monthly_gb_download&#x27;, &#x27;total_revenue&#x27;,\n",
       "                       &#x27;enrolled_services&#x27;])</pre></div></div></div><div class=\"sk-item\"><div class=\"sk-estimator sk-toggleable\"><input class=\"sk-toggleable__control sk-hidden--visually\" id=\"sk-estimator-id-29\" type=\"checkbox\" ><label for=\"sk-estimator-id-29\" class=\"sk-toggleable__label sk-toggleable__label-arrow\">SimpleImputer</label><div class=\"sk-toggleable__content\"><pre>SimpleImputer(strategy=&#x27;median&#x27;)</pre></div></div></div><div class=\"sk-item\"><div class=\"sk-estimator sk-toggleable\"><input class=\"sk-toggleable__control sk-hidden--visually\" id=\"sk-estimator-id-30\" type=\"checkbox\" ><label for=\"sk-estimator-id-30\" class=\"sk-toggleable__label sk-toggleable__label-arrow\">MinMaxScaler</label><div class=\"sk-toggleable__content\"><pre>MinMaxScaler()</pre></div></div></div></div></div></div></div></div><div class=\"sk-parallel-item\"><div class=\"sk-item\"><div class=\"sk-label-container\"><div class=\"sk-label sk-toggleable\"><label>categorical</label></div></div><div class=\"sk-serial\"><div class=\"sk-item\"><div class=\"sk-serial\"><div class=\"sk-item\"><div class=\"sk-estimator sk-toggleable\"><input class=\"sk-toggleable__control sk-hidden--visually\" id=\"sk-estimator-id-31\" type=\"checkbox\" ><label for=\"sk-estimator-id-31\" class=\"sk-toggleable__label sk-toggleable__label-arrow\">ColumnSelector</label><div class=\"sk-toggleable__content\"><pre>ColumnSelector(subset=[&#x27;offer&#x27;, &#x27;payment_method&#x27;])</pre></div></div></div><div class=\"sk-item\"><div class=\"sk-estimator sk-toggleable\"><input class=\"sk-toggleable__control sk-hidden--visually\" id=\"sk-estimator-id-32\" type=\"checkbox\" ><label for=\"sk-estimator-id-32\" class=\"sk-toggleable__label sk-toggleable__label-arrow\">SimpleImputer</label><div class=\"sk-toggleable__content\"><pre>SimpleImputer(strategy=&#x27;most_frequent&#x27;)</pre></div></div></div><div class=\"sk-item\"><div class=\"sk-estimator sk-toggleable\"><input class=\"sk-toggleable__control sk-hidden--visually\" id=\"sk-estimator-id-33\" type=\"checkbox\" ><label for=\"sk-estimator-id-33\" class=\"sk-toggleable__label sk-toggleable__label-arrow\">OneHotEncoder</label><div class=\"sk-toggleable__content\"><pre>OneHotEncoder(sparse_output=False)</pre></div></div></div></div></div></div></div></div><div class=\"sk-parallel-item\"><div class=\"sk-item\"><div class=\"sk-label-container\"><div class=\"sk-label sk-toggleable\"><label>binary</label></div></div><div class=\"sk-serial\"><div class=\"sk-item\"><div class=\"sk-serial\"><div class=\"sk-item\"><div class=\"sk-estimator sk-toggleable\"><input class=\"sk-toggleable__control sk-hidden--visually\" id=\"sk-estimator-id-34\" type=\"checkbox\" ><label for=\"sk-estimator-id-34\" class=\"sk-toggleable__label sk-toggleable__label-arrow\">ColumnSelector</label><div class=\"sk-toggleable__content\"><pre>ColumnSelector(subset=[&#x27;married&#x27;, &#x27;phone_service&#x27;, &#x27;multiple_lines&#x27;,\n",
       "                       &#x27;internet_service&#x27;, &#x27;unlimited_data&#x27;,\n",
       "                       &#x27;paperless_billing&#x27;])</pre></div></div></div><div class=\"sk-item\"><div class=\"sk-estimator sk-toggleable\"><input class=\"sk-toggleable__control sk-hidden--visually\" id=\"sk-estimator-id-35\" type=\"checkbox\" ><label for=\"sk-estimator-id-35\" class=\"sk-toggleable__label sk-toggleable__label-arrow\">SimpleImputer</label><div class=\"sk-toggleable__content\"><pre>SimpleImputer(strategy=&#x27;most_frequent&#x27;)</pre></div></div></div><div class=\"sk-item\"><div class=\"sk-estimator sk-toggleable\"><input class=\"sk-toggleable__control sk-hidden--visually\" id=\"sk-estimator-id-36\" type=\"checkbox\" ><label for=\"sk-estimator-id-36\" class=\"sk-toggleable__label sk-toggleable__label-arrow\">OneHotEncoder</label><div class=\"sk-toggleable__content\"><pre>OneHotEncoder(drop=&#x27;first&#x27;, sparse_output=False)</pre></div></div></div></div></div></div></div></div><div class=\"sk-parallel-item\"><div class=\"sk-item\"><div class=\"sk-label-container\"><div class=\"sk-label sk-toggleable\"><label>ord_1</label></div></div><div class=\"sk-serial\"><div class=\"sk-item\"><div class=\"sk-serial\"><div class=\"sk-item\"><div class=\"sk-estimator sk-toggleable\"><input class=\"sk-toggleable__control sk-hidden--visually\" id=\"sk-estimator-id-37\" type=\"checkbox\" ><label for=\"sk-estimator-id-37\" class=\"sk-toggleable__label sk-toggleable__label-arrow\">ColumnSelector</label><div class=\"sk-toggleable__content\"><pre>ColumnSelector(subset=[&#x27;internet_type&#x27;])</pre></div></div></div><div class=\"sk-item\"><div class=\"sk-estimator sk-toggleable\"><input class=\"sk-toggleable__control sk-hidden--visually\" id=\"sk-estimator-id-38\" type=\"checkbox\" ><label for=\"sk-estimator-id-38\" class=\"sk-toggleable__label sk-toggleable__label-arrow\">SimpleImputer</label><div class=\"sk-toggleable__content\"><pre>SimpleImputer(strategy=&#x27;most_frequent&#x27;)</pre></div></div></div><div class=\"sk-item\"><div class=\"sk-estimator sk-toggleable\"><input class=\"sk-toggleable__control sk-hidden--visually\" id=\"sk-estimator-id-39\" type=\"checkbox\" ><label for=\"sk-estimator-id-39\" class=\"sk-toggleable__label sk-toggleable__label-arrow\">OrdinalEncoder</label><div class=\"sk-toggleable__content\"><pre>OrdinalEncoder(categories=[[&#x27;No&#x27;, &#x27;Cable&#x27;, &#x27;DSL&#x27;, &#x27;Fiber Optic&#x27;]])</pre></div></div></div></div></div></div></div></div><div class=\"sk-parallel-item\"><div class=\"sk-item\"><div class=\"sk-label-container\"><div class=\"sk-label sk-toggleable\"><label>ord_2</label></div></div><div class=\"sk-serial\"><div class=\"sk-item\"><div class=\"sk-serial\"><div class=\"sk-item\"><div class=\"sk-estimator sk-toggleable\"><input class=\"sk-toggleable__control sk-hidden--visually\" id=\"sk-estimator-id-40\" type=\"checkbox\" ><label for=\"sk-estimator-id-40\" class=\"sk-toggleable__label sk-toggleable__label-arrow\">ColumnSelector</label><div class=\"sk-toggleable__content\"><pre>ColumnSelector(subset=[&#x27;contract&#x27;])</pre></div></div></div><div class=\"sk-item\"><div class=\"sk-estimator sk-toggleable\"><input class=\"sk-toggleable__control sk-hidden--visually\" id=\"sk-estimator-id-41\" type=\"checkbox\" ><label for=\"sk-estimator-id-41\" class=\"sk-toggleable__label sk-toggleable__label-arrow\">SimpleImputer</label><div class=\"sk-toggleable__content\"><pre>SimpleImputer(strategy=&#x27;most_frequent&#x27;)</pre></div></div></div><div class=\"sk-item\"><div class=\"sk-estimator sk-toggleable\"><input class=\"sk-toggleable__control sk-hidden--visually\" id=\"sk-estimator-id-42\" type=\"checkbox\" ><label for=\"sk-estimator-id-42\" class=\"sk-toggleable__label sk-toggleable__label-arrow\">OrdinalEncoder</label><div class=\"sk-toggleable__content\"><pre>OrdinalEncoder(categories=[[&#x27;Month-to-Month&#x27;, &#x27;One Year&#x27;, &#x27;Two Year&#x27;]])</pre></div></div></div></div></div></div></div></div></div></div></div></div>"
      ],
      "text/plain": [
       "FeatureUnion(transformer_list=[('numerical',\n",
       "                                Pipeline(steps=[('selector',\n",
       "                                                 ColumnSelector(subset=['age',\n",
       "                                                                        'number_of_dependents',\n",
       "                                                                        'number_of_referrals',\n",
       "                                                                        'tenure_in_months',\n",
       "                                                                        'avg_monthly_long_distance_charges',\n",
       "                                                                        'avg_monthly_gb_download',\n",
       "                                                                        'total_revenue',\n",
       "                                                                        'enrolled_services'])),\n",
       "                                                ('imputer',\n",
       "                                                 SimpleImputer(strategy='median')),\n",
       "                                                ('scaler', MinMaxScaler())])),\n",
       "                               ('categori...\n",
       "                                                 ColumnSelector(subset=['internet_type'])),\n",
       "                                                ('imputer',\n",
       "                                                 SimpleImputer(strategy='most_frequent')),\n",
       "                                                ('encoder',\n",
       "                                                 OrdinalEncoder(categories=[['No',\n",
       "                                                                             'Cable',\n",
       "                                                                             'DSL',\n",
       "                                                                             'Fiber '\n",
       "                                                                             'Optic']]))])),\n",
       "                               ('ord_2',\n",
       "                                Pipeline(steps=[('selector',\n",
       "                                                 ColumnSelector(subset=['contract'])),\n",
       "                                                ('imputer',\n",
       "                                                 SimpleImputer(strategy='most_frequent')),\n",
       "                                                ('encoder',\n",
       "                                                 OrdinalEncoder(categories=[['Month-to-Month',\n",
       "                                                                             'One '\n",
       "                                                                             'Year',\n",
       "                                                                             'Two '\n",
       "                                                                             'Year']]))]))])"
      ]
     },
     "execution_count": 30,
     "metadata": {},
     "output_type": "execute_result"
    }
   ],
   "source": [
    "all_pipeline"
   ]
  },
  {
   "cell_type": "code",
   "execution_count": null,
   "metadata": {},
   "outputs": [
    {
     "data": {
      "text/plain": [
       "{'numerical': Pipeline(steps=[('selector',\n",
       "                  ColumnSelector(subset=['age', 'number_of_dependents',\n",
       "                                         'number_of_referrals',\n",
       "                                         'tenure_in_months',\n",
       "                                         'avg_monthly_long_distance_charges',\n",
       "                                         'avg_monthly_gb_download',\n",
       "                                         'total_revenue',\n",
       "                                         'enrolled_services'])),\n",
       "                 ('imputer', SimpleImputer(strategy='median')),\n",
       "                 ('scaler', MinMaxScaler())]),\n",
       " 'categorical': Pipeline(steps=[('selector',\n",
       "                  ColumnSelector(subset=['offer', 'payment_method'])),\n",
       "                 ('imputer', SimpleImputer(strategy='most_frequent')),\n",
       "                 ('ohe', OneHotEncoder(sparse_output=False))]),\n",
       " 'binary': Pipeline(steps=[('selector',\n",
       "                  ColumnSelector(subset=['married', 'phone_service',\n",
       "                                         'multiple_lines', 'internet_service',\n",
       "                                         'unlimited_data',\n",
       "                                         'paperless_billing'])),\n",
       "                 ('imputer', SimpleImputer(strategy='most_frequent')),\n",
       "                 ('ohe', OneHotEncoder(drop='first', sparse_output=False))]),\n",
       " 'ord_1': Pipeline(steps=[('selector', ColumnSelector(subset=['internet_type'])),\n",
       "                 ('imputer', SimpleImputer(strategy='most_frequent')),\n",
       "                 ('encoder',\n",
       "                  OrdinalEncoder(categories=[['No', 'Cable', 'DSL',\n",
       "                                              'Fiber Optic']]))]),\n",
       " 'ord_2': Pipeline(steps=[('selector', ColumnSelector(subset=['contract'])),\n",
       "                 ('imputer', SimpleImputer(strategy='most_frequent')),\n",
       "                 ('encoder',\n",
       "                  OrdinalEncoder(categories=[['Month-to-Month', 'One Year',\n",
       "                                              'Two Year']]))])}"
      ]
     },
     "execution_count": 31,
     "metadata": {},
     "output_type": "execute_result"
    }
   ],
   "source": [
    "all_pipeline.named_transformers"
   ]
  },
  {
   "cell_type": "code",
   "execution_count": null,
   "metadata": {},
   "outputs": [
    {
     "data": {
      "text/plain": [
       "array(['offer_Offer A', 'offer_Offer B', 'offer_Offer C', 'offer_Offer D',\n",
       "       'offer_Offer E', 'payment_method_Bank Withdrawal',\n",
       "       'payment_method_Credit Card', 'payment_method_Mailed Check'],\n",
       "      dtype=object)"
      ]
     },
     "execution_count": 32,
     "metadata": {},
     "output_type": "execute_result"
    }
   ],
   "source": [
    "all_pipeline.named_transformers['categorical'].named_steps['ohe'].get_feature_names_out(cat_cols)"
   ]
  },
  {
   "cell_type": "code",
   "execution_count": null,
   "metadata": {},
   "outputs": [
    {
     "name": "stdout",
     "output_type": "stream",
     "text": [
      "(5271, 24)\n",
      "(1318, 24)\n"
     ]
    }
   ],
   "source": [
    "print(X_train_final.shape)\n",
    "print(X_test_final.shape)"
   ]
  },
  {
   "cell_type": "code",
   "execution_count": null,
   "metadata": {},
   "outputs": [
    {
     "data": {
      "text/plain": [
       "['offer_Offer A',\n",
       " 'offer_Offer B',\n",
       " 'offer_Offer C',\n",
       " 'offer_Offer D',\n",
       " 'offer_Offer E',\n",
       " 'payment_method_Bank Withdrawal',\n",
       " 'payment_method_Credit Card',\n",
       " 'payment_method_Mailed Check']"
      ]
     },
     "execution_count": 34,
     "metadata": {},
     "output_type": "execute_result"
    }
   ],
   "source": [
    "ohe_cat_names = list(all_pipeline.named_transformers['categorical'].named_steps['ohe'].get_feature_names_out(cat_cols))\n",
    "ohe_cat_names"
   ]
  },
  {
   "cell_type": "code",
   "execution_count": null,
   "metadata": {},
   "outputs": [
    {
     "data": {
      "text/plain": [
       "['married_Yes',\n",
       " 'phone_service_Yes',\n",
       " 'multiple_lines_Yes',\n",
       " 'internet_service_Yes',\n",
       " 'unlimited_data_Yes',\n",
       " 'paperless_billing_Yes']"
      ]
     },
     "execution_count": 36,
     "metadata": {},
     "output_type": "execute_result"
    }
   ],
   "source": [
    "ohe_bin_names = list(all_pipeline.named_transformers['binary'].named_steps['ohe'].get_feature_names_out(bin_cols))\n",
    "ohe_bin_names"
   ]
  },
  {
   "cell_type": "code",
   "execution_count": null,
   "metadata": {},
   "outputs": [
    {
     "data": {
      "text/plain": [
       "Index(['age', 'married', 'number_of_dependents', 'number_of_referrals',\n",
       "       'tenure_in_months', 'offer', 'phone_service',\n",
       "       'avg_monthly_long_distance_charges', 'multiple_lines',\n",
       "       'internet_service', 'internet_type', 'avg_monthly_gb_download',\n",
       "       'unlimited_data', 'contract', 'paperless_billing', 'payment_method',\n",
       "       'total_revenue', 'enrolled_services'],\n",
       "      dtype='object')"
      ]
     },
     "execution_count": 38,
     "metadata": {},
     "output_type": "execute_result"
    }
   ],
   "source": [
    "X_train.columns"
   ]
  },
  {
   "cell_type": "code",
   "execution_count": null,
   "metadata": {},
   "outputs": [
    {
     "data": {
      "text/plain": [
       "['age',\n",
       " 'married_Yes',\n",
       " 'number_of_dependents',\n",
       " 'number_of_referrals',\n",
       " 'tenure_in_months',\n",
       " 'offer_Offer A',\n",
       " 'offer_Offer B',\n",
       " 'offer_Offer C',\n",
       " 'offer_Offer D',\n",
       " 'offer_Offer E',\n",
       " 'phone_service_Yes',\n",
       " 'avg_monthly_long_distance_charges',\n",
       " 'multiple_lines_Yes',\n",
       " 'internet_service_Yes',\n",
       " 'internet_type',\n",
       " 'avg_monthly_gb_download',\n",
       " 'unlimited_data_Yes',\n",
       " 'contract',\n",
       " 'paperless_billing_Yes',\n",
       " 'payment_method_Bank Withdrawal',\n",
       " 'payment_method_Credit Card',\n",
       " 'payment_method_Mailed Check',\n",
       " 'total_revenue',\n",
       " 'enrolled_services']"
      ]
     },
     "execution_count": 51,
     "metadata": {},
     "output_type": "execute_result"
    }
   ],
   "source": [
    "all_cols = ['age', 'married_Yes', 'number_of_dependents', 'number_of_referrals',\n",
    "            'tenure_in_months', 'offer_Offer A', 'offer_Offer B', 'offer_Offer C',\n",
    "            'offer_Offer D', 'offer_Offer E', 'phone_service_Yes','avg_monthly_long_distance_charges',\n",
    "            'multiple_lines_Yes', 'internet_service_Yes', 'internet_type', 'avg_monthly_gb_download',\n",
    "            'unlimited_data_Yes', 'contract', 'paperless_billing_Yes', 'payment_method_Bank Withdrawal',\n",
    "            'payment_method_Credit Card', 'payment_method_Mailed Check', 'total_revenue', 'enrolled_services']\n",
    "all_cols"
   ]
  },
  {
   "cell_type": "code",
   "execution_count": null,
   "metadata": {},
   "outputs": [
    {
     "data": {
      "text/plain": [
       "array([[0.62295082, 0.        , 0.63636364, ..., 1.        , 3.        ,\n",
       "        1.        ],\n",
       "       [0.37704918, 0.        , 0.09090909, ..., 0.        , 2.        ,\n",
       "        1.        ],\n",
       "       [0.96721311, 0.        , 0.        , ..., 1.        , 3.        ,\n",
       "        0.        ],\n",
       "       ...,\n",
       "       [0.62295082, 0.        , 0.        , ..., 0.        , 0.        ,\n",
       "        0.        ],\n",
       "       [0.44262295, 0.        , 0.        , ..., 1.        , 0.        ,\n",
       "        0.        ],\n",
       "       [0.52459016, 0.        , 0.        , ..., 1.        , 3.        ,\n",
       "        0.        ]])"
      ]
     },
     "execution_count": 43,
     "metadata": {},
     "output_type": "execute_result"
    }
   ],
   "source": [
    "X_train_final"
   ]
  },
  {
   "cell_type": "markdown",
   "metadata": {},
   "source": [
    "### Solving class imbalance using SMOTE for over sampling"
   ]
  },
  {
   "cell_type": "code",
   "execution_count": null,
   "metadata": {},
   "outputs": [],
   "source": [
    "# transform target\n",
    "le = LabelEncoder()\n",
    "y_train_final = le.fit_transform(y_train)\n",
    "y_test_final = le.transform(y_test)"
   ]
  },
  {
   "cell_type": "code",
   "execution_count": null,
   "metadata": {},
   "outputs": [
    {
     "name": "stdout",
     "output_type": "stream",
     "text": [
      "[1 0 1 1 1]\n",
      "[1 0 1 1 1]\n"
     ]
    }
   ],
   "source": [
    "print(y_train_final[:5])\n",
    "print(y_test_final[:5])"
   ]
  },
  {
   "cell_type": "code",
   "execution_count": null,
   "metadata": {},
   "outputs": [],
   "source": [
    "over = SMOTE(sampling_strategy=0.8, random_state=42)\n",
    "X_train_resampled, y_train_resampled = over.fit_resample(X_train_final, y_train_final)"
   ]
  },
  {
   "cell_type": "code",
   "execution_count": null,
   "metadata": {},
   "outputs": [
    {
     "name": "stdout",
     "output_type": "stream",
     "text": [
      "(6796, 24)\n",
      "(6796,)\n"
     ]
    }
   ],
   "source": [
    "print(X_train_resampled.shape)\n",
    "print(y_train_resampled.shape)"
   ]
  },
  {
   "cell_type": "markdown",
   "metadata": {},
   "source": [
    "### Training RandomForest on total training data"
   ]
  },
  {
   "cell_type": "code",
   "execution_count": null,
   "metadata": {},
   "outputs": [
    {
     "name": "stdout",
     "output_type": "stream",
     "text": [
      "RandomForestClassifier(max_features=15, max_leaf_nodes=24, n_estimators=75)\n",
      "Results on Test data\n",
      "Test accuracy =  0.8695\n",
      "Test precision =  0.9223\n",
      "Test recall =  0.8930\n",
      "Classification report:\n",
      "              precision    recall  f1-score   support\n",
      "\n",
      "           0       0.75      0.81      0.78       374\n",
      "           1       0.92      0.89      0.91       944\n",
      "\n",
      "    accuracy                           0.87      1318\n",
      "   macro avg       0.84      0.85      0.84      1318\n",
      "weighted avg       0.87      0.87      0.87      1318\n",
      "\n",
      "Confusion matrix (Rows actual, Columns predicted):\n",
      "     0    1\n",
      "0  303   71\n",
      "1  101  843\n",
      "\n",
      "ROC curve\n"
     ]
    },
    {
     "data": {
      "image/png": "[encoded data removed]",
      "text/plain": [
       "<Figure size 640x480 with 1 Axes>"
      ]
     },
     "metadata": {},
     "output_type": "display_data"
    }
   ],
   "source": [
    "# Best Hyperparameters from last notebook\n",
    "max_features = 15\n",
    "max_leaf_nodes = 24 \n",
    "n_estimators = 75\n",
    "\n",
    "# Train and test model\n",
    "good_model_rf = RandomForestClassifier(max_leaf_nodes = max_leaf_nodes,\n",
    "                                    max_features = max_features, \n",
    "                                    n_estimators=n_estimators) \n",
    "\n",
    "print(good_model_rf) # display model parameters\n",
    "good_model_rf.fit(X_train_resampled, y_train_resampled) # train model\n",
    "pred_rf = good_model_rf.predict(X_test_final) \n",
    "\n",
    "print(\"Results on Test data\")\n",
    "acc_rf = accuracy_score(y_test_final, pred_rf) \n",
    "prec_rf = precision_score(y_test_final, pred_rf) \n",
    "reca_rf = recall_score(y_test_final, pred_rf) \n",
    "\n",
    "print(f'Test accuracy = {acc_rf: .4f}') \n",
    "print(f'Test precision = {prec_rf: .4f}')\n",
    "print(f'Test recall = {reca_rf: .4f}') \n",
    "print(\"Classification report:\")\n",
    "print(classification_report(y_test_final, pred_rf))\n",
    "print(\"Confusion matrix (Rows actual, Columns predicted):\")\n",
    "print(pd.DataFrame(confusion_matrix(y_test_final, pred_rf)))\n",
    "\n",
    "print('\\nROC curve')\n",
    "RocCurveDisplay.from_estimator(good_model_rf, X_test_final, y_test_final)\n",
    "plt.show()"
   ]
  },
  {
   "cell_type": "markdown",
   "metadata": {},
   "source": [
    "### Training XGBoost on total training data"
   ]
  },
  {
   "cell_type": "code",
   "execution_count": null,
   "metadata": {},
   "outputs": [
    {
     "name": "stdout",
     "output_type": "stream",
     "text": [
      "XGBClassifier(base_score=None, booster='gbtree', callbacks=None,\n",
      "              colsample_bylevel=None, colsample_bynode=None,\n",
      "              colsample_bytree=None, early_stopping_rounds=None,\n",
      "              enable_categorical=False, eval_metric=None, feature_types=None,\n",
      "              gamma=0.5, gpu_id=None, grow_policy=None, importance_type=None,\n",
      "              interaction_constraints=None, learning_rate=0.1, max_bin=None,\n",
      "              max_cat_threshold=None, max_cat_to_onehot=None,\n",
      "              max_delta_step=None, max_depth=None, max_leaves=None,\n",
      "              min_child_weight=None, missing=nan, monotone_constraints=None,\n",
      "              n_estimators=200, n_jobs=None, num_parallel_tree=None,\n",
      "              predictor=None, random_state=42, ...)\n",
      "Results on Test data\n",
      "Test accuracy =  0.8672\n",
      "Test precision =  0.9069\n",
      "Test recall =  0.9078\n",
      "Classification report:\n",
      "              precision    recall  f1-score   support\n",
      "\n",
      "           0       0.77      0.76      0.77       374\n",
      "           1       0.91      0.91      0.91       944\n",
      "\n",
      "    accuracy                           0.87      1318\n",
      "   macro avg       0.84      0.84      0.84      1318\n",
      "weighted avg       0.87      0.87      0.87      1318\n",
      "\n",
      "Confusion matrix (Rows actual, Columns predicted):\n",
      "     0    1\n",
      "0  286   88\n",
      "1   87  857\n",
      "\n",
      "ROC curve\n"
     ]
    },
    {
     "data": {
      "image/png": "[encoded data removed]",
      "text/plain": [
       "<Figure size 640x480 with 1 Axes>"
      ]
     },
     "metadata": {},
     "output_type": "display_data"
    }
   ],
   "source": [
    "# Best Hyperparameters from last notebook\n",
    "booster = 'gbtree'\n",
    "gamma = 0.5\n",
    "learning_rate = 0.1\n",
    "n_estimators = 200\n",
    "reg_alpha = 0.5\n",
    "reg_lambda = 1\n",
    "\n",
    "# Train and test model\n",
    "good_model_xgb = XGBClassifier(booster = 'gbtree',\n",
    "                              gamma = 0.5,\n",
    "                              learning_rate = 0.1,\n",
    "                              n_estimators = 200,\n",
    "                              reg_alpha = 0.5,\n",
    "                              reg_lambda = 1, random_state=42) \n",
    "\n",
    "print(good_model_xgb) # display model parameters\n",
    "good_model_xgb.fit(X_train_resampled, y_train_resampled) # train model\n",
    "pred_xgb = good_model_xgb.predict(X_test_final) \n",
    "\n",
    "print(\"Results on Test data\")\n",
    "acc_xgb = accuracy_score(y_test_final, pred_xgb) \n",
    "prec_xgb = precision_score(y_test_final, pred_xgb) \n",
    "reca_xgb = recall_score(y_test_final, pred_xgb) \n",
    "\n",
    "print(f'Test accuracy = {acc_xgb: .4f}') \n",
    "print(f'Test precision = {prec_xgb: .4f}')\n",
    "print(f'Test recall = {reca_xgb: .4f}') \n",
    "print(\"Classification report:\")\n",
    "print(classification_report(y_test_final, pred_xgb))\n",
    "print(\"Confusion matrix (Rows actual, Columns predicted):\")\n",
    "print(pd.DataFrame(confusion_matrix(y_test_final, pred_xgb)))\n",
    "\n",
    "print('\\nROC curve')\n",
    "RocCurveDisplay.from_estimator(good_model_xgb, X_test_final, y_test_final)\n",
    "plt.show()"
   ]
  },
  {
   "cell_type": "markdown",
   "metadata": {},
   "source": [
    "### XGBoost wins \n",
    "- I will save both models anyways"
   ]
  },
  {
   "cell_type": "code",
   "execution_count": null,
   "metadata": {},
   "outputs": [],
   "source": [
    "models_opt = []\n",
    "\n",
    "models_opt.append(('XGBoost', XGBClassifier(booster = 'gbtree', gamma = 0.5, learning_rate = 0.1, n_estimators = 200,\n",
    "                              reg_alpha = 0.5, reg_lambda = 1, random_state=42)))\n",
    "models_opt.append(('Random Forest', RandomForestClassifier(max_leaf_nodes=15, max_features=24, n_estimators=75, criterion='gini', random_state=42)))"
   ]
  },
  {
   "cell_type": "code",
   "execution_count": null,
   "metadata": {},
   "outputs": [
    {
     "data": {
      "text/html": [
       "<div>\n",
       "<style scoped>\n",
       "    .dataframe tbody tr th:only-of-type {\n",
       "        vertical-align: middle;\n",
       "    }\n",
       "\n",
       "    .dataframe tbody tr th {\n",
       "        vertical-align: top;\n",
       "    }\n",
       "\n",
       "    .dataframe thead th {\n",
       "        text-align: right;\n",
       "    }\n",
       "</style>\n",
       "<table border=\"1\" class=\"dataframe\">\n",
       "  <thead>\n",
       "    <tr style=\"text-align: right;\">\n",
       "      <th></th>\n",
       "      <th>Algorithm</th>\n",
       "      <th>ROC AUC</th>\n",
       "      <th>Accuracy</th>\n",
       "      <th>Precision</th>\n",
       "      <th>F1 Scores</th>\n",
       "    </tr>\n",
       "  </thead>\n",
       "  <tbody>\n",
       "    <tr>\n",
       "      <th>0</th>\n",
       "      <td>XGBoost</td>\n",
       "      <td>95.98</td>\n",
       "      <td>88.57</td>\n",
       "      <td>89.66</td>\n",
       "      <td>89.93</td>\n",
       "    </tr>\n",
       "    <tr>\n",
       "      <th>1</th>\n",
       "      <td>Random Forest</td>\n",
       "      <td>93.22</td>\n",
       "      <td>85.29</td>\n",
       "      <td>86.00</td>\n",
       "      <td>86.92</td>\n",
       "    </tr>\n",
       "  </tbody>\n",
       "</table>\n",
       "</div>"
      ],
      "text/plain": [
       "       Algorithm  ROC AUC  Accuracy  Precision  F1 Scores\n",
       "0        XGBoost    95.98     88.57      89.66      89.93\n",
       "1  Random Forest    93.22     85.29      86.00      86.92"
      ]
     },
     "execution_count": 59,
     "metadata": {},
     "output_type": "execute_result"
    }
   ],
   "source": [
    "acc_results_opt =[]\n",
    "auc_results_opt =[]\n",
    "pre_results_opt =[]\n",
    "f1_results_opt =[]\n",
    "names_opt = []\n",
    "\n",
    "result_col_opt = [\"Algorithm\", \"ROC AUC\", \"Accuracy\", 'Precision', 'F1 Scores']\n",
    "model_results_opt = pd.DataFrame(columns = result_col_opt)\n",
    "\n",
    "i=0\n",
    "# K- fold cross validation\n",
    "\n",
    "for name, model in models_opt:\n",
    "    names_opt.append(name)\n",
    "    \n",
    "    cv_acc_results_opt = cross_val_score(model, X_train_resampled, y_train_resampled, scoring=\"accuracy\")\n",
    "    cv_auc_results_opt = cross_val_score(model, X_train_resampled, y_train_resampled, scoring=\"roc_auc\")\n",
    "    cv_pre_results_opt = cross_val_score(model, X_train_resampled, y_train_resampled, scoring=\"precision\")\n",
    "    cv_f1_results_opt = cross_val_score(model, X_train_resampled, y_train_resampled, scoring=\"f1\")\n",
    "\n",
    "    acc_results_opt.append(cv_acc_results_opt)\n",
    "    auc_results_opt.append(cv_auc_results_opt)\n",
    "    pre_results_opt.append(cv_pre_results_opt)\n",
    "    f1_results_opt.append(cv_f1_results_opt)\n",
    "    \n",
    "    model_results_opt.loc[i] = [name, \n",
    "                           round(cv_auc_results_opt.mean()*100,2),\n",
    "                           round(cv_acc_results_opt.mean()*100,2),\n",
    "                           round(cv_pre_results_opt.mean()*100,2),\n",
    "                           round(cv_f1_results_opt.mean()*100,2)]\n",
    "    i+=1\n",
    "\n",
    "model_results_opt.sort_values(by = ['ROC AUC'], ascending=False)"
   ]
  },
  {
   "cell_type": "code",
   "execution_count": null,
   "metadata": {},
   "outputs": [
    {
     "data": {
      "text/html": [
       "<div>\n",
       "<style scoped>\n",
       "    .dataframe tbody tr th:only-of-type {\n",
       "        vertical-align: middle;\n",
       "    }\n",
       "\n",
       "    .dataframe tbody tr th {\n",
       "        vertical-align: top;\n",
       "    }\n",
       "\n",
       "    .dataframe thead th {\n",
       "        text-align: right;\n",
       "    }\n",
       "</style>\n",
       "<table border=\"1\" class=\"dataframe\">\n",
       "  <thead>\n",
       "    <tr style=\"text-align: right;\">\n",
       "      <th></th>\n",
       "      <th>Algorithm</th>\n",
       "      <th>ROC AUC</th>\n",
       "      <th>Accuracy</th>\n",
       "      <th>Precision</th>\n",
       "      <th>Recall</th>\n",
       "      <th>F1 Scores</th>\n",
       "    </tr>\n",
       "  </thead>\n",
       "  <tbody>\n",
       "    <tr>\n",
       "      <th>0</th>\n",
       "      <td>RandomForest</td>\n",
       "      <td>85.16</td>\n",
       "      <td>86.95</td>\n",
       "      <td>92.23</td>\n",
       "      <td>89.30</td>\n",
       "      <td>90.74</td>\n",
       "    </tr>\n",
       "    <tr>\n",
       "      <th>1</th>\n",
       "      <td>XGBoost</td>\n",
       "      <td>83.63</td>\n",
       "      <td>86.72</td>\n",
       "      <td>90.69</td>\n",
       "      <td>90.78</td>\n",
       "      <td>90.74</td>\n",
       "    </tr>\n",
       "  </tbody>\n",
       "</table>\n",
       "</div>"
      ],
      "text/plain": [
       "      Algorithm  ROC AUC  Accuracy  Precision  Recall  F1 Scores\n",
       "0  RandomForest    85.16     86.95      92.23   89.30      90.74\n",
       "1       XGBoost    83.63     86.72      90.69   90.78      90.74"
      ]
     },
     "execution_count": 60,
     "metadata": {},
     "output_type": "execute_result"
    }
   ],
   "source": [
    "# precision_score  recall_score\n",
    "\n",
    "acc_results_opt_val =[]\n",
    "auc_results_opt_val =[]\n",
    "pre_results_opt_val =[]\n",
    "f1_results_opt_val =[]\n",
    "rec_results_opt_val =[]\n",
    "names_opt_val = []\n",
    "good_models_names = [('RandomForest', pred_rf), ('XGBoost', pred_xgb)]\n",
    "\n",
    "result_col_opt = [\"Algorithm\", \"ROC AUC\", \"Accuracy\", 'Precision', 'Recall', 'F1 Scores']\n",
    "model_results_opt_val = pd.DataFrame(columns = result_col_opt)\n",
    "\n",
    "i=0\n",
    "# K- fold cross validation\n",
    "\n",
    "for name, y_pred in good_models_names:\n",
    "    names_opt_val.append(name)\n",
    "    \n",
    "    cv_acc_results_opt = accuracy_score(y_test_final, y_pred)\n",
    "    cv_auc_results_opt = roc_auc_score(y_test_final, y_pred)\n",
    "    cv_pre_results_opt = precision_score(y_test_final, y_pred)\n",
    "    cv_f1_results_opt = f1_score(y_test_final, y_pred)\n",
    "    cv_rec_results_opt = recall_score(y_test_final, y_pred)\n",
    "\n",
    "    acc_results_opt_val.append(cv_acc_results_opt)\n",
    "    auc_results_opt_val.append(cv_auc_results_opt)\n",
    "    pre_results_opt_val.append(cv_pre_results_opt)\n",
    "    f1_results_opt_val.append(cv_f1_results_opt)\n",
    "    rec_results_opt_val.append(cv_rec_results_opt)\n",
    "\n",
    "    model_results_opt_val.loc[i] = [name, \n",
    "                           round(cv_auc_results_opt.mean()*100,2),\n",
    "                           round(cv_acc_results_opt.mean()*100,2),\n",
    "                           round(cv_pre_results_opt.mean()*100,2),\n",
    "                           round(cv_rec_results_opt.mean()*100,2),\n",
    "                           round(cv_f1_results_opt.mean()*100,2)]\n",
    "    i+=1\n",
    "\n",
    "model_results_opt_val.sort_values(by = ['ROC AUC'], ascending=False)"
   ]
  },
  {
   "cell_type": "markdown",
   "metadata": {},
   "source": [
    "#### Getting feature importance"
   ]
  },
  {
   "cell_type": "code",
   "execution_count": null,
   "metadata": {},
   "outputs": [
    {
     "data": {
      "text/plain": [
       "age                                  0.029870\n",
       "married_Yes                          0.043196\n",
       "number_of_dependents                 0.138524\n",
       "number_of_referrals                  0.174763\n",
       "tenure_in_months                     0.001856\n",
       "offer_Offer A                        0.004144\n",
       "offer_Offer B                        0.030875\n",
       "offer_Offer C                        0.017891\n",
       "offer_Offer D                        0.000000\n",
       "offer_Offer E                        0.000000\n",
       "phone_service_Yes                    0.000087\n",
       "avg_monthly_long_distance_charges    0.000194\n",
       "multiple_lines_Yes                   0.000083\n",
       "internet_service_Yes                 0.000142\n",
       "internet_type                        0.002011\n",
       "avg_monthly_gb_download              0.000000\n",
       "unlimited_data_Yes                   0.006058\n",
       "contract                             0.000486\n",
       "paperless_billing_Yes                0.000836\n",
       "payment_method_Bank Withdrawal       0.003346\n",
       "payment_method_Credit Card           0.000058\n",
       "payment_method_Mailed Check          0.001931\n",
       "total_revenue                        0.067786\n",
       "enrolled_services                    0.475862\n",
       "dtype: float64"
      ]
     },
     "execution_count": 67,
     "metadata": {},
     "output_type": "execute_result"
    }
   ],
   "source": [
    "# For RandomForest model\n",
    "features = all_cols\n",
    "importance_rf = good_model_rf.feature_importances_\n",
    "feat_imp_rf = pd.Series(data=importance_rf, index=features)\n",
    "feat_imp_rf"
   ]
  },
  {
   "cell_type": "code",
   "execution_count": null,
   "metadata": {},
   "outputs": [
    {
     "data": {
      "text/plain": [
       "age                                  0.017014\n",
       "married_Yes                          0.063752\n",
       "number_of_dependents                 0.072309\n",
       "number_of_referrals                  0.055501\n",
       "tenure_in_months                     0.010632\n",
       "offer_Offer A                        0.010178\n",
       "offer_Offer B                        0.011385\n",
       "offer_Offer C                        0.032449\n",
       "offer_Offer D                        0.007369\n",
       "offer_Offer E                        0.009253\n",
       "phone_service_Yes                    0.007625\n",
       "avg_monthly_long_distance_charges    0.012724\n",
       "multiple_lines_Yes                   0.011578\n",
       "internet_service_Yes                 0.009891\n",
       "internet_type                        0.030608\n",
       "avg_monthly_gb_download              0.007006\n",
       "unlimited_data_Yes                   0.011094\n",
       "contract                             0.014363\n",
       "paperless_billing_Yes                0.020735\n",
       "payment_method_Bank Withdrawal       0.026800\n",
       "payment_method_Credit Card           0.011082\n",
       "payment_method_Mailed Check          0.028724\n",
       "total_revenue                        0.059356\n",
       "enrolled_services                    0.458570\n",
       "dtype: float32"
      ]
     },
     "execution_count": 68,
     "metadata": {},
     "output_type": "execute_result"
    }
   ],
   "source": [
    "# For XGBoost model\n",
    "features = all_cols\n",
    "importance_xgb = good_model_xgb.feature_importances_\n",
    "feat_imp_xgb = pd.Series(data=importance_xgb, index=features)\n",
    "feat_imp_xgb"
   ]
  },
  {
   "cell_type": "code",
   "execution_count": null,
   "metadata": {},
   "outputs": [
    {
     "data": {
      "text/html": [
       "<div>\n",
       "<style scoped>\n",
       "    .dataframe tbody tr th:only-of-type {\n",
       "        vertical-align: middle;\n",
       "    }\n",
       "\n",
       "    .dataframe tbody tr th {\n",
       "        vertical-align: top;\n",
       "    }\n",
       "\n",
       "    .dataframe thead th {\n",
       "        text-align: right;\n",
       "    }\n",
       "</style>\n",
       "<table border=\"1\" class=\"dataframe\">\n",
       "  <thead>\n",
       "    <tr style=\"text-align: right;\">\n",
       "      <th></th>\n",
       "      <th>RandomForest</th>\n",
       "      <th>XGBClassifier</th>\n",
       "    </tr>\n",
       "  </thead>\n",
       "  <tbody>\n",
       "    <tr>\n",
       "      <th>enrolled_services</th>\n",
       "      <td>0.475862</td>\n",
       "      <td>0.458570</td>\n",
       "    </tr>\n",
       "    <tr>\n",
       "      <th>number_of_referrals</th>\n",
       "      <td>0.174763</td>\n",
       "      <td>0.055501</td>\n",
       "    </tr>\n",
       "    <tr>\n",
       "      <th>number_of_dependents</th>\n",
       "      <td>0.138524</td>\n",
       "      <td>0.072309</td>\n",
       "    </tr>\n",
       "    <tr>\n",
       "      <th>total_revenue</th>\n",
       "      <td>0.067786</td>\n",
       "      <td>0.059356</td>\n",
       "    </tr>\n",
       "    <tr>\n",
       "      <th>married_Yes</th>\n",
       "      <td>0.043196</td>\n",
       "      <td>0.063752</td>\n",
       "    </tr>\n",
       "    <tr>\n",
       "      <th>offer_Offer B</th>\n",
       "      <td>0.030875</td>\n",
       "      <td>0.011385</td>\n",
       "    </tr>\n",
       "    <tr>\n",
       "      <th>age</th>\n",
       "      <td>0.029870</td>\n",
       "      <td>0.017014</td>\n",
       "    </tr>\n",
       "    <tr>\n",
       "      <th>offer_Offer C</th>\n",
       "      <td>0.017891</td>\n",
       "      <td>0.032449</td>\n",
       "    </tr>\n",
       "    <tr>\n",
       "      <th>unlimited_data_Yes</th>\n",
       "      <td>0.006058</td>\n",
       "      <td>0.011094</td>\n",
       "    </tr>\n",
       "    <tr>\n",
       "      <th>offer_Offer A</th>\n",
       "      <td>0.004144</td>\n",
       "      <td>0.010178</td>\n",
       "    </tr>\n",
       "    <tr>\n",
       "      <th>payment_method_Bank Withdrawal</th>\n",
       "      <td>0.003346</td>\n",
       "      <td>0.026800</td>\n",
       "    </tr>\n",
       "    <tr>\n",
       "      <th>internet_type</th>\n",
       "      <td>0.002011</td>\n",
       "      <td>0.030608</td>\n",
       "    </tr>\n",
       "    <tr>\n",
       "      <th>payment_method_Mailed Check</th>\n",
       "      <td>0.001931</td>\n",
       "      <td>0.028724</td>\n",
       "    </tr>\n",
       "    <tr>\n",
       "      <th>tenure_in_months</th>\n",
       "      <td>0.001856</td>\n",
       "      <td>0.010632</td>\n",
       "    </tr>\n",
       "    <tr>\n",
       "      <th>paperless_billing_Yes</th>\n",
       "      <td>0.000836</td>\n",
       "      <td>0.020735</td>\n",
       "    </tr>\n",
       "    <tr>\n",
       "      <th>contract</th>\n",
       "      <td>0.000486</td>\n",
       "      <td>0.014363</td>\n",
       "    </tr>\n",
       "    <tr>\n",
       "      <th>avg_monthly_long_distance_charges</th>\n",
       "      <td>0.000194</td>\n",
       "      <td>0.012724</td>\n",
       "    </tr>\n",
       "    <tr>\n",
       "      <th>internet_service_Yes</th>\n",
       "      <td>0.000142</td>\n",
       "      <td>0.009891</td>\n",
       "    </tr>\n",
       "    <tr>\n",
       "      <th>phone_service_Yes</th>\n",
       "      <td>0.000087</td>\n",
       "      <td>0.007625</td>\n",
       "    </tr>\n",
       "    <tr>\n",
       "      <th>multiple_lines_Yes</th>\n",
       "      <td>0.000083</td>\n",
       "      <td>0.011578</td>\n",
       "    </tr>\n",
       "    <tr>\n",
       "      <th>payment_method_Credit Card</th>\n",
       "      <td>0.000058</td>\n",
       "      <td>0.011082</td>\n",
       "    </tr>\n",
       "    <tr>\n",
       "      <th>offer_Offer D</th>\n",
       "      <td>0.000000</td>\n",
       "      <td>0.007369</td>\n",
       "    </tr>\n",
       "    <tr>\n",
       "      <th>offer_Offer E</th>\n",
       "      <td>0.000000</td>\n",
       "      <td>0.009253</td>\n",
       "    </tr>\n",
       "    <tr>\n",
       "      <th>avg_monthly_gb_download</th>\n",
       "      <td>0.000000</td>\n",
       "      <td>0.007006</td>\n",
       "    </tr>\n",
       "  </tbody>\n",
       "</table>\n",
       "</div>"
      ],
      "text/plain": [
       "                                   RandomForest  XGBClassifier\n",
       "enrolled_services                      0.475862       0.458570\n",
       "number_of_referrals                    0.174763       0.055501\n",
       "number_of_dependents                   0.138524       0.072309\n",
       "total_revenue                          0.067786       0.059356\n",
       "married_Yes                            0.043196       0.063752\n",
       "offer_Offer B                          0.030875       0.011385\n",
       "age                                    0.029870       0.017014\n",
       "offer_Offer C                          0.017891       0.032449\n",
       "unlimited_data_Yes                     0.006058       0.011094\n",
       "offer_Offer A                          0.004144       0.010178\n",
       "payment_method_Bank Withdrawal         0.003346       0.026800\n",
       "internet_type                          0.002011       0.030608\n",
       "payment_method_Mailed Check            0.001931       0.028724\n",
       "tenure_in_months                       0.001856       0.010632\n",
       "paperless_billing_Yes                  0.000836       0.020735\n",
       "contract                               0.000486       0.014363\n",
       "avg_monthly_long_distance_charges      0.000194       0.012724\n",
       "internet_service_Yes                   0.000142       0.009891\n",
       "phone_service_Yes                      0.000087       0.007625\n",
       "multiple_lines_Yes                     0.000083       0.011578\n",
       "payment_method_Credit Card             0.000058       0.011082\n",
       "offer_Offer D                          0.000000       0.007369\n",
       "offer_Offer E                          0.000000       0.009253\n",
       "avg_monthly_gb_download                0.000000       0.007006"
      ]
     },
     "execution_count": 74,
     "metadata": {},
     "output_type": "execute_result"
    }
   ],
   "source": [
    "feat_imp_df = pd.DataFrame({'RandomForest': feat_imp_rf, 'XGBClassifier': feat_imp_xgb}, index=features)\n",
    "feat_imp_df.sort_values(by='RandomForest', ascending=False)"
   ]
  },
  {
   "cell_type": "code",
   "execution_count": null,
   "metadata": {},
   "outputs": [
    {
     "data": {
      "image/png": "[encoded data removed]",
      "text/plain": [
       "<Figure size 640x480 with 1 Axes>"
      ]
     },
     "metadata": {},
     "output_type": "display_data"
    }
   ],
   "source": [
    "feat_imp_rf.sort_values().plot(kind='barh')\n",
    "plt.xlabel(\"Feature Importance\")\n",
    "plt.ylabel(\"Features\")\n",
    "plt.title('RandomForest Feature Importance')\n",
    "plt.show()"
   ]
  },
  {
   "cell_type": "code",
   "execution_count": null,
   "metadata": {},
   "outputs": [
    {
     "data": {
      "image/png": "[encoded data removed]",
      "text/plain": [
       "<Figure size 640x480 with 1 Axes>"
      ]
     },
     "metadata": {},
     "output_type": "display_data"
    }
   ],
   "source": [
    "feat_imp_xgb.sort_values().plot(kind='barh')\n",
    "plt.xlabel(\"Feature Importance\")\n",
    "plt.ylabel(\"Features\")\n",
    "plt.title('XGBoost Feature Importance')\n",
    "plt.show()"
   ]
  },
  {
   "cell_type": "markdown",
   "metadata": {},
   "source": [
    "### Saving models"
   ]
  },
  {
   "cell_type": "code",
   "execution_count": null,
   "metadata": {},
   "outputs": [
    {
     "data": {
      "text/plain": [
       "['../models/XGBoost_tuned.pkl']"
      ]
     },
     "execution_count": 78,
     "metadata": {},
     "output_type": "execute_result"
    }
   ],
   "source": [
    "# save random forest\n",
    "joblib.dump(good_model_rf, '../models/forest_tuned.pkl')\n",
    "\n",
    "# save xgboost\n",
    "joblib.dump(good_model_xgb, '../models/XGBoost_tuned.pkl')\n"
   ]
  }
 ],
 "metadata": {
  "kernelspec": {
   "display_name": "Python 3",
   "language": "python",
   "name": "python3"
  },
  "language_info": {
   "codemirror_mode": {
    "name": "ipython",
    "version": 3
   },
   "file_extension": ".py",
   "mimetype": "text/x-python",
   "name": "python",
   "nbconvert_exporter": "python",
   "pygments_lexer": "ipython3",
   "version": "3.10.3"
  },
  "orig_nbformat": 4
 },
 "nbformat": 4,
 "nbformat_minor": 2
}
