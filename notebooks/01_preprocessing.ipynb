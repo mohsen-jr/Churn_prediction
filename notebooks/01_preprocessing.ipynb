{
 "cells": [
  {
   "cell_type": "code",
   "execution_count": 2,
   "metadata": {},
   "outputs": [],
   "source": [
    "DF_PATH = r\"../data/raw/explored_df.pkl\"\n",
    "EXPORT_PATH = r\"../data/processed\"\n",
    "RAW_PATH = r\"../data/raw\""
   ]
  },
  {
   "cell_type": "code",
   "execution_count": 3,
   "metadata": {},
   "outputs": [
    {
     "name": "stdout",
     "output_type": "stream",
     "text": [
      "../data/raw/explored_df.pkl\n"
     ]
    }
   ],
   "source": [
    "print(DF_PATH)"
   ]
  },
  {
   "cell_type": "code",
   "execution_count": 4,
   "metadata": {},
   "outputs": [],
   "source": [
    "# Load packages\n",
    "import numpy as np\n",
    "import pandas as pd\n",
    "import matplotlib.pyplot as plt\n",
    "import seaborn as sns\n",
    "import os\n",
    "import pickle\n",
    "import joblib\n",
    "\n",
    "## imbalance\n",
    "from imblearn.over_sampling import SMOTE\n",
    "\n",
    "## skelarn -- preprocessing\n",
    "from sklearn.model_selection import train_test_split\n",
    "from sklearn.impute import SimpleImputer\n",
    "from sklearn.preprocessing import OneHotEncoder, StandardScaler, OrdinalEncoder, LabelEncoder, MinMaxScaler\n",
    "from sklearn.pipeline import Pipeline, FeatureUnion\n",
    "from sklearn_features.transformers import DataFrameSelector\n"
   ]
  },
  {
   "cell_type": "code",
   "execution_count": 5,
   "metadata": {},
   "outputs": [
    {
     "data": {
      "text/html": [
       "<div>\n",
       "<style scoped>\n",
       "    .dataframe tbody tr th:only-of-type {\n",
       "        vertical-align: middle;\n",
       "    }\n",
       "\n",
       "    .dataframe tbody tr th {\n",
       "        vertical-align: top;\n",
       "    }\n",
       "\n",
       "    .dataframe thead th {\n",
       "        text-align: right;\n",
       "    }\n",
       "</style>\n",
       "<table border=\"1\" class=\"dataframe\">\n",
       "  <thead>\n",
       "    <tr style=\"text-align: right;\">\n",
       "      <th></th>\n",
       "      <th>0</th>\n",
       "      <th>1</th>\n",
       "      <th>2</th>\n",
       "      <th>3</th>\n",
       "      <th>4</th>\n",
       "    </tr>\n",
       "  </thead>\n",
       "  <tbody>\n",
       "    <tr>\n",
       "      <th>gender</th>\n",
       "      <td>Female</td>\n",
       "      <td>Male</td>\n",
       "      <td>Male</td>\n",
       "      <td>Male</td>\n",
       "      <td>Female</td>\n",
       "    </tr>\n",
       "    <tr>\n",
       "      <th>age</th>\n",
       "      <td>37</td>\n",
       "      <td>46</td>\n",
       "      <td>50</td>\n",
       "      <td>78</td>\n",
       "      <td>75</td>\n",
       "    </tr>\n",
       "    <tr>\n",
       "      <th>married</th>\n",
       "      <td>Yes</td>\n",
       "      <td>No</td>\n",
       "      <td>No</td>\n",
       "      <td>Yes</td>\n",
       "      <td>Yes</td>\n",
       "    </tr>\n",
       "    <tr>\n",
       "      <th>number_of_dependents</th>\n",
       "      <td>0</td>\n",
       "      <td>0</td>\n",
       "      <td>0</td>\n",
       "      <td>0</td>\n",
       "      <td>0</td>\n",
       "    </tr>\n",
       "    <tr>\n",
       "      <th>number_of_referrals</th>\n",
       "      <td>2</td>\n",
       "      <td>0</td>\n",
       "      <td>0</td>\n",
       "      <td>1</td>\n",
       "      <td>3</td>\n",
       "    </tr>\n",
       "    <tr>\n",
       "      <th>tenure_in_months</th>\n",
       "      <td>9</td>\n",
       "      <td>9</td>\n",
       "      <td>4</td>\n",
       "      <td>13</td>\n",
       "      <td>3</td>\n",
       "    </tr>\n",
       "    <tr>\n",
       "      <th>offer</th>\n",
       "      <td>NaN</td>\n",
       "      <td>NaN</td>\n",
       "      <td>Offer E</td>\n",
       "      <td>Offer D</td>\n",
       "      <td>NaN</td>\n",
       "    </tr>\n",
       "    <tr>\n",
       "      <th>phone_service</th>\n",
       "      <td>Yes</td>\n",
       "      <td>Yes</td>\n",
       "      <td>Yes</td>\n",
       "      <td>Yes</td>\n",
       "      <td>Yes</td>\n",
       "    </tr>\n",
       "    <tr>\n",
       "      <th>avg_monthly_long_distance_charges</th>\n",
       "      <td>42.39</td>\n",
       "      <td>10.69</td>\n",
       "      <td>33.65</td>\n",
       "      <td>27.82</td>\n",
       "      <td>7.38</td>\n",
       "    </tr>\n",
       "    <tr>\n",
       "      <th>multiple_lines</th>\n",
       "      <td>No</td>\n",
       "      <td>Yes</td>\n",
       "      <td>No</td>\n",
       "      <td>No</td>\n",
       "      <td>No</td>\n",
       "    </tr>\n",
       "    <tr>\n",
       "      <th>internet_service</th>\n",
       "      <td>Yes</td>\n",
       "      <td>Yes</td>\n",
       "      <td>Yes</td>\n",
       "      <td>Yes</td>\n",
       "      <td>Yes</td>\n",
       "    </tr>\n",
       "    <tr>\n",
       "      <th>internet_type</th>\n",
       "      <td>Cable</td>\n",
       "      <td>Cable</td>\n",
       "      <td>Fiber Optic</td>\n",
       "      <td>Fiber Optic</td>\n",
       "      <td>Fiber Optic</td>\n",
       "    </tr>\n",
       "    <tr>\n",
       "      <th>avg_monthly_gb_download</th>\n",
       "      <td>16.0</td>\n",
       "      <td>10.0</td>\n",
       "      <td>30.0</td>\n",
       "      <td>4.0</td>\n",
       "      <td>11.0</td>\n",
       "    </tr>\n",
       "    <tr>\n",
       "      <th>online_security</th>\n",
       "      <td>No</td>\n",
       "      <td>No</td>\n",
       "      <td>No</td>\n",
       "      <td>No</td>\n",
       "      <td>No</td>\n",
       "    </tr>\n",
       "    <tr>\n",
       "      <th>online_backup</th>\n",
       "      <td>Yes</td>\n",
       "      <td>No</td>\n",
       "      <td>No</td>\n",
       "      <td>Yes</td>\n",
       "      <td>No</td>\n",
       "    </tr>\n",
       "    <tr>\n",
       "      <th>device_protection_plan</th>\n",
       "      <td>No</td>\n",
       "      <td>No</td>\n",
       "      <td>Yes</td>\n",
       "      <td>Yes</td>\n",
       "      <td>No</td>\n",
       "    </tr>\n",
       "    <tr>\n",
       "      <th>premium_tech_support</th>\n",
       "      <td>Yes</td>\n",
       "      <td>No</td>\n",
       "      <td>No</td>\n",
       "      <td>No</td>\n",
       "      <td>Yes</td>\n",
       "    </tr>\n",
       "    <tr>\n",
       "      <th>streaming_tv</th>\n",
       "      <td>Yes</td>\n",
       "      <td>No</td>\n",
       "      <td>No</td>\n",
       "      <td>Yes</td>\n",
       "      <td>Yes</td>\n",
       "    </tr>\n",
       "    <tr>\n",
       "      <th>streaming_movies</th>\n",
       "      <td>No</td>\n",
       "      <td>Yes</td>\n",
       "      <td>No</td>\n",
       "      <td>Yes</td>\n",
       "      <td>No</td>\n",
       "    </tr>\n",
       "    <tr>\n",
       "      <th>streaming_music</th>\n",
       "      <td>No</td>\n",
       "      <td>Yes</td>\n",
       "      <td>No</td>\n",
       "      <td>No</td>\n",
       "      <td>No</td>\n",
       "    </tr>\n",
       "    <tr>\n",
       "      <th>unlimited_data</th>\n",
       "      <td>Yes</td>\n",
       "      <td>No</td>\n",
       "      <td>Yes</td>\n",
       "      <td>Yes</td>\n",
       "      <td>Yes</td>\n",
       "    </tr>\n",
       "    <tr>\n",
       "      <th>contract</th>\n",
       "      <td>One Year</td>\n",
       "      <td>Month-to-Month</td>\n",
       "      <td>Month-to-Month</td>\n",
       "      <td>Month-to-Month</td>\n",
       "      <td>Month-to-Month</td>\n",
       "    </tr>\n",
       "    <tr>\n",
       "      <th>paperless_billing</th>\n",
       "      <td>Yes</td>\n",
       "      <td>No</td>\n",
       "      <td>Yes</td>\n",
       "      <td>Yes</td>\n",
       "      <td>Yes</td>\n",
       "    </tr>\n",
       "    <tr>\n",
       "      <th>payment_method</th>\n",
       "      <td>Credit Card</td>\n",
       "      <td>Credit Card</td>\n",
       "      <td>Bank Withdrawal</td>\n",
       "      <td>Bank Withdrawal</td>\n",
       "      <td>Credit Card</td>\n",
       "    </tr>\n",
       "    <tr>\n",
       "      <th>total_revenue</th>\n",
       "      <td>974.81</td>\n",
       "      <td>610.28</td>\n",
       "      <td>415.45</td>\n",
       "      <td>1599.51</td>\n",
       "      <td>289.54</td>\n",
       "    </tr>\n",
       "    <tr>\n",
       "      <th>customer_status</th>\n",
       "      <td>Stayed</td>\n",
       "      <td>Stayed</td>\n",
       "      <td>Churned</td>\n",
       "      <td>Churned</td>\n",
       "      <td>Churned</td>\n",
       "    </tr>\n",
       "  </tbody>\n",
       "</table>\n",
       "</div>"
      ],
      "text/plain": [
       "                                             0               1  \\\n",
       "gender                                  Female            Male   \n",
       "age                                         37              46   \n",
       "married                                    Yes              No   \n",
       "number_of_dependents                         0               0   \n",
       "number_of_referrals                          2               0   \n",
       "tenure_in_months                             9               9   \n",
       "offer                                      NaN             NaN   \n",
       "phone_service                              Yes             Yes   \n",
       "avg_monthly_long_distance_charges        42.39           10.69   \n",
       "multiple_lines                              No             Yes   \n",
       "internet_service                           Yes             Yes   \n",
       "internet_type                            Cable           Cable   \n",
       "avg_monthly_gb_download                   16.0            10.0   \n",
       "online_security                             No              No   \n",
       "online_backup                              Yes              No   \n",
       "device_protection_plan                      No              No   \n",
       "premium_tech_support                       Yes              No   \n",
       "streaming_tv                               Yes              No   \n",
       "streaming_movies                            No             Yes   \n",
       "streaming_music                             No             Yes   \n",
       "unlimited_data                             Yes              No   \n",
       "contract                              One Year  Month-to-Month   \n",
       "paperless_billing                          Yes              No   \n",
       "payment_method                     Credit Card     Credit Card   \n",
       "total_revenue                           974.81          610.28   \n",
       "customer_status                         Stayed          Stayed   \n",
       "\n",
       "                                                 2                3  \\\n",
       "gender                                        Male             Male   \n",
       "age                                             50               78   \n",
       "married                                         No              Yes   \n",
       "number_of_dependents                             0                0   \n",
       "number_of_referrals                              0                1   \n",
       "tenure_in_months                                 4               13   \n",
       "offer                                      Offer E          Offer D   \n",
       "phone_service                                  Yes              Yes   \n",
       "avg_monthly_long_distance_charges            33.65            27.82   \n",
       "multiple_lines                                  No               No   \n",
       "internet_service                               Yes              Yes   \n",
       "internet_type                          Fiber Optic      Fiber Optic   \n",
       "avg_monthly_gb_download                       30.0              4.0   \n",
       "online_security                                 No               No   \n",
       "online_backup                                   No              Yes   \n",
       "device_protection_plan                         Yes              Yes   \n",
       "premium_tech_support                            No               No   \n",
       "streaming_tv                                    No              Yes   \n",
       "streaming_movies                                No              Yes   \n",
       "streaming_music                                 No               No   \n",
       "unlimited_data                                 Yes              Yes   \n",
       "contract                            Month-to-Month   Month-to-Month   \n",
       "paperless_billing                              Yes              Yes   \n",
       "payment_method                     Bank Withdrawal  Bank Withdrawal   \n",
       "total_revenue                               415.45          1599.51   \n",
       "customer_status                            Churned          Churned   \n",
       "\n",
       "                                                4  \n",
       "gender                                     Female  \n",
       "age                                            75  \n",
       "married                                       Yes  \n",
       "number_of_dependents                            0  \n",
       "number_of_referrals                             3  \n",
       "tenure_in_months                                3  \n",
       "offer                                         NaN  \n",
       "phone_service                                 Yes  \n",
       "avg_monthly_long_distance_charges            7.38  \n",
       "multiple_lines                                 No  \n",
       "internet_service                              Yes  \n",
       "internet_type                         Fiber Optic  \n",
       "avg_monthly_gb_download                      11.0  \n",
       "online_security                                No  \n",
       "online_backup                                  No  \n",
       "device_protection_plan                         No  \n",
       "premium_tech_support                          Yes  \n",
       "streaming_tv                                  Yes  \n",
       "streaming_movies                               No  \n",
       "streaming_music                                No  \n",
       "unlimited_data                                Yes  \n",
       "contract                           Month-to-Month  \n",
       "paperless_billing                             Yes  \n",
       "payment_method                        Credit Card  \n",
       "total_revenue                              289.54  \n",
       "customer_status                           Churned  "
      ]
     },
     "execution_count": 5,
     "metadata": {},
     "output_type": "execute_result"
    }
   ],
   "source": [
    "df = pd.read_pickle(DF_PATH)\n",
    "df.head().T"
   ]
  },
  {
   "cell_type": "code",
   "execution_count": 6,
   "metadata": {},
   "outputs": [
    {
     "name": "stdout",
     "output_type": "stream",
     "text": [
      "<class 'pandas.core.frame.DataFrame'>\n",
      "Index: 6589 entries, 0 to 7042\n",
      "Data columns (total 26 columns):\n",
      " #   Column                             Non-Null Count  Dtype  \n",
      "---  ------                             --------------  -----  \n",
      " 0   gender                             6589 non-null   object \n",
      " 1   age                                6589 non-null   int64  \n",
      " 2   married                            6589 non-null   object \n",
      " 3   number_of_dependents               6589 non-null   int64  \n",
      " 4   number_of_referrals                6589 non-null   int64  \n",
      " 5   tenure_in_months                   6589 non-null   int64  \n",
      " 6   offer                              2991 non-null   object \n",
      " 7   phone_service                      6589 non-null   object \n",
      " 8   avg_monthly_long_distance_charges  5945 non-null   float64\n",
      " 9   multiple_lines                     6589 non-null   object \n",
      " 10  internet_service                   6589 non-null   object \n",
      " 11  internet_type                      6589 non-null   object \n",
      " 12  avg_monthly_gb_download            5245 non-null   float64\n",
      " 13  online_security                    6589 non-null   object \n",
      " 14  online_backup                      6589 non-null   object \n",
      " 15  device_protection_plan             6589 non-null   object \n",
      " 16  premium_tech_support               6589 non-null   object \n",
      " 17  streaming_tv                       6589 non-null   object \n",
      " 18  streaming_movies                   6589 non-null   object \n",
      " 19  streaming_music                    6589 non-null   object \n",
      " 20  unlimited_data                     6589 non-null   object \n",
      " 21  contract                           6589 non-null   object \n",
      " 22  paperless_billing                  6589 non-null   object \n",
      " 23  payment_method                     6589 non-null   object \n",
      " 24  total_revenue                      6589 non-null   float64\n",
      " 25  customer_status                    6589 non-null   object \n",
      "dtypes: float64(3), int64(4), object(19)\n",
      "memory usage: 1.4+ MB\n"
     ]
    }
   ],
   "source": [
    "df.info()"
   ]
  },
  {
   "cell_type": "code",
   "execution_count": 7,
   "metadata": {},
   "outputs": [
    {
     "name": "stdout",
     "output_type": "stream",
     "text": [
      "<class 'pandas.core.frame.DataFrame'>\n",
      "RangeIndex: 6589 entries, 0 to 6588\n",
      "Data columns (total 26 columns):\n",
      " #   Column                             Non-Null Count  Dtype  \n",
      "---  ------                             --------------  -----  \n",
      " 0   gender                             6589 non-null   object \n",
      " 1   age                                6589 non-null   int64  \n",
      " 2   married                            6589 non-null   object \n",
      " 3   number_of_dependents               6589 non-null   int64  \n",
      " 4   number_of_referrals                6589 non-null   int64  \n",
      " 5   tenure_in_months                   6589 non-null   int64  \n",
      " 6   offer                              2991 non-null   object \n",
      " 7   phone_service                      6589 non-null   object \n",
      " 8   avg_monthly_long_distance_charges  5945 non-null   float64\n",
      " 9   multiple_lines                     6589 non-null   object \n",
      " 10  internet_service                   6589 non-null   object \n",
      " 11  internet_type                      6589 non-null   object \n",
      " 12  avg_monthly_gb_download            5245 non-null   float64\n",
      " 13  online_security                    6589 non-null   object \n",
      " 14  online_backup                      6589 non-null   object \n",
      " 15  device_protection_plan             6589 non-null   object \n",
      " 16  premium_tech_support               6589 non-null   object \n",
      " 17  streaming_tv                       6589 non-null   object \n",
      " 18  streaming_movies                   6589 non-null   object \n",
      " 19  streaming_music                    6589 non-null   object \n",
      " 20  unlimited_data                     6589 non-null   object \n",
      " 21  contract                           6589 non-null   object \n",
      " 22  paperless_billing                  6589 non-null   object \n",
      " 23  payment_method                     6589 non-null   object \n",
      " 24  total_revenue                      6589 non-null   float64\n",
      " 25  customer_status                    6589 non-null   object \n",
      "dtypes: float64(3), int64(4), object(19)\n",
      "memory usage: 1.3+ MB\n"
     ]
    }
   ],
   "source": [
    "df.reset_index(inplace=True, drop=True)\n",
    "df.info()"
   ]
  },
  {
   "cell_type": "code",
   "execution_count": 8,
   "metadata": {},
   "outputs": [
    {
     "data": {
      "text/html": [
       "<div>\n",
       "<style scoped>\n",
       "    .dataframe tbody tr th:only-of-type {\n",
       "        vertical-align: middle;\n",
       "    }\n",
       "\n",
       "    .dataframe tbody tr th {\n",
       "        vertical-align: top;\n",
       "    }\n",
       "\n",
       "    .dataframe thead th {\n",
       "        text-align: right;\n",
       "    }\n",
       "</style>\n",
       "<table border=\"1\" class=\"dataframe\">\n",
       "  <thead>\n",
       "    <tr style=\"text-align: right;\">\n",
       "      <th></th>\n",
       "      <th>age</th>\n",
       "      <th>number_of_dependents</th>\n",
       "      <th>number_of_referrals</th>\n",
       "      <th>tenure_in_months</th>\n",
       "      <th>avg_monthly_long_distance_charges</th>\n",
       "      <th>avg_monthly_gb_download</th>\n",
       "      <th>total_revenue</th>\n",
       "    </tr>\n",
       "  </thead>\n",
       "  <tbody>\n",
       "    <tr>\n",
       "      <th>count</th>\n",
       "      <td>6589.000000</td>\n",
       "      <td>6589.000000</td>\n",
       "      <td>6589.000000</td>\n",
       "      <td>6589.000000</td>\n",
       "      <td>5945.000000</td>\n",
       "      <td>5245.000000</td>\n",
       "      <td>6589.000000</td>\n",
       "    </tr>\n",
       "    <tr>\n",
       "      <th>mean</th>\n",
       "      <td>46.760510</td>\n",
       "      <td>0.476097</td>\n",
       "      <td>2.020944</td>\n",
       "      <td>34.499772</td>\n",
       "      <td>25.496246</td>\n",
       "      <td>26.225929</td>\n",
       "      <td>3235.218082</td>\n",
       "    </tr>\n",
       "    <tr>\n",
       "      <th>std</th>\n",
       "      <td>16.841362</td>\n",
       "      <td>0.968499</td>\n",
       "      <td>3.024016</td>\n",
       "      <td>23.968734</td>\n",
       "      <td>14.198424</td>\n",
       "      <td>19.565724</td>\n",
       "      <td>2854.600036</td>\n",
       "    </tr>\n",
       "    <tr>\n",
       "      <th>min</th>\n",
       "      <td>19.000000</td>\n",
       "      <td>0.000000</td>\n",
       "      <td>0.000000</td>\n",
       "      <td>1.000000</td>\n",
       "      <td>1.010000</td>\n",
       "      <td>2.000000</td>\n",
       "      <td>21.610000</td>\n",
       "    </tr>\n",
       "    <tr>\n",
       "      <th>25%</th>\n",
       "      <td>33.000000</td>\n",
       "      <td>0.000000</td>\n",
       "      <td>0.000000</td>\n",
       "      <td>12.000000</td>\n",
       "      <td>13.140000</td>\n",
       "      <td>13.000000</td>\n",
       "      <td>835.450000</td>\n",
       "    </tr>\n",
       "    <tr>\n",
       "      <th>50%</th>\n",
       "      <td>46.000000</td>\n",
       "      <td>0.000000</td>\n",
       "      <td>0.000000</td>\n",
       "      <td>32.000000</td>\n",
       "      <td>25.720000</td>\n",
       "      <td>21.000000</td>\n",
       "      <td>2376.450000</td>\n",
       "    </tr>\n",
       "    <tr>\n",
       "      <th>75%</th>\n",
       "      <td>60.000000</td>\n",
       "      <td>0.000000</td>\n",
       "      <td>3.000000</td>\n",
       "      <td>57.000000</td>\n",
       "      <td>37.690000</td>\n",
       "      <td>30.000000</td>\n",
       "      <td>5106.640000</td>\n",
       "    </tr>\n",
       "    <tr>\n",
       "      <th>max</th>\n",
       "      <td>80.000000</td>\n",
       "      <td>9.000000</td>\n",
       "      <td>11.000000</td>\n",
       "      <td>72.000000</td>\n",
       "      <td>49.990000</td>\n",
       "      <td>85.000000</td>\n",
       "      <td>11979.340000</td>\n",
       "    </tr>\n",
       "  </tbody>\n",
       "</table>\n",
       "</div>"
      ],
      "text/plain": [
       "               age  number_of_dependents  number_of_referrals  \\\n",
       "count  6589.000000           6589.000000          6589.000000   \n",
       "mean     46.760510              0.476097             2.020944   \n",
       "std      16.841362              0.968499             3.024016   \n",
       "min      19.000000              0.000000             0.000000   \n",
       "25%      33.000000              0.000000             0.000000   \n",
       "50%      46.000000              0.000000             0.000000   \n",
       "75%      60.000000              0.000000             3.000000   \n",
       "max      80.000000              9.000000            11.000000   \n",
       "\n",
       "       tenure_in_months  avg_monthly_long_distance_charges  \\\n",
       "count       6589.000000                        5945.000000   \n",
       "mean          34.499772                          25.496246   \n",
       "std           23.968734                          14.198424   \n",
       "min            1.000000                           1.010000   \n",
       "25%           12.000000                          13.140000   \n",
       "50%           32.000000                          25.720000   \n",
       "75%           57.000000                          37.690000   \n",
       "max           72.000000                          49.990000   \n",
       "\n",
       "       avg_monthly_gb_download  total_revenue  \n",
       "count              5245.000000    6589.000000  \n",
       "mean                 26.225929    3235.218082  \n",
       "std                  19.565724    2854.600036  \n",
       "min                   2.000000      21.610000  \n",
       "25%                  13.000000     835.450000  \n",
       "50%                  21.000000    2376.450000  \n",
       "75%                  30.000000    5106.640000  \n",
       "max                  85.000000   11979.340000  "
      ]
     },
     "execution_count": 8,
     "metadata": {},
     "output_type": "execute_result"
    }
   ],
   "source": [
    "df.describe()"
   ]
  },
  {
   "cell_type": "code",
   "execution_count": 9,
   "metadata": {},
   "outputs": [
    {
     "data": {
      "text/plain": [
       "gender                                  0\n",
       "age                                     0\n",
       "married                                 0\n",
       "number_of_dependents                    0\n",
       "number_of_referrals                     0\n",
       "tenure_in_months                        0\n",
       "offer                                3598\n",
       "phone_service                           0\n",
       "avg_monthly_long_distance_charges     644\n",
       "multiple_lines                          0\n",
       "internet_service                        0\n",
       "internet_type                           0\n",
       "avg_monthly_gb_download              1344\n",
       "online_security                         0\n",
       "online_backup                           0\n",
       "device_protection_plan                  0\n",
       "premium_tech_support                    0\n",
       "streaming_tv                            0\n",
       "streaming_movies                        0\n",
       "streaming_music                         0\n",
       "unlimited_data                          0\n",
       "contract                                0\n",
       "paperless_billing                       0\n",
       "payment_method                          0\n",
       "total_revenue                           0\n",
       "customer_status                         0\n",
       "dtype: int64"
      ]
     },
     "execution_count": 9,
     "metadata": {},
     "output_type": "execute_result"
    }
   ],
   "source": [
    "df.isna().sum()"
   ]
  },
  {
   "cell_type": "code",
   "execution_count": 10,
   "metadata": {},
   "outputs": [
    {
     "data": {
      "text/html": [
       "<div>\n",
       "<style scoped>\n",
       "    .dataframe tbody tr th:only-of-type {\n",
       "        vertical-align: middle;\n",
       "    }\n",
       "\n",
       "    .dataframe tbody tr th {\n",
       "        vertical-align: top;\n",
       "    }\n",
       "\n",
       "    .dataframe thead th {\n",
       "        text-align: right;\n",
       "    }\n",
       "</style>\n",
       "<table border=\"1\" class=\"dataframe\">\n",
       "  <thead>\n",
       "    <tr style=\"text-align: right;\">\n",
       "      <th></th>\n",
       "      <th>avg_monthly_long_distance_charges</th>\n",
       "      <th>avg_monthly_gb_download</th>\n",
       "    </tr>\n",
       "  </thead>\n",
       "  <tbody>\n",
       "    <tr>\n",
       "      <th>count</th>\n",
       "      <td>5945.000000</td>\n",
       "      <td>5245.000000</td>\n",
       "    </tr>\n",
       "    <tr>\n",
       "      <th>mean</th>\n",
       "      <td>25.496246</td>\n",
       "      <td>26.225929</td>\n",
       "    </tr>\n",
       "    <tr>\n",
       "      <th>std</th>\n",
       "      <td>14.198424</td>\n",
       "      <td>19.565724</td>\n",
       "    </tr>\n",
       "    <tr>\n",
       "      <th>min</th>\n",
       "      <td>1.010000</td>\n",
       "      <td>2.000000</td>\n",
       "    </tr>\n",
       "    <tr>\n",
       "      <th>25%</th>\n",
       "      <td>13.140000</td>\n",
       "      <td>13.000000</td>\n",
       "    </tr>\n",
       "    <tr>\n",
       "      <th>50%</th>\n",
       "      <td>25.720000</td>\n",
       "      <td>21.000000</td>\n",
       "    </tr>\n",
       "    <tr>\n",
       "      <th>75%</th>\n",
       "      <td>37.690000</td>\n",
       "      <td>30.000000</td>\n",
       "    </tr>\n",
       "    <tr>\n",
       "      <th>max</th>\n",
       "      <td>49.990000</td>\n",
       "      <td>85.000000</td>\n",
       "    </tr>\n",
       "  </tbody>\n",
       "</table>\n",
       "</div>"
      ],
      "text/plain": [
       "       avg_monthly_long_distance_charges  avg_monthly_gb_download\n",
       "count                        5945.000000              5245.000000\n",
       "mean                           25.496246                26.225929\n",
       "std                            14.198424                19.565724\n",
       "min                             1.010000                 2.000000\n",
       "25%                            13.140000                13.000000\n",
       "50%                            25.720000                21.000000\n",
       "75%                            37.690000                30.000000\n",
       "max                            49.990000                85.000000"
      ]
     },
     "execution_count": 10,
     "metadata": {},
     "output_type": "execute_result"
    }
   ],
   "source": [
    "df[['avg_monthly_long_distance_charges', 'avg_monthly_gb_download']].describe()"
   ]
  },
  {
   "cell_type": "code",
   "execution_count": 11,
   "metadata": {},
   "outputs": [
    {
     "data": {
      "text/plain": [
       "array([[<Axes: title={'center': 'avg_monthly_long_distance_charges'}>,\n",
       "        <Axes: title={'center': 'avg_monthly_gb_download'}>]],\n",
       "      dtype=object)"
      ]
     },
     "execution_count": 11,
     "metadata": {},
     "output_type": "execute_result"
    },
    {
     "data": {
      "image/png": "[encoded data removed]",
      "text/plain": [
       "<Figure size 1200x600 with 2 Axes>"
      ]
     },
     "metadata": {},
     "output_type": "display_data"
    }
   ],
   "source": [
    "df[['avg_monthly_long_distance_charges', 'avg_monthly_gb_download']].hist(figsize=(12,6))"
   ]
  },
  {
   "cell_type": "markdown",
   "metadata": {},
   "source": [
    "### Split data into train and test"
   ]
  },
  {
   "cell_type": "code",
   "execution_count": 12,
   "metadata": {},
   "outputs": [
    {
     "data": {
      "text/plain": [
       "Index(['gender', 'age', 'married', 'number_of_dependents',\n",
       "       'number_of_referrals', 'tenure_in_months', 'offer', 'phone_service',\n",
       "       'avg_monthly_long_distance_charges', 'multiple_lines',\n",
       "       'internet_service', 'internet_type', 'avg_monthly_gb_download',\n",
       "       'online_security', 'online_backup', 'device_protection_plan',\n",
       "       'premium_tech_support', 'streaming_tv', 'streaming_movies',\n",
       "       'streaming_music', 'unlimited_data', 'contract', 'paperless_billing',\n",
       "       'payment_method', 'total_revenue', 'customer_status'],\n",
       "      dtype='object')"
      ]
     },
     "execution_count": 12,
     "metadata": {},
     "output_type": "execute_result"
    }
   ],
   "source": [
    "df.columns"
   ]
  },
  {
   "cell_type": "code",
   "execution_count": 13,
   "metadata": {},
   "outputs": [
    {
     "name": "stdout",
     "output_type": "stream",
     "text": [
      "online_security\n",
      "No     4616\n",
      "Yes    1973\n",
      "Name: count, dtype: int64\n",
      "online_backup\n",
      "No     4214\n",
      "Yes    2375\n",
      "Name: count, dtype: int64\n",
      "device_protection_plan\n",
      "No     4199\n",
      "Yes    2390\n",
      "Name: count, dtype: int64\n",
      "premium_tech_support\n",
      "No     4592\n",
      "Yes    1997\n",
      "Name: count, dtype: int64\n",
      "streaming_tv\n",
      "No     3931\n",
      "Yes    2658\n",
      "Name: count, dtype: int64\n",
      "streaming_movies\n",
      "No     3906\n",
      "Yes    2683\n",
      "Name: count, dtype: int64\n",
      "streaming_music\n",
      "No     4153\n",
      "Yes    2436\n",
      "Name: count, dtype: int64\n"
     ]
    }
   ],
   "source": [
    "cols = ['online_security', 'online_backup', 'device_protection_plan',\n",
    "       'premium_tech_support', 'streaming_tv', 'streaming_movies',\n",
    "       'streaming_music']\n",
    "for col in cols:\n",
    "    print(df[col].value_counts())"
   ]
  },
  {
   "cell_type": "markdown",
   "metadata": {},
   "source": [
    "### Feature Engineering\n",
    "- Create `enrolled_services` feature that is the sum of all internet services the customer is enrolled to"
   ]
  },
  {
   "cell_type": "code",
   "execution_count": 14,
   "metadata": {},
   "outputs": [
    {
     "data": {
      "text/html": [
       "<div>\n",
       "<style scoped>\n",
       "    .dataframe tbody tr th:only-of-type {\n",
       "        vertical-align: middle;\n",
       "    }\n",
       "\n",
       "    .dataframe tbody tr th {\n",
       "        vertical-align: top;\n",
       "    }\n",
       "\n",
       "    .dataframe thead th {\n",
       "        text-align: right;\n",
       "    }\n",
       "</style>\n",
       "<table border=\"1\" class=\"dataframe\">\n",
       "  <thead>\n",
       "    <tr style=\"text-align: right;\">\n",
       "      <th></th>\n",
       "      <th>online_security</th>\n",
       "      <th>online_backup</th>\n",
       "      <th>device_protection_plan</th>\n",
       "      <th>premium_tech_support</th>\n",
       "      <th>streaming_tv</th>\n",
       "      <th>streaming_movies</th>\n",
       "      <th>streaming_music</th>\n",
       "    </tr>\n",
       "  </thead>\n",
       "  <tbody>\n",
       "    <tr>\n",
       "      <th>0</th>\n",
       "      <td>0</td>\n",
       "      <td>1</td>\n",
       "      <td>0</td>\n",
       "      <td>1</td>\n",
       "      <td>1</td>\n",
       "      <td>0</td>\n",
       "      <td>0</td>\n",
       "    </tr>\n",
       "    <tr>\n",
       "      <th>1</th>\n",
       "      <td>0</td>\n",
       "      <td>0</td>\n",
       "      <td>0</td>\n",
       "      <td>0</td>\n",
       "      <td>0</td>\n",
       "      <td>1</td>\n",
       "      <td>1</td>\n",
       "    </tr>\n",
       "    <tr>\n",
       "      <th>2</th>\n",
       "      <td>0</td>\n",
       "      <td>0</td>\n",
       "      <td>1</td>\n",
       "      <td>0</td>\n",
       "      <td>0</td>\n",
       "      <td>0</td>\n",
       "      <td>0</td>\n",
       "    </tr>\n",
       "    <tr>\n",
       "      <th>3</th>\n",
       "      <td>0</td>\n",
       "      <td>1</td>\n",
       "      <td>1</td>\n",
       "      <td>0</td>\n",
       "      <td>1</td>\n",
       "      <td>1</td>\n",
       "      <td>0</td>\n",
       "    </tr>\n",
       "    <tr>\n",
       "      <th>4</th>\n",
       "      <td>0</td>\n",
       "      <td>0</td>\n",
       "      <td>0</td>\n",
       "      <td>1</td>\n",
       "      <td>1</td>\n",
       "      <td>0</td>\n",
       "      <td>0</td>\n",
       "    </tr>\n",
       "  </tbody>\n",
       "</table>\n",
       "</div>"
      ],
      "text/plain": [
       "   online_security  online_backup  device_protection_plan  \\\n",
       "0                0              1                       0   \n",
       "1                0              0                       0   \n",
       "2                0              0                       1   \n",
       "3                0              1                       1   \n",
       "4                0              0                       0   \n",
       "\n",
       "   premium_tech_support  streaming_tv  streaming_movies  streaming_music  \n",
       "0                     1             1                 0                0  \n",
       "1                     0             0                 1                1  \n",
       "2                     0             0                 0                0  \n",
       "3                     0             1                 1                0  \n",
       "4                     1             1                 0                0  "
      ]
     },
     "execution_count": 14,
     "metadata": {},
     "output_type": "execute_result"
    }
   ],
   "source": [
    "DICT_REPLACE = {'Yes': 1, 'No': 0}\n",
    "df_internet = df[cols].replace(DICT_REPLACE)\n",
    "df_internet.head()"
   ]
  },
  {
   "cell_type": "code",
   "execution_count": 15,
   "metadata": {},
   "outputs": [
    {
     "data": {
      "text/html": [
       "<div>\n",
       "<style scoped>\n",
       "    .dataframe tbody tr th:only-of-type {\n",
       "        vertical-align: middle;\n",
       "    }\n",
       "\n",
       "    .dataframe tbody tr th {\n",
       "        vertical-align: top;\n",
       "    }\n",
       "\n",
       "    .dataframe thead th {\n",
       "        text-align: right;\n",
       "    }\n",
       "</style>\n",
       "<table border=\"1\" class=\"dataframe\">\n",
       "  <thead>\n",
       "    <tr style=\"text-align: right;\">\n",
       "      <th></th>\n",
       "      <th>online_security</th>\n",
       "      <th>online_backup</th>\n",
       "      <th>device_protection_plan</th>\n",
       "      <th>premium_tech_support</th>\n",
       "      <th>streaming_tv</th>\n",
       "      <th>streaming_movies</th>\n",
       "      <th>streaming_music</th>\n",
       "      <th>enrolled_services</th>\n",
       "    </tr>\n",
       "  </thead>\n",
       "  <tbody>\n",
       "    <tr>\n",
       "      <th>0</th>\n",
       "      <td>0</td>\n",
       "      <td>1</td>\n",
       "      <td>0</td>\n",
       "      <td>1</td>\n",
       "      <td>1</td>\n",
       "      <td>0</td>\n",
       "      <td>0</td>\n",
       "      <td>3</td>\n",
       "    </tr>\n",
       "    <tr>\n",
       "      <th>1</th>\n",
       "      <td>0</td>\n",
       "      <td>0</td>\n",
       "      <td>0</td>\n",
       "      <td>0</td>\n",
       "      <td>0</td>\n",
       "      <td>1</td>\n",
       "      <td>1</td>\n",
       "      <td>2</td>\n",
       "    </tr>\n",
       "    <tr>\n",
       "      <th>2</th>\n",
       "      <td>0</td>\n",
       "      <td>0</td>\n",
       "      <td>1</td>\n",
       "      <td>0</td>\n",
       "      <td>0</td>\n",
       "      <td>0</td>\n",
       "      <td>0</td>\n",
       "      <td>1</td>\n",
       "    </tr>\n",
       "    <tr>\n",
       "      <th>3</th>\n",
       "      <td>0</td>\n",
       "      <td>1</td>\n",
       "      <td>1</td>\n",
       "      <td>0</td>\n",
       "      <td>1</td>\n",
       "      <td>1</td>\n",
       "      <td>0</td>\n",
       "      <td>4</td>\n",
       "    </tr>\n",
       "    <tr>\n",
       "      <th>4</th>\n",
       "      <td>0</td>\n",
       "      <td>0</td>\n",
       "      <td>0</td>\n",
       "      <td>1</td>\n",
       "      <td>1</td>\n",
       "      <td>0</td>\n",
       "      <td>0</td>\n",
       "      <td>2</td>\n",
       "    </tr>\n",
       "  </tbody>\n",
       "</table>\n",
       "</div>"
      ],
      "text/plain": [
       "   online_security  online_backup  device_protection_plan  \\\n",
       "0                0              1                       0   \n",
       "1                0              0                       0   \n",
       "2                0              0                       1   \n",
       "3                0              1                       1   \n",
       "4                0              0                       0   \n",
       "\n",
       "   premium_tech_support  streaming_tv  streaming_movies  streaming_music  \\\n",
       "0                     1             1                 0                0   \n",
       "1                     0             0                 1                1   \n",
       "2                     0             0                 0                0   \n",
       "3                     0             1                 1                0   \n",
       "4                     1             1                 0                0   \n",
       "\n",
       "   enrolled_services  \n",
       "0                  3  \n",
       "1                  2  \n",
       "2                  1  \n",
       "3                  4  \n",
       "4                  2  "
      ]
     },
     "execution_count": 15,
     "metadata": {},
     "output_type": "execute_result"
    }
   ],
   "source": [
    "df_internet['enrolled_services'] = np.sum(df_internet, axis=1)\n",
    "df_internet.head()"
   ]
  },
  {
   "cell_type": "code",
   "execution_count": 16,
   "metadata": {},
   "outputs": [
    {
     "name": "stdout",
     "output_type": "stream",
     "text": [
      "online_security\n",
      "0    4616\n",
      "1    1973\n",
      "Name: count, dtype: int64\n",
      "online_backup\n",
      "0    4214\n",
      "1    2375\n",
      "Name: count, dtype: int64\n",
      "device_protection_plan\n",
      "0    4199\n",
      "1    2390\n",
      "Name: count, dtype: int64\n",
      "premium_tech_support\n",
      "0    4592\n",
      "1    1997\n",
      "Name: count, dtype: int64\n",
      "streaming_tv\n",
      "0    3931\n",
      "1    2658\n",
      "Name: count, dtype: int64\n",
      "streaming_movies\n",
      "0    3906\n",
      "1    2683\n",
      "Name: count, dtype: int64\n",
      "streaming_music\n",
      "0    4153\n",
      "1    2436\n",
      "Name: count, dtype: int64\n",
      "enrolled_services\n",
      "0    1885\n",
      "3     871\n",
      "4     839\n",
      "2     822\n",
      "1     742\n",
      "5     680\n",
      "6     493\n",
      "7     257\n",
      "Name: count, dtype: int64\n"
     ]
    }
   ],
   "source": [
    "for col in df_internet.columns.to_list():\n",
    "    print(df_internet[col].value_counts())"
   ]
  },
  {
   "cell_type": "code",
   "execution_count": 17,
   "metadata": {},
   "outputs": [
    {
     "name": "stdout",
     "output_type": "stream",
     "text": [
      "<class 'pandas.core.frame.DataFrame'>\n",
      "RangeIndex: 6589 entries, 0 to 6588\n",
      "Data columns (total 27 columns):\n",
      " #   Column                             Non-Null Count  Dtype  \n",
      "---  ------                             --------------  -----  \n",
      " 0   gender                             6589 non-null   object \n",
      " 1   age                                6589 non-null   int64  \n",
      " 2   married                            6589 non-null   object \n",
      " 3   number_of_dependents               6589 non-null   int64  \n",
      " 4   number_of_referrals                6589 non-null   int64  \n",
      " 5   tenure_in_months                   6589 non-null   int64  \n",
      " 6   offer                              2991 non-null   object \n",
      " 7   phone_service                      6589 non-null   object \n",
      " 8   avg_monthly_long_distance_charges  5945 non-null   float64\n",
      " 9   multiple_lines                     6589 non-null   object \n",
      " 10  internet_service                   6589 non-null   object \n",
      " 11  internet_type                      6589 non-null   object \n",
      " 12  avg_monthly_gb_download            5245 non-null   float64\n",
      " 13  online_security                    6589 non-null   object \n",
      " 14  online_backup                      6589 non-null   object \n",
      " 15  device_protection_plan             6589 non-null   object \n",
      " 16  premium_tech_support               6589 non-null   object \n",
      " 17  streaming_tv                       6589 non-null   object \n",
      " 18  streaming_movies                   6589 non-null   object \n",
      " 19  streaming_music                    6589 non-null   object \n",
      " 20  unlimited_data                     6589 non-null   object \n",
      " 21  contract                           6589 non-null   object \n",
      " 22  paperless_billing                  6589 non-null   object \n",
      " 23  payment_method                     6589 non-null   object \n",
      " 24  total_revenue                      6589 non-null   float64\n",
      " 25  customer_status                    6589 non-null   object \n",
      " 26  enrolled_services                  6589 non-null   int64  \n",
      "dtypes: float64(3), int64(5), object(19)\n",
      "memory usage: 1.4+ MB\n"
     ]
    }
   ],
   "source": [
    "df['enrolled_services'] = df_internet['enrolled_services']\n",
    "df.info()"
   ]
  },
  {
   "cell_type": "code",
   "execution_count": 18,
   "metadata": {},
   "outputs": [
    {
     "data": {
      "text/plain": [
       "Index(['age', 'married', 'number_of_dependents', 'number_of_referrals',\n",
       "       'tenure_in_months', 'offer', 'phone_service',\n",
       "       'avg_monthly_long_distance_charges', 'multiple_lines',\n",
       "       'internet_service', 'internet_type', 'avg_monthly_gb_download',\n",
       "       'online_security', 'online_backup', 'device_protection_plan',\n",
       "       'premium_tech_support', 'streaming_tv', 'streaming_movies',\n",
       "       'streaming_music', 'unlimited_data', 'contract', 'paperless_billing',\n",
       "       'payment_method', 'total_revenue', 'enrolled_services'],\n",
       "      dtype='object')"
      ]
     },
     "execution_count": 18,
     "metadata": {},
     "output_type": "execute_result"
    }
   ],
   "source": [
    "df.drop(columns=['customer_status', 'gender']).columns"
   ]
  },
  {
   "cell_type": "code",
   "execution_count": 17,
   "metadata": {},
   "outputs": [
    {
     "name": "stderr",
     "output_type": "stream",
     "text": [
      "e:\\Epsilon_DS\\finalProject\\STREAMLIT\\lib\\site-packages\\sklearn\\utils\\validation.py:605: FutureWarning: is_sparse is deprecated and will be removed in a future version. Check `isinstance(dtype, pd.SparseDtype)` instead.\n",
      "  if is_sparse(pd_dtype):\n",
      "e:\\Epsilon_DS\\finalProject\\STREAMLIT\\lib\\site-packages\\sklearn\\utils\\validation.py:614: FutureWarning: is_sparse is deprecated and will be removed in a future version. Check `isinstance(dtype, pd.SparseDtype)` instead.\n",
      "  if is_sparse(pd_dtype) or not is_extension_array_dtype(pd_dtype):\n"
     ]
    },
    {
     "name": "stdout",
     "output_type": "stream",
     "text": [
      "X_train.shape \t (5271, 18)\n",
      "y_train.shape \t (5271,)\n",
      "******************************\n",
      "X_test.shape \t (1318, 18)\n",
      "y_test.shape \t (1318,)\n"
     ]
    }
   ],
   "source": [
    "## To features and target\n",
    "X = df.drop(columns=['customer_status', 'gender', 'online_security', 'online_backup', 'device_protection_plan',\n",
    "       'premium_tech_support', 'streaming_tv', 'streaming_movies', 'streaming_music'])\n",
    "y = df['customer_status']\n",
    "\n",
    "## Split to train and test\n",
    "X_train, X_test, y_train, y_test = train_test_split(X, y, test_size=0.2, shuffle=True, random_state=42, stratify=y)\n",
    "\n",
    "## Check shapes\n",
    "print('X_train.shape \\t', X_train.shape)\n",
    "print('y_train.shape \\t', y_train.shape)\n",
    "print('***'*10)\n",
    "print('X_test.shape \\t', X_test.shape)\n",
    "print('y_test.shape \\t', y_test.shape)"
   ]
  },
  {
   "cell_type": "markdown",
   "metadata": {},
   "source": [
    "#### Save Train and Test data for later use to train and test the best model on them"
   ]
  },
  {
   "cell_type": "code",
   "execution_count": 18,
   "metadata": {},
   "outputs": [],
   "source": [
    "# saving training set\n",
    "with open(os.path.join(RAW_PATH, 'X_train_total.pkl'), 'wb') as f:\n",
    "    pickle.dump(X_train,f)\n",
    "\n",
    "\n",
    "# saving y_train\n",
    "with open(os.path.join(RAW_PATH, 'y_train_total.pkl'), 'wb') as f:\n",
    "    pickle.dump(y_train,f)\n"
   ]
  },
  {
   "cell_type": "markdown",
   "metadata": {},
   "source": [
    "### Split training data into train and validation sets"
   ]
  },
  {
   "cell_type": "code",
   "execution_count": 19,
   "metadata": {},
   "outputs": [
    {
     "name": "stdout",
     "output_type": "stream",
     "text": [
      "X_train.shape \t (4216, 18)\n",
      "y_train.shape \t (4216,)\n",
      "******************************\n",
      "X_test.shape \t (1055, 18)\n",
      "y_test.shape \t (1055,)\n"
     ]
    },
    {
     "name": "stderr",
     "output_type": "stream",
     "text": [
      "e:\\Epsilon_DS\\finalProject\\STREAMLIT\\lib\\site-packages\\sklearn\\utils\\validation.py:605: FutureWarning: is_sparse is deprecated and will be removed in a future version. Check `isinstance(dtype, pd.SparseDtype)` instead.\n",
      "  if is_sparse(pd_dtype):\n",
      "e:\\Epsilon_DS\\finalProject\\STREAMLIT\\lib\\site-packages\\sklearn\\utils\\validation.py:614: FutureWarning: is_sparse is deprecated and will be removed in a future version. Check `isinstance(dtype, pd.SparseDtype)` instead.\n",
      "  if is_sparse(pd_dtype) or not is_extension_array_dtype(pd_dtype):\n"
     ]
    }
   ],
   "source": [
    "## Split to train and val\n",
    "X_train, X_val, y_train, y_val = train_test_split(X_train, y_train, test_size=0.2, shuffle=True, random_state=42, stratify=y_train)\n",
    "\n",
    "## Check shapes\n",
    "print('X_train.shape \\t', X_train.shape)\n",
    "print('y_train.shape \\t', y_train.shape)\n",
    "print('***'*10)\n",
    "print('X_test.shape \\t', X_val.shape)\n",
    "print('y_test.shape \\t', y_val.shape)"
   ]
  },
  {
   "cell_type": "code",
   "execution_count": 39,
   "metadata": {},
   "outputs": [
    {
     "data": {
      "text/plain": [
       "0.2836812144212524"
      ]
     },
     "execution_count": 39,
     "metadata": {},
     "output_type": "execute_result"
    }
   ],
   "source": [
    "y_train.value_counts().iloc[1] / len(y_train)"
   ]
  },
  {
   "cell_type": "code",
   "execution_count": 21,
   "metadata": {},
   "outputs": [
    {
     "name": "stderr",
     "output_type": "stream",
     "text": [
      "e:\\Epsilon_DS\\finalProject\\STREAMLIT\\lib\\site-packages\\seaborn\\_oldcore.py:1498: FutureWarning: is_categorical_dtype is deprecated and will be removed in a future version. Use isinstance(dtype, CategoricalDtype) instead\n",
      "  if pd.api.types.is_categorical_dtype(vector):\n",
      "e:\\Epsilon_DS\\finalProject\\STREAMLIT\\lib\\site-packages\\seaborn\\_oldcore.py:1498: FutureWarning: is_categorical_dtype is deprecated and will be removed in a future version. Use isinstance(dtype, CategoricalDtype) instead\n",
      "  if pd.api.types.is_categorical_dtype(vector):\n",
      "e:\\Epsilon_DS\\finalProject\\STREAMLIT\\lib\\site-packages\\seaborn\\_oldcore.py:1498: FutureWarning: is_categorical_dtype is deprecated and will be removed in a future version. Use isinstance(dtype, CategoricalDtype) instead\n",
      "  if pd.api.types.is_categorical_dtype(vector):\n",
      "e:\\Epsilon_DS\\finalProject\\STREAMLIT\\lib\\site-packages\\seaborn\\_oldcore.py:1498: FutureWarning: is_categorical_dtype is deprecated and will be removed in a future version. Use isinstance(dtype, CategoricalDtype) instead\n",
      "  if pd.api.types.is_categorical_dtype(vector):\n",
      "e:\\Epsilon_DS\\finalProject\\STREAMLIT\\lib\\site-packages\\seaborn\\_oldcore.py:1498: FutureWarning: is_categorical_dtype is deprecated and will be removed in a future version. Use isinstance(dtype, CategoricalDtype) instead\n",
      "  if pd.api.types.is_categorical_dtype(vector):\n",
      "e:\\Epsilon_DS\\finalProject\\STREAMLIT\\lib\\site-packages\\seaborn\\_oldcore.py:1498: FutureWarning: is_categorical_dtype is deprecated and will be removed in a future version. Use isinstance(dtype, CategoricalDtype) instead\n",
      "  if pd.api.types.is_categorical_dtype(vector):\n",
      "e:\\Epsilon_DS\\finalProject\\STREAMLIT\\lib\\site-packages\\seaborn\\_oldcore.py:1498: FutureWarning: is_categorical_dtype is deprecated and will be removed in a future version. Use isinstance(dtype, CategoricalDtype) instead\n",
      "  if pd.api.types.is_categorical_dtype(vector):\n",
      "e:\\Epsilon_DS\\finalProject\\STREAMLIT\\lib\\site-packages\\seaborn\\_oldcore.py:1498: FutureWarning: is_categorical_dtype is deprecated and will be removed in a future version. Use isinstance(dtype, CategoricalDtype) instead\n",
      "  if pd.api.types.is_categorical_dtype(vector):\n",
      "e:\\Epsilon_DS\\finalProject\\STREAMLIT\\lib\\site-packages\\seaborn\\_oldcore.py:1498: FutureWarning: is_categorical_dtype is deprecated and will be removed in a future version. Use isinstance(dtype, CategoricalDtype) instead\n",
      "  if pd.api.types.is_categorical_dtype(vector):\n",
      "e:\\Epsilon_DS\\finalProject\\STREAMLIT\\lib\\site-packages\\seaborn\\_oldcore.py:1498: FutureWarning: is_categorical_dtype is deprecated and will be removed in a future version. Use isinstance(dtype, CategoricalDtype) instead\n",
      "  if pd.api.types.is_categorical_dtype(vector):\n",
      "e:\\Epsilon_DS\\finalProject\\STREAMLIT\\lib\\site-packages\\seaborn\\_oldcore.py:1498: FutureWarning: is_categorical_dtype is deprecated and will be removed in a future version. Use isinstance(dtype, CategoricalDtype) instead\n",
      "  if pd.api.types.is_categorical_dtype(vector):\n",
      "e:\\Epsilon_DS\\finalProject\\STREAMLIT\\lib\\site-packages\\seaborn\\_oldcore.py:1498: FutureWarning: is_categorical_dtype is deprecated and will be removed in a future version. Use isinstance(dtype, CategoricalDtype) instead\n",
      "  if pd.api.types.is_categorical_dtype(vector):\n"
     ]
    },
    {
     "data": {
      "image/png": "[encoded data removed]",
      "text/plain": [
       "<Figure size 2000x400 with 4 Axes>"
      ]
     },
     "metadata": {},
     "output_type": "display_data"
    }
   ],
   "source": [
    "## plottting to check\n",
    "fig, ax = plt.subplots(1,4, figsize=(20, 4))\n",
    "\n",
    "## Whole dataset\n",
    "plt.sca(ax[0])\n",
    "sns.countplot(x=y)\n",
    "plt.title('For Whole Datast')\n",
    "plt.ylabel('Count')\n",
    "plt.xticks(ticks=[0, 1], labels=['Stayed', 'Churned'])\n",
    "\n",
    "## train\n",
    "plt.sca(ax[1])\n",
    "sns.countplot(x=y_train)\n",
    "plt.title('For Training Datast')\n",
    "plt.ylabel('')\n",
    "plt.xticks(ticks=[0, 1], labels=['Stayed', 'Churned'])\n",
    "\n",
    "## validation\n",
    "plt.sca(ax[2])\n",
    "sns.countplot(x=y_val)\n",
    "plt.title('For Validation Datast')\n",
    "plt.ylabel('')\n",
    "plt.xticks(ticks=[0, 1], labels=['Stayed', 'Churned'])\n",
    "\n",
    "\n",
    "## test\n",
    "plt.sca(ax[3])\n",
    "sns.countplot(x=y_test)\n",
    "plt.title('For Testing Datast')\n",
    "plt.ylabel('')\n",
    "plt.xticks(ticks=[0, 1], labels=['Stayed', 'Churned'])\n",
    "plt.show()"
   ]
  },
  {
   "cell_type": "markdown",
   "metadata": {},
   "source": [
    "### Creating Pipeline for data preprocessing"
   ]
  },
  {
   "cell_type": "code",
   "execution_count": 22,
   "metadata": {},
   "outputs": [
    {
     "data": {
      "text/plain": [
       "age                                    int64\n",
       "married                               object\n",
       "number_of_dependents                   int64\n",
       "number_of_referrals                    int64\n",
       "tenure_in_months                       int64\n",
       "offer                                 object\n",
       "phone_service                         object\n",
       "avg_monthly_long_distance_charges    float64\n",
       "multiple_lines                        object\n",
       "internet_service                      object\n",
       "internet_type                         object\n",
       "avg_monthly_gb_download              float64\n",
       "unlimited_data                        object\n",
       "contract                              object\n",
       "paperless_billing                     object\n",
       "payment_method                        object\n",
       "total_revenue                        float64\n",
       "enrolled_services                      int64\n",
       "dtype: object"
      ]
     },
     "execution_count": 22,
     "metadata": {},
     "output_type": "execute_result"
    }
   ],
   "source": [
    "X_train.dtypes"
   ]
  },
  {
   "cell_type": "code",
   "execution_count": 23,
   "metadata": {},
   "outputs": [
    {
     "data": {
      "text/plain": [
       "married              2\n",
       "offer                5\n",
       "phone_service        2\n",
       "multiple_lines       2\n",
       "internet_service     2\n",
       "internet_type        4\n",
       "unlimited_data       2\n",
       "contract             3\n",
       "paperless_billing    2\n",
       "payment_method       3\n",
       "dtype: int64"
      ]
     },
     "execution_count": 23,
     "metadata": {},
     "output_type": "execute_result"
    }
   ],
   "source": [
    "X_train.select_dtypes(include='O').nunique()"
   ]
  },
  {
   "cell_type": "code",
   "execution_count": 24,
   "metadata": {},
   "outputs": [],
   "source": [
    "num_cols = ['age', 'number_of_dependents', 'number_of_referrals', 'tenure_in_months', 'avg_monthly_long_distance_charges',\n",
    "            'avg_monthly_gb_download', 'total_revenue', 'enrolled_services']\n",
    "\n",
    "cat_cols = ['married', 'phone_service', 'multiple_lines', 'internet_service', 'unlimited_data', 'paperless_billing', 'offer', 'payment_method']\n",
    "\n",
    "ord_cols_1 = ['internet_type']\n",
    "ord_cols_2 = ['contract']\n"
   ]
  },
  {
   "cell_type": "code",
   "execution_count": 25,
   "metadata": {},
   "outputs": [
    {
     "name": "stderr",
     "output_type": "stream",
     "text": [
      "e:\\Epsilon_DS\\finalProject\\STREAMLIT\\lib\\site-packages\\sklearn\\utils\\validation.py:767: FutureWarning: is_sparse is deprecated and will be removed in a future version. Check `isinstance(dtype, pd.SparseDtype)` instead.\n",
      "  if not hasattr(array, \"sparse\") and array.dtypes.apply(is_sparse).any():\n",
      "e:\\Epsilon_DS\\finalProject\\STREAMLIT\\lib\\site-packages\\sklearn\\utils\\validation.py:605: FutureWarning: is_sparse is deprecated and will be removed in a future version. Check `isinstance(dtype, pd.SparseDtype)` instead.\n",
      "  if is_sparse(pd_dtype):\n",
      "e:\\Epsilon_DS\\finalProject\\STREAMLIT\\lib\\site-packages\\sklearn\\utils\\validation.py:614: FutureWarning: is_sparse is deprecated and will be removed in a future version. Check `isinstance(dtype, pd.SparseDtype)` instead.\n",
      "  if is_sparse(pd_dtype) or not is_extension_array_dtype(pd_dtype):\n",
      "e:\\Epsilon_DS\\finalProject\\STREAMLIT\\lib\\site-packages\\sklearn\\utils\\validation.py:767: FutureWarning: is_sparse is deprecated and will be removed in a future version. Check `isinstance(dtype, pd.SparseDtype)` instead.\n",
      "  if not hasattr(array, \"sparse\") and array.dtypes.apply(is_sparse).any():\n",
      "e:\\Epsilon_DS\\finalProject\\STREAMLIT\\lib\\site-packages\\sklearn\\utils\\validation.py:605: FutureWarning: is_sparse is deprecated and will be removed in a future version. Check `isinstance(dtype, pd.SparseDtype)` instead.\n",
      "  if is_sparse(pd_dtype):\n",
      "e:\\Epsilon_DS\\finalProject\\STREAMLIT\\lib\\site-packages\\sklearn\\utils\\validation.py:614: FutureWarning: is_sparse is deprecated and will be removed in a future version. Check `isinstance(dtype, pd.SparseDtype)` instead.\n",
      "  if is_sparse(pd_dtype) or not is_extension_array_dtype(pd_dtype):\n",
      "e:\\Epsilon_DS\\finalProject\\STREAMLIT\\lib\\site-packages\\sklearn\\utils\\validation.py:767: FutureWarning: is_sparse is deprecated and will be removed in a future version. Check `isinstance(dtype, pd.SparseDtype)` instead.\n",
      "  if not hasattr(array, \"sparse\") and array.dtypes.apply(is_sparse).any():\n",
      "e:\\Epsilon_DS\\finalProject\\STREAMLIT\\lib\\site-packages\\sklearn\\utils\\validation.py:605: FutureWarning: is_sparse is deprecated and will be removed in a future version. Check `isinstance(dtype, pd.SparseDtype)` instead.\n",
      "  if is_sparse(pd_dtype):\n",
      "e:\\Epsilon_DS\\finalProject\\STREAMLIT\\lib\\site-packages\\sklearn\\utils\\validation.py:614: FutureWarning: is_sparse is deprecated and will be removed in a future version. Check `isinstance(dtype, pd.SparseDtype)` instead.\n",
      "  if is_sparse(pd_dtype) or not is_extension_array_dtype(pd_dtype):\n",
      "e:\\Epsilon_DS\\finalProject\\STREAMLIT\\lib\\site-packages\\sklearn\\utils\\validation.py:767: FutureWarning: is_sparse is deprecated and will be removed in a future version. Check `isinstance(dtype, pd.SparseDtype)` instead.\n",
      "  if not hasattr(array, \"sparse\") and array.dtypes.apply(is_sparse).any():\n",
      "e:\\Epsilon_DS\\finalProject\\STREAMLIT\\lib\\site-packages\\sklearn\\utils\\validation.py:605: FutureWarning: is_sparse is deprecated and will be removed in a future version. Check `isinstance(dtype, pd.SparseDtype)` instead.\n",
      "  if is_sparse(pd_dtype):\n",
      "e:\\Epsilon_DS\\finalProject\\STREAMLIT\\lib\\site-packages\\sklearn\\utils\\validation.py:614: FutureWarning: is_sparse is deprecated and will be removed in a future version. Check `isinstance(dtype, pd.SparseDtype)` instead.\n",
      "  if is_sparse(pd_dtype) or not is_extension_array_dtype(pd_dtype):\n",
      "e:\\Epsilon_DS\\finalProject\\STREAMLIT\\lib\\site-packages\\sklearn\\utils\\validation.py:767: FutureWarning: is_sparse is deprecated and will be removed in a future version. Check `isinstance(dtype, pd.SparseDtype)` instead.\n",
      "  if not hasattr(array, \"sparse\") and array.dtypes.apply(is_sparse).any():\n",
      "e:\\Epsilon_DS\\finalProject\\STREAMLIT\\lib\\site-packages\\sklearn\\utils\\validation.py:605: FutureWarning: is_sparse is deprecated and will be removed in a future version. Check `isinstance(dtype, pd.SparseDtype)` instead.\n",
      "  if is_sparse(pd_dtype):\n",
      "e:\\Epsilon_DS\\finalProject\\STREAMLIT\\lib\\site-packages\\sklearn\\utils\\validation.py:614: FutureWarning: is_sparse is deprecated and will be removed in a future version. Check `isinstance(dtype, pd.SparseDtype)` instead.\n",
      "  if is_sparse(pd_dtype) or not is_extension_array_dtype(pd_dtype):\n",
      "e:\\Epsilon_DS\\finalProject\\STREAMLIT\\lib\\site-packages\\sklearn\\utils\\validation.py:767: FutureWarning: is_sparse is deprecated and will be removed in a future version. Check `isinstance(dtype, pd.SparseDtype)` instead.\n",
      "  if not hasattr(array, \"sparse\") and array.dtypes.apply(is_sparse).any():\n",
      "e:\\Epsilon_DS\\finalProject\\STREAMLIT\\lib\\site-packages\\sklearn\\utils\\validation.py:605: FutureWarning: is_sparse is deprecated and will be removed in a future version. Check `isinstance(dtype, pd.SparseDtype)` instead.\n",
      "  if is_sparse(pd_dtype):\n",
      "e:\\Epsilon_DS\\finalProject\\STREAMLIT\\lib\\site-packages\\sklearn\\utils\\validation.py:614: FutureWarning: is_sparse is deprecated and will be removed in a future version. Check `isinstance(dtype, pd.SparseDtype)` instead.\n",
      "  if is_sparse(pd_dtype) or not is_extension_array_dtype(pd_dtype):\n",
      "e:\\Epsilon_DS\\finalProject\\STREAMLIT\\lib\\site-packages\\sklearn\\utils\\validation.py:767: FutureWarning: is_sparse is deprecated and will be removed in a future version. Check `isinstance(dtype, pd.SparseDtype)` instead.\n",
      "  if not hasattr(array, \"sparse\") and array.dtypes.apply(is_sparse).any():\n",
      "e:\\Epsilon_DS\\finalProject\\STREAMLIT\\lib\\site-packages\\sklearn\\utils\\validation.py:605: FutureWarning: is_sparse is deprecated and will be removed in a future version. Check `isinstance(dtype, pd.SparseDtype)` instead.\n",
      "  if is_sparse(pd_dtype):\n",
      "e:\\Epsilon_DS\\finalProject\\STREAMLIT\\lib\\site-packages\\sklearn\\utils\\validation.py:614: FutureWarning: is_sparse is deprecated and will be removed in a future version. Check `isinstance(dtype, pd.SparseDtype)` instead.\n",
      "  if is_sparse(pd_dtype) or not is_extension_array_dtype(pd_dtype):\n",
      "e:\\Epsilon_DS\\finalProject\\STREAMLIT\\lib\\site-packages\\sklearn\\utils\\validation.py:767: FutureWarning: is_sparse is deprecated and will be removed in a future version. Check `isinstance(dtype, pd.SparseDtype)` instead.\n",
      "  if not hasattr(array, \"sparse\") and array.dtypes.apply(is_sparse).any():\n",
      "e:\\Epsilon_DS\\finalProject\\STREAMLIT\\lib\\site-packages\\sklearn\\utils\\validation.py:605: FutureWarning: is_sparse is deprecated and will be removed in a future version. Check `isinstance(dtype, pd.SparseDtype)` instead.\n",
      "  if is_sparse(pd_dtype):\n",
      "e:\\Epsilon_DS\\finalProject\\STREAMLIT\\lib\\site-packages\\sklearn\\utils\\validation.py:614: FutureWarning: is_sparse is deprecated and will be removed in a future version. Check `isinstance(dtype, pd.SparseDtype)` instead.\n",
      "  if is_sparse(pd_dtype) or not is_extension_array_dtype(pd_dtype):\n",
      "e:\\Epsilon_DS\\finalProject\\STREAMLIT\\lib\\site-packages\\sklearn\\utils\\validation.py:767: FutureWarning: is_sparse is deprecated and will be removed in a future version. Check `isinstance(dtype, pd.SparseDtype)` instead.\n",
      "  if not hasattr(array, \"sparse\") and array.dtypes.apply(is_sparse).any():\n",
      "e:\\Epsilon_DS\\finalProject\\STREAMLIT\\lib\\site-packages\\sklearn\\utils\\validation.py:605: FutureWarning: is_sparse is deprecated and will be removed in a future version. Check `isinstance(dtype, pd.SparseDtype)` instead.\n",
      "  if is_sparse(pd_dtype):\n",
      "e:\\Epsilon_DS\\finalProject\\STREAMLIT\\lib\\site-packages\\sklearn\\utils\\validation.py:614: FutureWarning: is_sparse is deprecated and will be removed in a future version. Check `isinstance(dtype, pd.SparseDtype)` instead.\n",
      "  if is_sparse(pd_dtype) or not is_extension_array_dtype(pd_dtype):\n",
      "e:\\Epsilon_DS\\finalProject\\STREAMLIT\\lib\\site-packages\\sklearn\\utils\\validation.py:767: FutureWarning: is_sparse is deprecated and will be removed in a future version. Check `isinstance(dtype, pd.SparseDtype)` instead.\n",
      "  if not hasattr(array, \"sparse\") and array.dtypes.apply(is_sparse).any():\n",
      "e:\\Epsilon_DS\\finalProject\\STREAMLIT\\lib\\site-packages\\sklearn\\utils\\validation.py:605: FutureWarning: is_sparse is deprecated and will be removed in a future version. Check `isinstance(dtype, pd.SparseDtype)` instead.\n",
      "  if is_sparse(pd_dtype):\n",
      "e:\\Epsilon_DS\\finalProject\\STREAMLIT\\lib\\site-packages\\sklearn\\utils\\validation.py:614: FutureWarning: is_sparse is deprecated and will be removed in a future version. Check `isinstance(dtype, pd.SparseDtype)` instead.\n",
      "  if is_sparse(pd_dtype) or not is_extension_array_dtype(pd_dtype):\n",
      "e:\\Epsilon_DS\\finalProject\\STREAMLIT\\lib\\site-packages\\sklearn\\utils\\validation.py:767: FutureWarning: is_sparse is deprecated and will be removed in a future version. Check `isinstance(dtype, pd.SparseDtype)` instead.\n",
      "  if not hasattr(array, \"sparse\") and array.dtypes.apply(is_sparse).any():\n",
      "e:\\Epsilon_DS\\finalProject\\STREAMLIT\\lib\\site-packages\\sklearn\\utils\\validation.py:605: FutureWarning: is_sparse is deprecated and will be removed in a future version. Check `isinstance(dtype, pd.SparseDtype)` instead.\n",
      "  if is_sparse(pd_dtype):\n",
      "e:\\Epsilon_DS\\finalProject\\STREAMLIT\\lib\\site-packages\\sklearn\\utils\\validation.py:614: FutureWarning: is_sparse is deprecated and will be removed in a future version. Check `isinstance(dtype, pd.SparseDtype)` instead.\n",
      "  if is_sparse(pd_dtype) or not is_extension_array_dtype(pd_dtype):\n",
      "e:\\Epsilon_DS\\finalProject\\STREAMLIT\\lib\\site-packages\\sklearn\\utils\\validation.py:767: FutureWarning: is_sparse is deprecated and will be removed in a future version. Check `isinstance(dtype, pd.SparseDtype)` instead.\n",
      "  if not hasattr(array, \"sparse\") and array.dtypes.apply(is_sparse).any():\n",
      "e:\\Epsilon_DS\\finalProject\\STREAMLIT\\lib\\site-packages\\sklearn\\utils\\validation.py:605: FutureWarning: is_sparse is deprecated and will be removed in a future version. Check `isinstance(dtype, pd.SparseDtype)` instead.\n",
      "  if is_sparse(pd_dtype):\n",
      "e:\\Epsilon_DS\\finalProject\\STREAMLIT\\lib\\site-packages\\sklearn\\utils\\validation.py:614: FutureWarning: is_sparse is deprecated and will be removed in a future version. Check `isinstance(dtype, pd.SparseDtype)` instead.\n",
      "  if is_sparse(pd_dtype) or not is_extension_array_dtype(pd_dtype):\n"
     ]
    }
   ],
   "source": [
    "## Pipeline\n",
    "\n",
    "## Numerical: num_cols --> Imputing using median, and standardscaler\n",
    "## Categorical: cat_cols ---> Imputing using mode, and OHE\n",
    "## Ordinal: ord_cols_1, ord_cols_2 ---> Imputing using mode, and ordinalEncoder\n",
    "\n",
    "## For Numerical\n",
    "num_pipeline = Pipeline(steps=[\n",
    "                        ('selector', DataFrameSelector(num_cols)),\n",
    "                        ('imputer', SimpleImputer(strategy='median')),\n",
    "                        ('scaler', MinMaxScaler())\n",
    "                    ])\n",
    "\n",
    "\n",
    "## For Categorical\n",
    "cat_pipeline = Pipeline(steps=[\n",
    "                        ('selector', DataFrameSelector(cat_cols)),\n",
    "                        ('imputer', SimpleImputer(strategy='most_frequent')),\n",
    "                        ('ohe', OneHotEncoder(drop='first', sparse_output=False))\n",
    "                    ])\n",
    "\n",
    "\n",
    "## For ord_cols_1\n",
    "ordinal_pipeline_1 = Pipeline(steps=[\n",
    "                        ('selector', DataFrameSelector(ord_cols_1)),\n",
    "                        ('imputer', SimpleImputer(strategy='most_frequent')),\n",
    "                        ('encoder',OrdinalEncoder(categories=[['No', 'Cable', 'DSL', 'Fiber Optic']]))\n",
    "                    ])\n",
    "\n",
    "\n",
    "## For ord_cols_1\n",
    "ordinal_pipeline_2 = Pipeline(steps=[\n",
    "                        ('selector', DataFrameSelector(ord_cols_2)),\n",
    "                        ('imputer', SimpleImputer(strategy='most_frequent')),\n",
    "                        ('encoder',OrdinalEncoder(categories=[['Month-to-Month', 'One Year', 'Two Year']]))\n",
    "                    ])\n",
    "\n",
    "\n",
    "## combine all\n",
    "all_pipeline = FeatureUnion(transformer_list=[\n",
    "                                    ('numerical', num_pipeline),\n",
    "                                    ('categorical', cat_pipeline),\n",
    "                                    ('ord_1', ordinal_pipeline_1),\n",
    "                                    ('ord_2', ordinal_pipeline_2)\n",
    "                                ])\n",
    "\n",
    "## apply\n",
    "X_train_final = all_pipeline.fit_transform(X_train)\n",
    "X_val_final = all_pipeline.transform(X_val)\n",
    "# X_test_final = all_pipeline.transform(X_test)"
   ]
  },
  {
   "cell_type": "code",
   "execution_count": 26,
   "metadata": {},
   "outputs": [
    {
     "name": "stdout",
     "output_type": "stream",
     "text": [
      "(4216, 22)\n",
      "(1055, 22)\n"
     ]
    }
   ],
   "source": [
    "print(X_train_final.shape)\n",
    "print(X_val_final.shape)"
   ]
  },
  {
   "cell_type": "markdown",
   "metadata": {},
   "source": [
    "### Solving class imbalance using SMOTE for over sampling"
   ]
  },
  {
   "cell_type": "code",
   "execution_count": 27,
   "metadata": {},
   "outputs": [
    {
     "name": "stderr",
     "output_type": "stream",
     "text": [
      "e:\\Epsilon_DS\\finalProject\\STREAMLIT\\lib\\site-packages\\sklearn\\utils\\validation.py:605: FutureWarning: is_sparse is deprecated and will be removed in a future version. Check `isinstance(dtype, pd.SparseDtype)` instead.\n",
      "  if is_sparse(pd_dtype):\n",
      "e:\\Epsilon_DS\\finalProject\\STREAMLIT\\lib\\site-packages\\sklearn\\utils\\validation.py:614: FutureWarning: is_sparse is deprecated and will be removed in a future version. Check `isinstance(dtype, pd.SparseDtype)` instead.\n",
      "  if is_sparse(pd_dtype) or not is_extension_array_dtype(pd_dtype):\n",
      "e:\\Epsilon_DS\\finalProject\\STREAMLIT\\lib\\site-packages\\sklearn\\utils\\validation.py:605: FutureWarning: is_sparse is deprecated and will be removed in a future version. Check `isinstance(dtype, pd.SparseDtype)` instead.\n",
      "  if is_sparse(pd_dtype):\n",
      "e:\\Epsilon_DS\\finalProject\\STREAMLIT\\lib\\site-packages\\sklearn\\utils\\validation.py:614: FutureWarning: is_sparse is deprecated and will be removed in a future version. Check `isinstance(dtype, pd.SparseDtype)` instead.\n",
      "  if is_sparse(pd_dtype) or not is_extension_array_dtype(pd_dtype):\n"
     ]
    }
   ],
   "source": [
    "# transform target\n",
    "le = LabelEncoder()\n",
    "y_train_final = le.fit_transform(y_train)\n",
    "y_val_final = le.transform(y_val)"
   ]
  },
  {
   "cell_type": "code",
   "execution_count": 28,
   "metadata": {},
   "outputs": [
    {
     "data": {
      "text/plain": [
       "array([1, 1, 1, 1, 0])"
      ]
     },
     "execution_count": 28,
     "metadata": {},
     "output_type": "execute_result"
    }
   ],
   "source": [
    "y_train_final[:5]"
   ]
  },
  {
   "cell_type": "code",
   "execution_count": 29,
   "metadata": {},
   "outputs": [
    {
     "data": {
      "text/plain": [
       "array([1, 0, 0, 1, 0])"
      ]
     },
     "execution_count": 29,
     "metadata": {},
     "output_type": "execute_result"
    }
   ],
   "source": [
    "y_val_final[:5]"
   ]
  },
  {
   "cell_type": "code",
   "execution_count": 30,
   "metadata": {},
   "outputs": [],
   "source": [
    "over = SMOTE(sampling_strategy=0.8, random_state=42)\n",
    "X_train_resampled, y_train_resampled = over.fit_resample(X_train_final, y_train_final)"
   ]
  },
  {
   "cell_type": "code",
   "execution_count": 31,
   "metadata": {},
   "outputs": [
    {
     "name": "stdout",
     "output_type": "stream",
     "text": [
      "(5436, 22)\n",
      "(5436,)\n"
     ]
    }
   ],
   "source": [
    "print(X_train_resampled.shape)\n",
    "print(y_train_resampled.shape)"
   ]
  },
  {
   "cell_type": "markdown",
   "metadata": {},
   "source": [
    "### Saving processed datasets"
   ]
  },
  {
   "cell_type": "code",
   "execution_count": 32,
   "metadata": {},
   "outputs": [],
   "source": [
    "with open(os.path.join(EXPORT_PATH, 'X_train.pkl'), 'wb') as f:\n",
    "    pickle.dump(X_train_resampled,f)"
   ]
  },
  {
   "cell_type": "code",
   "execution_count": 33,
   "metadata": {},
   "outputs": [],
   "source": [
    "with open(os.path.join(EXPORT_PATH, 'X_val.pkl'), 'wb') as f:\n",
    "    pickle.dump(X_val_final,f)"
   ]
  },
  {
   "cell_type": "code",
   "execution_count": 34,
   "metadata": {},
   "outputs": [],
   "source": [
    "with open(os.path.join(EXPORT_PATH, 'y_train.pkl'), 'wb') as f:\n",
    "    pickle.dump(y_train_resampled,f)"
   ]
  },
  {
   "cell_type": "code",
   "execution_count": 35,
   "metadata": {},
   "outputs": [],
   "source": [
    "with open(os.path.join(EXPORT_PATH, 'y_val.pkl'), 'wb') as f:\n",
    "    pickle.dump(y_val_final,f)"
   ]
  },
  {
   "cell_type": "code",
   "execution_count": 36,
   "metadata": {},
   "outputs": [],
   "source": [
    "with open(os.path.join(EXPORT_PATH, 'X_test.pkl'), 'wb') as f:\n",
    "    pickle.dump(X_test,f)"
   ]
  },
  {
   "cell_type": "code",
   "execution_count": 37,
   "metadata": {},
   "outputs": [],
   "source": [
    "with open(os.path.join(EXPORT_PATH, 'y_test.pkl'), 'wb') as f:\n",
    "    pickle.dump(y_test,f)"
   ]
  }
 ],
 "metadata": {
  "kernelspec": {
   "display_name": "Python 3",
   "language": "python",
   "name": "python3"
  },
  "language_info": {
   "codemirror_mode": {
    "name": "ipython",
    "version": 3
   },
   "file_extension": ".py",
   "mimetype": "text/x-python",
   "name": "python",
   "nbconvert_exporter": "python",
   "pygments_lexer": "ipython3",
   "version": "3.10.3"
  },
  "orig_nbformat": 4
 },
 "nbformat": 4,
 "nbformat_minor": 2
}
